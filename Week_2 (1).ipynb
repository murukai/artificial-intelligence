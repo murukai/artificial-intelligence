{
 "cells": [
  {
   "cell_type": "markdown",
   "metadata": {},
   "source": [
    "# Loops : iterations "
   ]
  },
  {
   "cell_type": "markdown",
   "metadata": {},
   "source": [
    "## 1. for loop : iterate over a sequence ( string list tuple...)"
   ]
  },
  {
   "cell_type": "raw",
   "metadata": {},
   "source": [
    "# Syntax\n",
    "for loop_variable in iteration_object :\n",
    "    statement 1\n",
    "    statement 2\n",
    "    statement 3\n",
    "    .......\n",
    "    "
   ]
  },
  {
   "cell_type": "code",
   "execution_count": 5,
   "metadata": {},
   "outputs": [
    {
     "name": "stdout",
     "output_type": "stream",
     "text": [
      "N\n",
      "i\n",
      "m\n",
      "i\n"
     ]
    }
   ],
   "source": [
    "print('N')\n",
    "print('i')\n",
    "print('m')\n",
    "print('i')"
   ]
  },
  {
   "cell_type": "code",
   "execution_count": 6,
   "metadata": {},
   "outputs": [
    {
     "name": "stdout",
     "output_type": "stream",
     "text": [
      "P\n",
      "y\n",
      "t\n",
      "h\n",
      "o\n",
      "n\n"
     ]
    }
   ],
   "source": [
    "for i in 'Python' :\n",
    "    print(i)"
   ]
  },
  {
   "cell_type": "code",
   "execution_count": 3,
   "metadata": {},
   "outputs": [],
   "source": [
    "basket = ['apple','bananas', 'potato', 'broccoli', 'okra','lettuce', 'cheese', 'yogurt', 'milk']"
   ]
  },
  {
   "cell_type": "code",
   "execution_count": 7,
   "metadata": {},
   "outputs": [
    {
     "name": "stdout",
     "output_type": "stream",
     "text": [
      "apple\n",
      "bananas\n",
      "potato\n",
      "broccoli\n",
      "okra\n",
      "lettuce\n",
      "cheese\n",
      "yogurt\n",
      "milk\n"
     ]
    }
   ],
   "source": [
    "for i in basket :\n",
    "    print(i)"
   ]
  },
  {
   "cell_type": "markdown",
   "metadata": {},
   "source": [
    "# print all the other elements and in all caps "
   ]
  },
  {
   "cell_type": "code",
   "execution_count": 8,
   "metadata": {},
   "outputs": [
    {
     "data": {
      "text/plain": [
       "['apple', 'potato', 'okra', 'cheese', 'milk']"
      ]
     },
     "execution_count": 8,
     "metadata": {},
     "output_type": "execute_result"
    }
   ],
   "source": [
    "basket[ : : 2]"
   ]
  },
  {
   "cell_type": "code",
   "execution_count": 9,
   "metadata": {},
   "outputs": [
    {
     "name": "stdout",
     "output_type": "stream",
     "text": [
      "APPLE\n",
      "POTATO\n",
      "OKRA\n",
      "CHEESE\n",
      "MILK\n"
     ]
    }
   ],
   "source": [
    "for i in [0,2,4,6,8]:\n",
    "    print(basket[i].upper())"
   ]
  },
  {
   "cell_type": "markdown",
   "metadata": {},
   "source": [
    "## print my name 10 times "
   ]
  },
  {
   "cell_type": "code",
   "execution_count": 10,
   "metadata": {},
   "outputs": [
    {
     "name": "stdout",
     "output_type": "stream",
     "text": [
      "Nimisha\n",
      "Nimisha\n",
      "Nimisha\n",
      "Nimisha\n",
      "Nimisha\n",
      "Nimisha\n",
      "Nimisha\n",
      "Nimisha\n",
      "Nimisha\n",
      "Nimisha\n"
     ]
    }
   ],
   "source": [
    "for i in [0,1,2,3,4,5,6,7,8,9]:\n",
    "    print('Nimisha')"
   ]
  },
  {
   "cell_type": "markdown",
   "metadata": {},
   "source": [
    "#  range() --> generates a sequence of int values \n",
    "## range(stop) --> this will create a range objecct starting from 0 till stop value (excluding stop)\n",
    "## range(start, stop [, step ]) --> this will create a range object starting from start (included) till stop(excluding)"
   ]
  },
  {
   "cell_type": "code",
   "execution_count": 11,
   "metadata": {},
   "outputs": [
    {
     "data": {
      "text/plain": [
       "range(0, 10)"
      ]
     },
     "execution_count": 11,
     "metadata": {},
     "output_type": "execute_result"
    }
   ],
   "source": [
    "range(10) # iteration object "
   ]
  },
  {
   "cell_type": "code",
   "execution_count": 12,
   "metadata": {},
   "outputs": [
    {
     "data": {
      "text/plain": [
       "[0, 1, 2, 3, 4, 5, 6, 7, 8, 9]"
      ]
     },
     "execution_count": 12,
     "metadata": {},
     "output_type": "execute_result"
    }
   ],
   "source": [
    "list(range(10))"
   ]
  },
  {
   "cell_type": "code",
   "execution_count": 13,
   "metadata": {},
   "outputs": [
    {
     "name": "stdout",
     "output_type": "stream",
     "text": [
      "Nimisha\n",
      "Nimisha\n",
      "Nimisha\n",
      "Nimisha\n",
      "Nimisha\n",
      "Nimisha\n",
      "Nimisha\n",
      "Nimisha\n",
      "Nimisha\n",
      "Nimisha\n"
     ]
    }
   ],
   "source": [
    "for i in range(10):\n",
    "    print('Nimisha')"
   ]
  },
  {
   "cell_type": "code",
   "execution_count": 15,
   "metadata": {},
   "outputs": [
    {
     "name": "stdout",
     "output_type": "stream",
     "text": [
      "APPLE\n",
      "POTATO\n",
      "OKRA\n",
      "CHEESE\n",
      "MILK\n"
     ]
    }
   ],
   "source": [
    "for i in range(0 , len(basket), 2):\n",
    "    print(basket[i].upper())"
   ]
  },
  {
   "cell_type": "code",
   "execution_count": 20,
   "metadata": {},
   "outputs": [
    {
     "data": {
      "text/plain": [
       "range(1, 6)"
      ]
     },
     "execution_count": 20,
     "metadata": {},
     "output_type": "execute_result"
    }
   ],
   "source": [
    "range(1,6)"
   ]
  },
  {
   "cell_type": "markdown",
   "metadata": {},
   "source": [
    "## 2. while loop : executes till the time an exxpression is true "
   ]
  },
  {
   "cell_type": "code",
   "execution_count": 25,
   "metadata": {},
   "outputs": [
    {
     "name": "stdout",
     "output_type": "stream",
     "text": [
      "0\n",
      "1\n",
      "2\n",
      "3\n",
      "4\n",
      "5\n",
      "6\n",
      "7\n",
      "8\n",
      "9\n"
     ]
    }
   ],
   "source": [
    "num = 0\n",
    "while num < 10 :\n",
    "    print(num, end = '\\n')\n",
    "    num += 1"
   ]
  },
  {
   "cell_type": "markdown",
   "metadata": {},
   "source": [
    "## Compute factorial of any number\n",
    "### 5! = 5 * 4 * 3 * 2 * 1"
   ]
  },
  {
   "cell_type": "code",
   "execution_count": 27,
   "metadata": {},
   "outputs": [
    {
     "name": "stdin",
     "output_type": "stream",
     "text": [
      "Please enter a number : 5\n"
     ]
    },
    {
     "name": "stdout",
     "output_type": "stream",
     "text": [
      "1 * 5 = 5\n",
      "5 * 4 = 20\n",
      "20 * 3 = 60\n",
      "60 * 2 = 120\n",
      "120 * 1 = 120\n"
     ]
    }
   ],
   "source": [
    "num = int(input('Please enter a number :'))\n",
    "fac = 1\n",
    "for i in range(num , 0, -1):\n",
    "    print(fac, '*', i , '=', fac *i)     \n",
    "    fac *= i\n",
    "    "
   ]
  },
  {
   "cell_type": "code",
   "execution_count": 33,
   "metadata": {},
   "outputs": [
    {
     "name": "stdin",
     "output_type": "stream",
     "text": [
      "Please enter a number : 5\n"
     ]
    },
    {
     "name": "stdout",
     "output_type": "stream",
     "text": [
      "1 * 5 = 5\n",
      "5 * 4 = 20\n",
      "20 * 3 = 60\n",
      "60 * 2 = 120\n",
      "120 * 1 = 120\n"
     ]
    }
   ],
   "source": [
    "num = int(input('Please enter a number :'))\n",
    "fac2 = 1\n",
    "while num >=1:\n",
    "    print(fac2, '*', num , '=', fac2 *num)     \n",
    "    fac2 *= num\n",
    "    num -= 1\n"
   ]
  },
  {
   "cell_type": "code",
   "execution_count": 30,
   "metadata": {},
   "outputs": [],
   "source": [
    "# a += 1 ==> a = a+1"
   ]
  },
  {
   "cell_type": "markdown",
   "metadata": {},
   "source": [
    "## check if a number is prime or not \n",
    "#### num which is only divisible by 1 and itself \n",
    "#### need to check the divisibilty of the number from 2 to num -1"
   ]
  },
  {
   "cell_type": "code",
   "execution_count": 37,
   "metadata": {},
   "outputs": [
    {
     "name": "stdin",
     "output_type": "stream",
     "text": [
      "Please enter a number : 12\n"
     ]
    },
    {
     "name": "stdout",
     "output_type": "stream",
     "text": [
      "Non Prime\n"
     ]
    }
   ],
   "source": [
    "num = int(input('Please enter a number :'))\n",
    "result = 'Prime'\n",
    "for i in range(2, num ):\n",
    "    if num % i == 0 :\n",
    "        result = 'Non Prime'\n",
    "print(result)"
   ]
  },
  {
   "cell_type": "code",
   "execution_count": 38,
   "metadata": {},
   "outputs": [
    {
     "data": {
      "text/plain": [
       "11"
      ]
     },
     "execution_count": 38,
     "metadata": {},
     "output_type": "execute_result"
    }
   ],
   "source": [
    "i"
   ]
  },
  {
   "cell_type": "markdown",
   "metadata": {},
   "source": [
    "# flow control statements :\n",
    "## break : terminate the loop \n",
    "## continue : skip the remaining steps in the iteration"
   ]
  },
  {
   "cell_type": "code",
   "execution_count": 39,
   "metadata": {},
   "outputs": [
    {
     "name": "stdin",
     "output_type": "stream",
     "text": [
      "Please enter a number : 32\n"
     ]
    },
    {
     "name": "stdout",
     "output_type": "stream",
     "text": [
      "Non Prime\n"
     ]
    }
   ],
   "source": [
    "num = int(input('Please enter a number :'))\n",
    "result = 'Prime'\n",
    "for i in range(2, num ):\n",
    "    if num % i == 0 :\n",
    "        result = 'Non Prime'\n",
    "        break\n",
    "print(result)"
   ]
  },
  {
   "cell_type": "code",
   "execution_count": 40,
   "metadata": {},
   "outputs": [
    {
     "data": {
      "text/plain": [
       "2"
      ]
     },
     "execution_count": 40,
     "metadata": {},
     "output_type": "execute_result"
    }
   ],
   "source": [
    "i"
   ]
  },
  {
   "cell_type": "code",
   "execution_count": 43,
   "metadata": {},
   "outputs": [
    {
     "name": "stdout",
     "output_type": "stream",
     "text": [
      "P\n",
      "y\n",
      "t\n",
      "o\n",
      "n\n"
     ]
    }
   ],
   "source": [
    "h = 0\n",
    "for i in 'Python':\n",
    "    if i == 'h':\n",
    "        h = 1\n",
    "        continue\n",
    "    print(i)\n",
    "    "
   ]
  },
  {
   "cell_type": "markdown",
   "metadata": {},
   "source": [
    "### for else statement \n",
    "#### else block is executed once the loop is finished \n",
    "#### else block is not executed if break is encountered"
   ]
  },
  {
   "cell_type": "code",
   "execution_count": 44,
   "metadata": {},
   "outputs": [
    {
     "name": "stdout",
     "output_type": "stream",
     "text": [
      "0\n",
      "1\n",
      "2\n",
      "3\n",
      "4\n",
      "5\n",
      "finished\n"
     ]
    }
   ],
   "source": [
    "for x in range(6):\n",
    "    print(x)\n",
    "else :\n",
    "    print('finished')\n",
    "    "
   ]
  },
  {
   "cell_type": "code",
   "execution_count": 48,
   "metadata": {},
   "outputs": [
    {
     "name": "stdout",
     "output_type": "stream",
     "text": [
      "0\n",
      "1\n",
      "2\n",
      "3\n",
      "4\n",
      "5\n",
      "6\n",
      "7\n",
      "8\n",
      "9\n",
      "finished\n"
     ]
    }
   ],
   "source": [
    "for i in range(10):\n",
    "    print(i)\n",
    "    if i == 5:\n",
    "        continue\n",
    "else :\n",
    "    print('finished')"
   ]
  },
  {
   "cell_type": "code",
   "execution_count": 50,
   "metadata": {},
   "outputs": [
    {
     "name": "stdin",
     "output_type": "stream",
     "text": [
      "Pls enter a number :  37\n"
     ]
    },
    {
     "name": "stdout",
     "output_type": "stream",
     "text": [
      "Prime\n"
     ]
    }
   ],
   "source": [
    "num = int(input('Pls enter a number : '))\n",
    "for i in range(2, num):\n",
    "    if num%i == 0 :\n",
    "        print('non prime')\n",
    "        break\n",
    "else : print('Prime')"
   ]
  },
  {
   "cell_type": "code",
   "execution_count": 52,
   "metadata": {},
   "outputs": [],
   "source": [
    "numbers = [23,45,98,45,32,66,86,77,53, 45]\n",
    "# create a new list from the abovve list with only odds"
   ]
  },
  {
   "cell_type": "code",
   "execution_count": 53,
   "metadata": {},
   "outputs": [
    {
     "data": {
      "text/plain": [
       "[23, 45, 45, 77, 53, 45]"
      ]
     },
     "execution_count": 53,
     "metadata": {},
     "output_type": "execute_result"
    }
   ],
   "source": [
    "odd_number = []\n",
    "for i in numbers:\n",
    "    if i %2 != 0:\n",
    "        odd_number.append(i)\n",
    "odd_number"
   ]
  },
  {
   "cell_type": "code",
   "execution_count": 57,
   "metadata": {},
   "outputs": [
    {
     "data": {
      "text/plain": [
       "[529, 2025, 2025, 5929, 2809, 2025]"
      ]
     },
     "execution_count": 57,
     "metadata": {},
     "output_type": "execute_result"
    }
   ],
   "source": [
    "# odd_number = [<iterable> <loop> <condition>]\n",
    "odd_number = [i**2 for i in numbers if i%2 !=0]\n",
    "odd_number"
   ]
  },
  {
   "cell_type": "markdown",
   "metadata": {},
   "source": [
    "### Ex. Write a code to generate a dictionary that contains (i, i*i) such that i is an number between 1 and n (both included). and then the program should print the dictionary."
   ]
  },
  {
   "cell_type": "code",
   "execution_count": null,
   "metadata": {},
   "outputs": [],
   "source": [
    "{<key : value> < loop > <condition>}"
   ]
  },
  {
   "cell_type": "code",
   "execution_count": 58,
   "metadata": {},
   "outputs": [
    {
     "data": {
      "text/plain": [
       "{1: 1, 2: 4, 3: 9, 4: 16, 5: 25, 6: 36, 7: 49, 8: 64, 9: 81, 10: 100}"
      ]
     },
     "execution_count": 58,
     "metadata": {},
     "output_type": "execute_result"
    }
   ],
   "source": [
    "n = 10\n",
    "{ i : i**2 for i in range(1,n+1)}"
   ]
  },
  {
   "cell_type": "code",
   "execution_count": 61,
   "metadata": {},
   "outputs": [
    {
     "data": {
      "text/plain": [
       "['apple',\n",
       " 'bananas',\n",
       " 'potato',\n",
       " 'broccoli',\n",
       " 'okra',\n",
       " 'lettuce',\n",
       " 'cheese',\n",
       " 'yogurt',\n",
       " 'milk']"
      ]
     },
     "execution_count": 61,
     "metadata": {},
     "output_type": "execute_result"
    }
   ],
   "source": [
    "basket"
   ]
  },
  {
   "cell_type": "code",
   "execution_count": 63,
   "metadata": {},
   "outputs": [],
   "source": [
    "ht = [1.50,1.55,1.53,1.52,1.57, 1.58]\n",
    "wt = [55,57.5,54.6, 56.5,55.7,54.7]"
   ]
  },
  {
   "cell_type": "code",
   "execution_count": 66,
   "metadata": {},
   "outputs": [],
   "source": [
    "BMI = [round( wt[i]/ ht[i]**2, 2) for i in range(len(wt)) ]"
   ]
  },
  {
   "cell_type": "code",
   "execution_count": 67,
   "metadata": {},
   "outputs": [
    {
     "data": {
      "text/plain": [
       "[24.44, 23.93, 23.32, 24.45, 22.6, 21.91]"
      ]
     },
     "execution_count": 67,
     "metadata": {},
     "output_type": "execute_result"
    }
   ],
   "source": [
    "BMI"
   ]
  },
  {
   "cell_type": "code",
   "execution_count": 68,
   "metadata": {},
   "outputs": [
    {
     "data": {
      "text/plain": [
       "[24.44, 23.93, 23.32, 24.45, 22.6, 21.91]"
      ]
     },
     "execution_count": 68,
     "metadata": {},
     "output_type": "execute_result"
    }
   ],
   "source": [
    "BMI = [ round(w/h**2, 2) for w,h in zip(wt,ht)]\n",
    "BMI"
   ]
  },
  {
   "cell_type": "code",
   "execution_count": 72,
   "metadata": {},
   "outputs": [],
   "source": [
    "ht = [1.50,1.55,1.53,1.52,1.57, 1.58]\n",
    "wt = [55,57.5,54.6, 56.5,55.7]"
   ]
  },
  {
   "cell_type": "code",
   "execution_count": 73,
   "metadata": {},
   "outputs": [
    {
     "data": {
      "text/plain": [
       "[24.44, 23.93, 23.32, 24.45, 22.6]"
      ]
     },
     "execution_count": 73,
     "metadata": {},
     "output_type": "execute_result"
    }
   ],
   "source": [
    "BMI = [ round(w/h**2, 2) for w,h in zip(wt,ht)]\n",
    "BMI"
   ]
  },
  {
   "cell_type": "code",
   "execution_count": 71,
   "metadata": {},
   "outputs": [
    {
     "name": "stdout",
     "output_type": "stream",
     "text": [
      "55 1.5\n",
      "57.5 1.55\n",
      "54.6 1.53\n",
      "56.5 1.52\n",
      "55.7 1.57\n"
     ]
    }
   ],
   "source": [
    "for i,j in zip(wt, ht) :\n",
    "    print(i,j)\n",
    "    "
   ]
  },
  {
   "cell_type": "code",
   "execution_count": 74,
   "metadata": {},
   "outputs": [],
   "source": [
    "### Ex. Write a code to create a list of prime numbers between 2000 and 3000\n",
    "### Ex. write a code to ccreate a list of first 100 prime numbers"
   ]
  },
  {
   "cell_type": "code",
   "execution_count": 75,
   "metadata": {},
   "outputs": [
    {
     "data": {
      "text/plain": [
       "'She sells sea shells on the sea shore'"
      ]
     },
     "execution_count": 75,
     "metadata": {},
     "output_type": "execute_result"
    }
   ],
   "source": [
    "'She sells sea shells on the sea shore' #--> remove vowels --> aeiou "
   ]
  },
  {
   "cell_type": "code",
   "execution_count": 77,
   "metadata": {},
   "outputs": [
    {
     "name": "stdout",
     "output_type": "stream",
     "text": [
      "S\n",
      "Sh\n",
      "Sh\n",
      "Sh \n",
      "Sh s\n",
      "Sh s\n",
      "Sh sl\n",
      "Sh sll\n",
      "Sh slls\n",
      "Sh slls \n",
      "Sh slls s\n",
      "Sh slls s\n",
      "Sh slls s\n",
      "Sh slls s \n",
      "Sh slls s s\n",
      "Sh slls s sh\n",
      "Sh slls s sh\n",
      "Sh slls s shl\n",
      "Sh slls s shll\n",
      "Sh slls s shlls\n",
      "Sh slls s shlls \n",
      "Sh slls s shlls \n",
      "Sh slls s shlls n\n",
      "Sh slls s shlls n \n",
      "Sh slls s shlls n t\n",
      "Sh slls s shlls n th\n",
      "Sh slls s shlls n th\n",
      "Sh slls s shlls n th \n",
      "Sh slls s shlls n th s\n",
      "Sh slls s shlls n th s\n",
      "Sh slls s shlls n th s\n",
      "Sh slls s shlls n th s \n",
      "Sh slls s shlls n th s s\n",
      "Sh slls s shlls n th s sh\n",
      "Sh slls s shlls n th s sh\n",
      "Sh slls s shlls n th s shr\n",
      "Sh slls s shlls n th s shr\n",
      "Sh slls s shlls n th s shr\n"
     ]
    }
   ],
   "source": [
    "n = ''\n",
    "for i in 'She sells sea shells on the sea shore':\n",
    "    if i.lower() not in 'aeiou':\n",
    "        n += i # concatenating \n",
    "    print(n)\n",
    "print(n)"
   ]
  },
  {
   "cell_type": "markdown",
   "metadata": {},
   "source": [
    "## user defined functions "
   ]
  },
  {
   "cell_type": "markdown",
   "metadata": {},
   "source": [
    "# reusable code \n",
    "len() #"
   ]
  },
  {
   "cell_type": "code",
   "execution_count": null,
   "metadata": {},
   "outputs": [],
   "source": [
    "# function definition :\n",
    "def function_name (inputs/arguments) :\n",
    "    statements 1\n",
    "    statements 2\n",
    "    statements 3\n",
    "    return < expression > # optional\n",
    "# function call\n",
    "function_name(required inputs)"
   ]
  },
  {
   "cell_type": "code",
   "execution_count": 85,
   "metadata": {},
   "outputs": [],
   "source": [
    "def isprime(n):\n",
    "    for i in range(2, n):\n",
    "        if n%i == 0 :\n",
    "            print('non prime')\n",
    "            break\n",
    "    else : print('Prime')"
   ]
  },
  {
   "cell_type": "code",
   "execution_count": 92,
   "metadata": {},
   "outputs": [
    {
     "name": "stdout",
     "output_type": "stream",
     "text": [
      "Prime\n"
     ]
    }
   ],
   "source": [
    "isprime(37)"
   ]
  },
  {
   "cell_type": "code",
   "execution_count": 90,
   "metadata": {},
   "outputs": [
    {
     "data": {
      "text/plain": [
       "34"
      ]
     },
     "execution_count": 90,
     "metadata": {},
     "output_type": "execute_result"
    }
   ],
   "source": [
    "# scope of variables :\n",
    "num = 34\n",
    "num"
   ]
  },
  {
   "cell_type": "code",
   "execution_count": 98,
   "metadata": {},
   "outputs": [],
   "source": [
    "def isprime(n):\n",
    "    print('n = ',n)\n",
    "    for i in range(2, num):\n",
    "        print(num , 'is ', end = '')\n",
    "        if num%i == 0 :\n",
    "            print('non prime')\n",
    "            break\n",
    "    else : print('Prime')"
   ]
  },
  {
   "cell_type": "code",
   "execution_count": 99,
   "metadata": {},
   "outputs": [
    {
     "name": "stdout",
     "output_type": "stream",
     "text": [
      "n =  45\n",
      "34 is non prime\n"
     ]
    }
   ],
   "source": [
    "isprime(45)"
   ]
  },
  {
   "cell_type": "code",
   "execution_count": null,
   "metadata": {},
   "outputs": [],
   "source": [
    "# num is a global variable "
   ]
  },
  {
   "cell_type": "code",
   "execution_count": 96,
   "metadata": {},
   "outputs": [
    {
     "data": {
      "text/plain": [
       "34"
      ]
     },
     "execution_count": 96,
     "metadata": {},
     "output_type": "execute_result"
    }
   ],
   "source": [
    "num"
   ]
  },
  {
   "cell_type": "code",
   "execution_count": 97,
   "metadata": {},
   "outputs": [
    {
     "data": {
      "text/plain": [
       "'Sh slls s shlls n th s shr'"
      ]
     },
     "execution_count": 97,
     "metadata": {},
     "output_type": "execute_result"
    }
   ],
   "source": [
    "n"
   ]
  },
  {
   "cell_type": "markdown",
   "metadata": {},
   "source": [
    "## argumments\n",
    "1. positional vs keyword"
   ]
  },
  {
   "cell_type": "code",
   "execution_count": 101,
   "metadata": {},
   "outputs": [],
   "source": [
    "# which calculates volume of a sphere or cylinder based on the value passed for h \n",
    "def volume (r, h):\n",
    "    if h :\n",
    "        vol = 3.14 * h * r ** 2\n",
    "    else :\n",
    "        vol = 4/3 * 3.14 * r ** 3\n",
    "    return vol"
   ]
  },
  {
   "cell_type": "code",
   "execution_count": 102,
   "metadata": {},
   "outputs": [
    {
     "data": {
      "text/plain": [
       "37.68"
      ]
     },
     "execution_count": 102,
     "metadata": {},
     "output_type": "execute_result"
    }
   ],
   "source": [
    "volume(2,3)"
   ]
  },
  {
   "cell_type": "code",
   "execution_count": 104,
   "metadata": {},
   "outputs": [
    {
     "data": {
      "text/plain": [
       "56.52"
      ]
     },
     "execution_count": 104,
     "metadata": {},
     "output_type": "execute_result"
    }
   ],
   "source": [
    "# r = 3 and h = 2\n",
    "volume ( h = 2, r =3 )"
   ]
  },
  {
   "cell_type": "markdown",
   "metadata": {},
   "source": [
    "2. required vs default "
   ]
  },
  {
   "cell_type": "code",
   "execution_count": 133,
   "metadata": {},
   "outputs": [],
   "source": [
    "def volume2 (r, h = None):\n",
    "    if h :\n",
    "        return print(3.14 * h * r ** 2 , 'Cylinder')\n",
    "    else :\n",
    "        return print(4/3 * 3.14 * r ** 3, 'Sphere')"
   ]
  },
  {
   "cell_type": "code",
   "execution_count": 132,
   "metadata": {},
   "outputs": [
    {
     "name": "stdout",
     "output_type": "stream",
     "text": [
      "523.3333333333334 Sphere\n"
     ]
    }
   ],
   "source": [
    "volume2(5)"
   ]
  },
  {
   "cell_type": "code",
   "execution_count": 120,
   "metadata": {},
   "outputs": [
    {
     "data": {
      "text/plain": [
       "(157.0, 'Cylinder')"
      ]
     },
     "execution_count": 120,
     "metadata": {},
     "output_type": "execute_result"
    }
   ],
   "source": [
    "volume2(5, 2)"
   ]
  },
  {
   "cell_type": "code",
   "execution_count": 125,
   "metadata": {},
   "outputs": [
    {
     "data": {
      "text/plain": [
       "True"
      ]
     },
     "execution_count": 125,
     "metadata": {},
     "output_type": "execute_result"
    }
   ],
   "source": [
    "0 == False"
   ]
  },
  {
   "cell_type": "code",
   "execution_count": null,
   "metadata": {},
   "outputs": [],
   "source": [
    "if expression --> true / false "
   ]
  },
  {
   "cell_type": "code",
   "execution_count": 126,
   "metadata": {},
   "outputs": [
    {
     "data": {
      "text/plain": [
       "True"
      ]
     },
     "execution_count": 126,
     "metadata": {},
     "output_type": "execute_result"
    }
   ],
   "source": [
    "if h :\n",
    "    \n",
    "h =0 --> False\n",
    "h != 0 --> True \n"
   ]
  },
  {
   "cell_type": "code",
   "execution_count": 127,
   "metadata": {},
   "outputs": [],
   "source": [
    "h = None"
   ]
  },
  {
   "cell_type": "code",
   "execution_count": 130,
   "metadata": {},
   "outputs": [
    {
     "name": "stdout",
     "output_type": "stream",
     "text": [
      "none\n"
     ]
    }
   ],
   "source": [
    "if not h:\n",
    "    print('none')"
   ]
  },
  {
   "cell_type": "code",
   "execution_count": 137,
   "metadata": {},
   "outputs": [],
   "source": [
    "def volume(r,h = None):\n",
    "    global vol\n",
    "    if h:\n",
    "        vol = 3.14 * h * r ** 2 \n",
    "    else :\n",
    "        vol = 4/3 * 3.14 * r ** 3"
   ]
  },
  {
   "cell_type": "code",
   "execution_count": 138,
   "metadata": {},
   "outputs": [],
   "source": [
    "volume(2,2)"
   ]
  },
  {
   "cell_type": "code",
   "execution_count": 139,
   "metadata": {},
   "outputs": [
    {
     "data": {
      "text/plain": [
       "25.12"
      ]
     },
     "execution_count": 139,
     "metadata": {},
     "output_type": "execute_result"
    }
   ],
   "source": [
    "vol"
   ]
  },
  {
   "cell_type": "code",
   "execution_count": 140,
   "metadata": {},
   "outputs": [
    {
     "ename": "NameError",
     "evalue": "name 'r' is not defined",
     "output_type": "error",
     "traceback": [
      "\u001b[0;31m---------------------------------------------------------------------------\u001b[0m",
      "\u001b[0;31mNameError\u001b[0m                                 Traceback (most recent call last)",
      "\u001b[0;32m<ipython-input-140-d17ca1acc36c>\u001b[0m in \u001b[0;36m<module>\u001b[0;34m\u001b[0m\n\u001b[0;32m----> 1\u001b[0;31m \u001b[0mr\u001b[0m\u001b[0;34m\u001b[0m\u001b[0;34m\u001b[0m\u001b[0m\n\u001b[0m",
      "\u001b[0;31mNameError\u001b[0m: name 'r' is not defined"
     ]
    }
   ],
   "source": [
    "r"
   ]
  },
  {
   "cell_type": "code",
   "execution_count": 141,
   "metadata": {},
   "outputs": [],
   "source": [
    "def change(b):\n",
    "    b.append(12)"
   ]
  },
  {
   "cell_type": "code",
   "execution_count": 142,
   "metadata": {},
   "outputs": [],
   "source": [
    "change(basket)"
   ]
  },
  {
   "cell_type": "code",
   "execution_count": 143,
   "metadata": {},
   "outputs": [
    {
     "data": {
      "text/plain": [
       "['apple',\n",
       " 'bananas',\n",
       " 'potato',\n",
       " 'broccoli',\n",
       " 'okra',\n",
       " 'lettuce',\n",
       " 'cheese',\n",
       " 'yogurt',\n",
       " 'milk',\n",
       " 12]"
      ]
     },
     "execution_count": 143,
     "metadata": {},
     "output_type": "execute_result"
    }
   ],
   "source": [
    "basket"
   ]
  },
  {
   "cell_type": "code",
   "execution_count": 144,
   "metadata": {},
   "outputs": [],
   "source": [
    "# lambda function "
   ]
  },
  {
   "cell_type": "code",
   "execution_count": 152,
   "metadata": {},
   "outputs": [],
   "source": [
    "new_fun = lambda x,y=2 : pow(x,y)"
   ]
  },
  {
   "cell_type": "code",
   "execution_count": 154,
   "metadata": {},
   "outputs": [
    {
     "data": {
      "text/plain": [
       "25"
      ]
     },
     "execution_count": 154,
     "metadata": {},
     "output_type": "execute_result"
    }
   ],
   "source": [
    "new_fun(5)"
   ]
  },
  {
   "cell_type": "code",
   "execution_count": 155,
   "metadata": {},
   "outputs": [],
   "source": [
    "# exception "
   ]
  },
  {
   "cell_type": "code",
   "execution_count": 156,
   "metadata": {},
   "outputs": [
    {
     "name": "stdin",
     "output_type": "stream",
     "text": [
      "Please enter a number 32.2\n"
     ]
    },
    {
     "ename": "ValueError",
     "evalue": "invalid literal for int() with base 10: '32.2'",
     "output_type": "error",
     "traceback": [
      "\u001b[0;31m---------------------------------------------------------------------------\u001b[0m",
      "\u001b[0;31mValueError\u001b[0m                                Traceback (most recent call last)",
      "\u001b[0;32m<ipython-input-156-e1be4851eabc>\u001b[0m in \u001b[0;36m<module>\u001b[0;34m\u001b[0m\n\u001b[0;32m----> 1\u001b[0;31m \u001b[0mnum\u001b[0m \u001b[0;34m=\u001b[0m \u001b[0mint\u001b[0m\u001b[0;34m(\u001b[0m\u001b[0minput\u001b[0m \u001b[0;34m(\u001b[0m\u001b[0;34m'Please enter a number'\u001b[0m\u001b[0;34m)\u001b[0m\u001b[0;34m)\u001b[0m\u001b[0;34m\u001b[0m\u001b[0;34m\u001b[0m\u001b[0m\n\u001b[0m",
      "\u001b[0;31mValueError\u001b[0m: invalid literal for int() with base 10: '32.2'"
     ]
    }
   ],
   "source": [
    "num = int(input ('Please enter a number'))"
   ]
  },
  {
   "cell_type": "code",
   "execution_count": 159,
   "metadata": {},
   "outputs": [
    {
     "name": "stdin",
     "output_type": "stream",
     "text": [
      "Please enter a number 45.6\n"
     ]
    },
    {
     "name": "stdout",
     "output_type": "stream",
     "text": [
      "Wrong fromat\n"
     ]
    }
   ],
   "source": [
    "try :\n",
    "    num = int(input ('Please enter a number'))\n",
    "except ValueError:\n",
    "    print('Wrong fromat')  \n",
    "except :\n",
    "    print('other problem')\n",
    "    "
   ]
  },
  {
   "cell_type": "code",
   "execution_count": 162,
   "metadata": {},
   "outputs": [
    {
     "data": {
      "text/plain": [
       "['ArithmeticError',\n",
       " 'AssertionError',\n",
       " 'AttributeError',\n",
       " 'BaseException',\n",
       " 'BlockingIOError',\n",
       " 'BrokenPipeError',\n",
       " 'BufferError',\n",
       " 'BytesWarning',\n",
       " 'ChildProcessError',\n",
       " 'ConnectionAbortedError',\n",
       " 'ConnectionError',\n",
       " 'ConnectionRefusedError',\n",
       " 'ConnectionResetError',\n",
       " 'DeprecationWarning',\n",
       " 'EOFError',\n",
       " 'Ellipsis',\n",
       " 'EnvironmentError',\n",
       " 'Exception',\n",
       " 'False',\n",
       " 'FileExistsError',\n",
       " 'FileNotFoundError',\n",
       " 'FloatingPointError',\n",
       " 'FutureWarning',\n",
       " 'GeneratorExit',\n",
       " 'IOError',\n",
       " 'ImportError',\n",
       " 'ImportWarning',\n",
       " 'IndentationError',\n",
       " 'IndexError',\n",
       " 'InterruptedError',\n",
       " 'IsADirectoryError',\n",
       " 'KeyError',\n",
       " 'KeyboardInterrupt',\n",
       " 'LookupError',\n",
       " 'MemoryError',\n",
       " 'ModuleNotFoundError',\n",
       " 'NameError',\n",
       " 'None',\n",
       " 'NotADirectoryError',\n",
       " 'NotImplemented',\n",
       " 'NotImplementedError',\n",
       " 'OSError',\n",
       " 'OverflowError',\n",
       " 'PendingDeprecationWarning',\n",
       " 'PermissionError',\n",
       " 'ProcessLookupError',\n",
       " 'RecursionError',\n",
       " 'ReferenceError',\n",
       " 'ResourceWarning',\n",
       " 'RuntimeError',\n",
       " 'RuntimeWarning',\n",
       " 'StopAsyncIteration',\n",
       " 'StopIteration',\n",
       " 'SyntaxError',\n",
       " 'SyntaxWarning',\n",
       " 'SystemError',\n",
       " 'SystemExit',\n",
       " 'TabError',\n",
       " 'TimeoutError',\n",
       " 'True',\n",
       " 'TypeError',\n",
       " 'UnboundLocalError',\n",
       " 'UnicodeDecodeError',\n",
       " 'UnicodeEncodeError',\n",
       " 'UnicodeError',\n",
       " 'UnicodeTranslateError',\n",
       " 'UnicodeWarning',\n",
       " 'UserWarning',\n",
       " 'ValueError',\n",
       " 'Warning',\n",
       " 'ZeroDivisionError',\n",
       " '__IPYTHON__',\n",
       " '__build_class__',\n",
       " '__debug__',\n",
       " '__doc__',\n",
       " '__import__',\n",
       " '__loader__',\n",
       " '__name__',\n",
       " '__package__',\n",
       " '__spec__',\n",
       " 'abs',\n",
       " 'all',\n",
       " 'any',\n",
       " 'ascii',\n",
       " 'bin',\n",
       " 'bool',\n",
       " 'breakpoint',\n",
       " 'bytearray',\n",
       " 'bytes',\n",
       " 'callable',\n",
       " 'chr',\n",
       " 'classmethod',\n",
       " 'compile',\n",
       " 'complex',\n",
       " 'copyright',\n",
       " 'credits',\n",
       " 'delattr',\n",
       " 'dict',\n",
       " 'dir',\n",
       " 'display',\n",
       " 'divmod',\n",
       " 'enumerate',\n",
       " 'eval',\n",
       " 'exec',\n",
       " 'filter',\n",
       " 'float',\n",
       " 'format',\n",
       " 'frozenset',\n",
       " 'get_ipython',\n",
       " 'getattr',\n",
       " 'globals',\n",
       " 'hasattr',\n",
       " 'hash',\n",
       " 'help',\n",
       " 'hex',\n",
       " 'id',\n",
       " 'input',\n",
       " 'int',\n",
       " 'isinstance',\n",
       " 'issubclass',\n",
       " 'iter',\n",
       " 'len',\n",
       " 'license',\n",
       " 'list',\n",
       " 'locals',\n",
       " 'map',\n",
       " 'max',\n",
       " 'memoryview',\n",
       " 'min',\n",
       " 'next',\n",
       " 'object',\n",
       " 'oct',\n",
       " 'open',\n",
       " 'ord',\n",
       " 'pow',\n",
       " 'print',\n",
       " 'property',\n",
       " 'range',\n",
       " 'repr',\n",
       " 'reversed',\n",
       " 'round',\n",
       " 'set',\n",
       " 'setattr',\n",
       " 'slice',\n",
       " 'sorted',\n",
       " 'staticmethod',\n",
       " 'str',\n",
       " 'sum',\n",
       " 'super',\n",
       " 'tuple',\n",
       " 'type',\n",
       " 'vars',\n",
       " 'zip']"
      ]
     },
     "execution_count": 162,
     "metadata": {},
     "output_type": "execute_result"
    }
   ],
   "source": [
    "dir(__builtins__)"
   ]
  },
  {
   "cell_type": "code",
   "execution_count": null,
   "metadata": {},
   "outputs": [],
   "source": []
  },
  {
   "cell_type": "markdown",
   "metadata": {},
   "source": [
    "## module "
   ]
  },
  {
   "cell_type": "code",
   "execution_count": 1,
   "metadata": {},
   "outputs": [],
   "source": [
    "import numpy as np"
   ]
  },
  {
   "cell_type": "code",
   "execution_count": 166,
   "metadata": {},
   "outputs": [
    {
     "data": {
      "text/plain": [
       "\u001b[0;31mType:\u001b[0m        module\n",
       "\u001b[0;31mString form:\u001b[0m <module 'numpy' from '/opt/anaconda3/lib/python3.7/site-packages/numpy/__init__.py'>\n",
       "\u001b[0;31mFile:\u001b[0m        /opt/anaconda3/lib/python3.7/site-packages/numpy/__init__.py\n",
       "\u001b[0;31mDocstring:\u001b[0m  \n",
       "NumPy\n",
       "=====\n",
       "\n",
       "Provides\n",
       "  1. An array object of arbitrary homogeneous items\n",
       "  2. Fast mathematical operations over arrays\n",
       "  3. Linear Algebra, Fourier Transforms, Random Number Generation\n",
       "\n",
       "How to use the documentation\n",
       "----------------------------\n",
       "Documentation is available in two forms: docstrings provided\n",
       "with the code, and a loose standing reference guide, available from\n",
       "`the NumPy homepage <https://www.scipy.org>`_.\n",
       "\n",
       "We recommend exploring the docstrings using\n",
       "`IPython <https://ipython.org>`_, an advanced Python shell with\n",
       "TAB-completion and introspection capabilities.  See below for further\n",
       "instructions.\n",
       "\n",
       "The docstring examples assume that `numpy` has been imported as `np`::\n",
       "\n",
       "  >>> import numpy as np\n",
       "\n",
       "Code snippets are indicated by three greater-than signs::\n",
       "\n",
       "  >>> x = 42\n",
       "  >>> x = x + 1\n",
       "\n",
       "Use the built-in ``help`` function to view a function's docstring::\n",
       "\n",
       "  >>> help(np.sort)\n",
       "  ... # doctest: +SKIP\n",
       "\n",
       "For some objects, ``np.info(obj)`` may provide additional help.  This is\n",
       "particularly true if you see the line \"Help on ufunc object:\" at the top\n",
       "of the help() page.  Ufuncs are implemented in C, not Python, for speed.\n",
       "The native Python help() does not know how to view their help, but our\n",
       "np.info() function does.\n",
       "\n",
       "To search for documents containing a keyword, do::\n",
       "\n",
       "  >>> np.lookfor('keyword')\n",
       "  ... # doctest: +SKIP\n",
       "\n",
       "General-purpose documents like a glossary and help on the basic concepts\n",
       "of numpy are available under the ``doc`` sub-module::\n",
       "\n",
       "  >>> from numpy import doc\n",
       "  >>> help(doc)\n",
       "  ... # doctest: +SKIP\n",
       "\n",
       "Available subpackages\n",
       "---------------------\n",
       "doc\n",
       "    Topical documentation on broadcasting, indexing, etc.\n",
       "lib\n",
       "    Basic functions used by several sub-packages.\n",
       "random\n",
       "    Core Random Tools\n",
       "linalg\n",
       "    Core Linear Algebra Tools\n",
       "fft\n",
       "    Core FFT routines\n",
       "polynomial\n",
       "    Polynomial tools\n",
       "testing\n",
       "    NumPy testing tools\n",
       "f2py\n",
       "    Fortran to Python Interface Generator.\n",
       "distutils\n",
       "    Enhancements to distutils with support for\n",
       "    Fortran compilers support and more.\n",
       "\n",
       "Utilities\n",
       "---------\n",
       "test\n",
       "    Run numpy unittests\n",
       "show_config\n",
       "    Show numpy build configuration\n",
       "dual\n",
       "    Overwrite certain functions with high-performance Scipy tools\n",
       "matlib\n",
       "    Make everything matrices.\n",
       "__version__\n",
       "    NumPy version string\n",
       "\n",
       "Viewing documentation using IPython\n",
       "-----------------------------------\n",
       "Start IPython with the NumPy profile (``ipython -p numpy``), which will\n",
       "import `numpy` under the alias `np`.  Then, use the ``cpaste`` command to\n",
       "paste examples into the shell.  To see which functions are available in\n",
       "`numpy`, type ``np.<TAB>`` (where ``<TAB>`` refers to the TAB key), or use\n",
       "``np.*cos*?<ENTER>`` (where ``<ENTER>`` refers to the ENTER key) to narrow\n",
       "down the list.  To view the docstring for a function, use\n",
       "``np.cos?<ENTER>`` (to view the docstring) and ``np.cos??<ENTER>`` (to view\n",
       "the source code).\n",
       "\n",
       "Copies vs. in-place operation\n",
       "-----------------------------\n",
       "Most of the functions in `numpy` return a copy of the array argument\n",
       "(e.g., `np.sort`).  In-place versions of these functions are often\n",
       "available as array methods, i.e. ``x = np.array([1,2,3]); x.sort()``.\n",
       "Exceptions to this rule are documented.\n"
      ]
     },
     "metadata": {},
     "output_type": "display_data"
    }
   ],
   "source": [
    "?np"
   ]
  },
  {
   "cell_type": "markdown",
   "metadata": {},
   "source": [
    "## Array : homogenous ordered collection of data in 1 or more dimensions"
   ]
  },
  {
   "cell_type": "code",
   "execution_count": 169,
   "metadata": {},
   "outputs": [],
   "source": [
    "ht = [1.5, 1.55, 1.53, 1.52, 1.57, 1.58]\n",
    "wt = [55, 57.5, 54.6, 56.5, 55.7, 56.5]"
   ]
  },
  {
   "cell_type": "code",
   "execution_count": 179,
   "metadata": {},
   "outputs": [],
   "source": [
    "height = np.array(ht)\n",
    "weight = np.array(wt)"
   ]
  },
  {
   "cell_type": "code",
   "execution_count": 172,
   "metadata": {},
   "outputs": [
    {
     "data": {
      "text/plain": [
       "array([1.5 , 1.55, 1.53, 1.52, 1.57, 1.58])"
      ]
     },
     "execution_count": 172,
     "metadata": {},
     "output_type": "execute_result"
    }
   ],
   "source": [
    "height"
   ]
  },
  {
   "cell_type": "code",
   "execution_count": 174,
   "metadata": {},
   "outputs": [
    {
     "data": {
      "text/plain": [
       "[1, 2, 'apple', 'cream', 4.3, True]"
      ]
     },
     "execution_count": 174,
     "metadata": {},
     "output_type": "execute_result"
    }
   ],
   "source": [
    "l = [1,2,'apple','cream', 4.3, True]\n",
    "l"
   ]
  },
  {
   "cell_type": "code",
   "execution_count": 175,
   "metadata": {},
   "outputs": [
    {
     "data": {
      "text/plain": [
       "array(['1', '2', 'apple', 'cream', '4.3', 'True'], dtype='<U21')"
      ]
     },
     "execution_count": 175,
     "metadata": {},
     "output_type": "execute_result"
    }
   ],
   "source": [
    "np.array([1,2,'apple','cream', 4.3, True])"
   ]
  },
  {
   "cell_type": "code",
   "execution_count": 176,
   "metadata": {},
   "outputs": [
    {
     "data": {
      "text/plain": [
       "array(['1', '2', '4.3', 'True'], dtype='<U4')"
      ]
     },
     "execution_count": 176,
     "metadata": {},
     "output_type": "execute_result"
    }
   ],
   "source": [
    "np.array(['1',2, 4.3, True])"
   ]
  },
  {
   "cell_type": "code",
   "execution_count": 177,
   "metadata": {},
   "outputs": [
    {
     "data": {
      "text/plain": [
       "array([1. , 2. , 4.3, 1. ])"
      ]
     },
     "execution_count": 177,
     "metadata": {},
     "output_type": "execute_result"
    }
   ],
   "source": [
    "np.array([1,2, 4.3, True])"
   ]
  },
  {
   "cell_type": "code",
   "execution_count": 178,
   "metadata": {},
   "outputs": [
    {
     "data": {
      "text/plain": [
       "array([1, 2, 4, 1])"
      ]
     },
     "execution_count": 178,
     "metadata": {},
     "output_type": "execute_result"
    }
   ],
   "source": [
    "np.array(['1',2, 4.3, True], dtype = 'int')"
   ]
  },
  {
   "cell_type": "code",
   "execution_count": 181,
   "metadata": {},
   "outputs": [
    {
     "data": {
      "text/plain": [
       "[1.5, 1.55, 1.53, 1.52, 1.57, 1.58, 1.5, 1.55, 1.53, 1.52, 1.57, 1.58]"
      ]
     },
     "execution_count": 181,
     "metadata": {},
     "output_type": "execute_result"
    }
   ],
   "source": [
    "ht*2"
   ]
  },
  {
   "cell_type": "code",
   "execution_count": 182,
   "metadata": {},
   "outputs": [
    {
     "data": {
      "text/plain": [
       "array([3.  , 3.1 , 3.06, 3.04, 3.14, 3.16])"
      ]
     },
     "execution_count": 182,
     "metadata": {},
     "output_type": "execute_result"
    }
   ],
   "source": [
    "height * 2"
   ]
  },
  {
   "cell_type": "code",
   "execution_count": 183,
   "metadata": {},
   "outputs": [
    {
     "data": {
      "text/plain": [
       "array([24.44444444, 23.93340271, 23.32436242, 24.45463989, 22.59726561,\n",
       "       22.63259093])"
      ]
     },
     "execution_count": 183,
     "metadata": {},
     "output_type": "execute_result"
    }
   ],
   "source": [
    "weight/height**2"
   ]
  },
  {
   "cell_type": "code",
   "execution_count": 184,
   "metadata": {},
   "outputs": [],
   "source": [
    "arr_1d = np.array([23,12,34,56,43])"
   ]
  },
  {
   "cell_type": "code",
   "execution_count": 189,
   "metadata": {},
   "outputs": [
    {
     "name": "stdout",
     "output_type": "stream",
     "text": [
      "1\n",
      "5\n",
      "(5,)\n",
      "int64\n"
     ]
    }
   ],
   "source": [
    "print(arr_1d.ndim)\n",
    "print(arr_1d.size)\n",
    "print(arr_1d.shape)\n",
    "print(arr_1d.dtype)"
   ]
  },
  {
   "cell_type": "code",
   "execution_count": 2,
   "metadata": {},
   "outputs": [],
   "source": [
    "arr_2d = np.array([[23, 45, 64],[42, 36, 44],[58, 31, 10]])"
   ]
  },
  {
   "cell_type": "code",
   "execution_count": 3,
   "metadata": {},
   "outputs": [
    {
     "data": {
      "text/plain": [
       "array([[23, 45, 64],\n",
       "       [42, 36, 44],\n",
       "       [58, 31, 10]])"
      ]
     },
     "execution_count": 3,
     "metadata": {},
     "output_type": "execute_result"
    }
   ],
   "source": [
    "arr_2d"
   ]
  },
  {
   "cell_type": "code",
   "execution_count": 4,
   "metadata": {},
   "outputs": [
    {
     "name": "stdout",
     "output_type": "stream",
     "text": [
      "2\n",
      "9\n",
      "(3, 3)\n",
      "int64\n"
     ]
    }
   ],
   "source": [
    "print(arr_2d.ndim)\n",
    "print(arr_2d.size)\n",
    "print(arr_2d.shape)\n",
    "print(arr_2d.dtype)"
   ]
  },
  {
   "cell_type": "code",
   "execution_count": 199,
   "metadata": {},
   "outputs": [
    {
     "data": {
      "text/plain": [
       "array([['', '', ''],\n",
       "       ['', '', '']], dtype='<U1')"
      ]
     },
     "execution_count": 199,
     "metadata": {},
     "output_type": "execute_result"
    }
   ],
   "source": [
    "np.zeros((2,3), dtype = str)"
   ]
  },
  {
   "cell_type": "code",
   "execution_count": 202,
   "metadata": {},
   "outputs": [
    {
     "data": {
      "text/plain": [
       "array([['1', '1', '1'],\n",
       "       ['1', '1', '1']], dtype='<U1')"
      ]
     },
     "execution_count": 202,
     "metadata": {},
     "output_type": "execute_result"
    }
   ],
   "source": [
    "np.ones((2,3), dtype = str)"
   ]
  },
  {
   "cell_type": "code",
   "execution_count": 203,
   "metadata": {},
   "outputs": [
    {
     "data": {
      "text/plain": [
       "array([[0, 0, 0],\n",
       "       [0, 0, 0],\n",
       "       [0, 0, 0]])"
      ]
     },
     "execution_count": 203,
     "metadata": {},
     "output_type": "execute_result"
    }
   ],
   "source": [
    "np.zeros_like(arr_2d)"
   ]
  },
  {
   "cell_type": "code",
   "execution_count": 204,
   "metadata": {},
   "outputs": [
    {
     "data": {
      "text/plain": [
       "array([0., 0., 0., 0., 0., 0.])"
      ]
     },
     "execution_count": 204,
     "metadata": {},
     "output_type": "execute_result"
    }
   ],
   "source": [
    "np.zeros_like(height)"
   ]
  },
  {
   "cell_type": "code",
   "execution_count": 7,
   "metadata": {},
   "outputs": [],
   "source": [
    "cost  = np.random.rand(2,3,4)"
   ]
  },
  {
   "cell_type": "code",
   "execution_count": null,
   "metadata": {},
   "outputs": [],
   "source": [
    "source  --> rows 3 sources (2nd dimension)\n",
    "destination ---> columns 4 destinations (1 st dimension)\n",
    "routes --> 3rd dimension 2 routes "
   ]
  },
  {
   "cell_type": "code",
   "execution_count": 8,
   "metadata": {},
   "outputs": [
    {
     "data": {
      "text/plain": [
       "array([[[0.14056529, 0.55212021, 0.61607292, 0.58832121],\n",
       "        [0.35018455, 0.77941065, 0.48000551, 0.25869833],\n",
       "        [0.47332056, 0.50500532, 0.94049523, 0.59659243]],\n",
       "\n",
       "       [[0.26351925, 0.21755917, 0.73594273, 0.69324394],\n",
       "        [0.37534777, 0.09927789, 0.91491166, 0.59500384],\n",
       "        [0.17636806, 0.97778484, 0.59339082, 0.55094757]]])"
      ]
     },
     "execution_count": 8,
     "metadata": {},
     "output_type": "execute_result"
    }
   ],
   "source": [
    "cost"
   ]
  },
  {
   "cell_type": "code",
   "execution_count": 9,
   "metadata": {},
   "outputs": [
    {
     "data": {
      "text/plain": [
       "0.258698326243632"
      ]
     },
     "execution_count": 9,
     "metadata": {},
     "output_type": "execute_result"
    }
   ],
   "source": [
    "# from source 1 to destination 3 via route 0\n",
    "cost[0, 1, 3]"
   ]
  },
  {
   "cell_type": "code",
   "execution_count": 211,
   "metadata": {},
   "outputs": [
    {
     "data": {
      "text/plain": [
       "array([[46, 33, 42],\n",
       "       [27, 34, 43]])"
      ]
     },
     "execution_count": 211,
     "metadata": {},
     "output_type": "execute_result"
    }
   ],
   "source": [
    "np.random.randint(20,50,(2,3))"
   ]
  },
  {
   "cell_type": "code",
   "execution_count": 10,
   "metadata": {},
   "outputs": [
    {
     "data": {
      "text/plain": [
       "\u001b[0;31mDocstring:\u001b[0m\n",
       "empty(shape, dtype=float, order='C')\n",
       "\n",
       "Return a new array of given shape and type, without initializing entries.\n",
       "\n",
       "Parameters\n",
       "----------\n",
       "shape : int or tuple of int\n",
       "    Shape of the empty array, e.g., ``(2, 3)`` or ``2``.\n",
       "dtype : data-type, optional\n",
       "    Desired output data-type for the array, e.g, `numpy.int8`. Default is\n",
       "    `numpy.float64`.\n",
       "order : {'C', 'F'}, optional, default: 'C'\n",
       "    Whether to store multi-dimensional data in row-major\n",
       "    (C-style) or column-major (Fortran-style) order in\n",
       "    memory.\n",
       "\n",
       "Returns\n",
       "-------\n",
       "out : ndarray\n",
       "    Array of uninitialized (arbitrary) data of the given shape, dtype, and\n",
       "    order.  Object arrays will be initialized to None.\n",
       "\n",
       "See Also\n",
       "--------\n",
       "empty_like : Return an empty array with shape and type of input.\n",
       "ones : Return a new array setting values to one.\n",
       "zeros : Return a new array setting values to zero.\n",
       "full : Return a new array of given shape filled with value.\n",
       "\n",
       "\n",
       "Notes\n",
       "-----\n",
       "`empty`, unlike `zeros`, does not set the array values to zero,\n",
       "and may therefore be marginally faster.  On the other hand, it requires\n",
       "the user to manually set all the values in the array, and should be\n",
       "used with caution.\n",
       "\n",
       "Examples\n",
       "--------\n",
       ">>> np.empty([2, 2])\n",
       "array([[ -9.74499359e+001,   6.69583040e-309],\n",
       "       [  2.13182611e-314,   3.06959433e-309]])         #random\n",
       "\n",
       ">>> np.empty([2, 2], dtype=int)\n",
       "array([[-1073741821, -1067949133],\n",
       "       [  496041986,    19249760]])                     #random\n",
       "\u001b[0;31mType:\u001b[0m      builtin_function_or_method\n"
      ]
     },
     "metadata": {},
     "output_type": "display_data"
    }
   ],
   "source": [
    "?np.empty"
   ]
  },
  {
   "cell_type": "code",
   "execution_count": 11,
   "metadata": {},
   "outputs": [
    {
     "data": {
      "text/plain": [
       "array([[6.90393094e-310, 4.64999541e-310, 0.00000000e+000],\n",
       "       [0.00000000e+000, 0.00000000e+000, 0.00000000e+000]])"
      ]
     },
     "execution_count": 11,
     "metadata": {},
     "output_type": "execute_result"
    }
   ],
   "source": [
    "np.empty((2,3))"
   ]
  },
  {
   "cell_type": "code",
   "execution_count": 217,
   "metadata": {},
   "outputs": [
    {
     "data": {
      "text/plain": [
       "(3, 3)"
      ]
     },
     "execution_count": 217,
     "metadata": {},
     "output_type": "execute_result"
    }
   ],
   "source": [
    "arr_2d.shape"
   ]
  },
  {
   "cell_type": "code",
   "execution_count": 218,
   "metadata": {},
   "outputs": [
    {
     "data": {
      "text/plain": [
       "array([[23, 45, 64],\n",
       "       [42, 36, 44],\n",
       "       [58, 31, 10]])"
      ]
     },
     "execution_count": 218,
     "metadata": {},
     "output_type": "execute_result"
    }
   ],
   "source": [
    "arr_2d"
   ]
  },
  {
   "cell_type": "code",
   "execution_count": 219,
   "metadata": {},
   "outputs": [],
   "source": [
    "# reshaping of an array"
   ]
  },
  {
   "cell_type": "code",
   "execution_count": 225,
   "metadata": {},
   "outputs": [],
   "source": [
    "arr_2d1 = np.random.randint(10,100,(3,6))"
   ]
  },
  {
   "cell_type": "code",
   "execution_count": 232,
   "metadata": {},
   "outputs": [
    {
     "data": {
      "text/plain": [
       "18"
      ]
     },
     "execution_count": 232,
     "metadata": {},
     "output_type": "execute_result"
    }
   ],
   "source": [
    "arr_2d1.size"
   ]
  },
  {
   "cell_type": "code",
   "execution_count": null,
   "metadata": {},
   "outputs": [],
   "source": [
    "2,9 \n",
    "9,2\n",
    "6,3\n",
    "2,3,3\n",
    "3,2,3\n",
    "3,3,2\n",
    "1 , 18\n",
    "18 , 1"
   ]
  },
  {
   "cell_type": "code",
   "execution_count": 238,
   "metadata": {},
   "outputs": [
    {
     "data": {
      "text/plain": [
       "array([[66, 79],\n",
       "       [21, 18],\n",
       "       [51, 51],\n",
       "       [36, 76],\n",
       "       [49, 97],\n",
       "       [48, 15],\n",
       "       [93, 48],\n",
       "       [99, 94],\n",
       "       [41, 63]])"
      ]
     },
     "execution_count": 238,
     "metadata": {},
     "output_type": "execute_result"
    }
   ],
   "source": [
    "arr_2d1.reshape(2,9)"
   ]
  },
  {
   "cell_type": "code",
   "execution_count": 234,
   "metadata": {},
   "outputs": [
    {
     "data": {
      "text/plain": [
       "array([[[66, 21, 51],\n",
       "        [36, 49, 48],\n",
       "        [93, 99, 41]],\n",
       "\n",
       "       [[79, 18, 51],\n",
       "        [76, 97, 15],\n",
       "        [48, 94, 63]]])"
      ]
     },
     "execution_count": 234,
     "metadata": {},
     "output_type": "execute_result"
    }
   ],
   "source": [
    "arr_3d = arr_2d1.reshape(2,3,3)\n",
    "arr_3d"
   ]
  },
  {
   "cell_type": "code",
   "execution_count": 235,
   "metadata": {},
   "outputs": [
    {
     "data": {
      "text/plain": [
       "array([[66, 21, 51, 36, 49, 48],\n",
       "       [93, 99, 41, 79, 18, 51],\n",
       "       [76, 97, 15, 48, 94, 63]])"
      ]
     },
     "execution_count": 235,
     "metadata": {},
     "output_type": "execute_result"
    }
   ],
   "source": [
    "arr_2d1"
   ]
  },
  {
   "cell_type": "code",
   "execution_count": 236,
   "metadata": {},
   "outputs": [],
   "source": [
    "arr_2d1.shape = (2,3,3)"
   ]
  },
  {
   "cell_type": "code",
   "execution_count": 237,
   "metadata": {},
   "outputs": [
    {
     "data": {
      "text/plain": [
       "array([[[66, 21, 51],\n",
       "        [36, 49, 48],\n",
       "        [93, 99, 41]],\n",
       "\n",
       "       [[79, 18, 51],\n",
       "        [76, 97, 15],\n",
       "        [48, 94, 63]]])"
      ]
     },
     "execution_count": 237,
     "metadata": {},
     "output_type": "execute_result"
    }
   ],
   "source": [
    "arr_2d1"
   ]
  },
  {
   "cell_type": "code",
   "execution_count": 12,
   "metadata": {},
   "outputs": [],
   "source": [
    "cost = np.random.rand(2,3,4)"
   ]
  },
  {
   "cell_type": "code",
   "execution_count": 13,
   "metadata": {},
   "outputs": [
    {
     "data": {
      "text/plain": [
       "array([[[0.2934952 , 0.32987949, 0.46876308, 0.35529888],\n",
       "        [0.70816018, 0.6542938 , 0.02790846, 0.26673665],\n",
       "        [0.15207242, 0.45783458, 0.2780819 , 0.22066457]],\n",
       "\n",
       "       [[0.64694558, 0.02745838, 0.73761251, 0.90651391],\n",
       "        [0.33251696, 0.92142119, 0.14581543, 0.10169809],\n",
       "        [0.67499176, 0.98304022, 0.51147664, 0.86764575]]])"
      ]
     },
     "execution_count": 13,
     "metadata": {},
     "output_type": "execute_result"
    }
   ],
   "source": [
    "cost"
   ]
  },
  {
   "cell_type": "markdown",
   "metadata": {},
   "source": [
    "## Array Indexing"
   ]
  },
  {
   "cell_type": "code",
   "execution_count": 23,
   "metadata": {},
   "outputs": [
    {
     "data": {
      "text/plain": [
       "array([[76, 27, 93, 67, 96],\n",
       "       [57, 83, 42, 56, 35],\n",
       "       [93, 88, 46, 90, 78],\n",
       "       [59, 65, 77, 12, 94]])"
      ]
     },
     "execution_count": 23,
     "metadata": {},
     "output_type": "execute_result"
    }
   ],
   "source": [
    "np.random.seed(123)\n",
    "rand_int  = np.random.randint(10,100,(4,5))\n",
    "rand_int"
   ]
  },
  {
   "cell_type": "code",
   "execution_count": 25,
   "metadata": {},
   "outputs": [
    {
     "name": "stdout",
     "output_type": "stream",
     "text": [
      "Original Array\n",
      " [[76 27 93 67 96]\n",
      " [57 83 42 56 35]\n",
      " [93 88 46 90 78]\n",
      " [59 65 77 12 94]]\n"
     ]
    }
   ],
   "source": [
    "print('Original Array\\n', rand_int)"
   ]
  },
  {
   "cell_type": "code",
   "execution_count": 26,
   "metadata": {},
   "outputs": [
    {
     "data": {
      "text/plain": [
       "46"
      ]
     },
     "execution_count": 26,
     "metadata": {},
     "output_type": "execute_result"
    }
   ],
   "source": [
    "rand_int[2,2]"
   ]
  },
  {
   "cell_type": "code",
   "execution_count": 31,
   "metadata": {},
   "outputs": [
    {
     "data": {
      "text/plain": [
       "(5,)"
      ]
     },
     "execution_count": 31,
     "metadata": {},
     "output_type": "execute_result"
    }
   ],
   "source": [
    "# for entire row\n",
    "rand_int[2].shape"
   ]
  },
  {
   "cell_type": "code",
   "execution_count": 32,
   "metadata": {},
   "outputs": [
    {
     "data": {
      "text/plain": [
       "(4,)"
      ]
     },
     "execution_count": 32,
     "metadata": {},
     "output_type": "execute_result"
    }
   ],
   "source": [
    "# for entire column\n",
    "rand_int[ : , 2].shape"
   ]
  },
  {
   "cell_type": "code",
   "execution_count": 34,
   "metadata": {},
   "outputs": [
    {
     "data": {
      "text/plain": [
       "array([[[76, 27, 93, 67, 96],\n",
       "        [57, 83, 42, 56, 35],\n",
       "        [93, 88, 46, 90, 78],\n",
       "        [59, 65, 77, 12, 94]],\n",
       "\n",
       "       [[49, 76, 94, 57, 71],\n",
       "        [58, 17, 62, 95, 37],\n",
       "        [44, 86, 50, 13, 79],\n",
       "        [74, 85, 44, 68, 20]]])"
      ]
     },
     "execution_count": 34,
     "metadata": {},
     "output_type": "execute_result"
    }
   ],
   "source": [
    "np.random.seed(123)\n",
    "rand_int3d  = np.random.randint(10,100,(2,4,5))\n",
    "rand_int3d"
   ]
  },
  {
   "cell_type": "code",
   "execution_count": 36,
   "metadata": {},
   "outputs": [
    {
     "data": {
      "text/plain": [
       "46"
      ]
     },
     "execution_count": 36,
     "metadata": {},
     "output_type": "execute_result"
    }
   ],
   "source": [
    "rand_int3d[0,2,2]"
   ]
  },
  {
   "cell_type": "code",
   "execution_count": 37,
   "metadata": {},
   "outputs": [
    {
     "data": {
      "text/plain": [
       "array([[76, 27, 93, 67, 96],\n",
       "       [57, 83, 42, 56, 35],\n",
       "       [93, 88, 46, 90, 78],\n",
       "       [59, 65, 77, 12, 94]])"
      ]
     },
     "execution_count": 37,
     "metadata": {},
     "output_type": "execute_result"
    }
   ],
   "source": [
    "rand_int3d[0]"
   ]
  },
  {
   "cell_type": "code",
   "execution_count": 40,
   "metadata": {},
   "outputs": [
    {
     "data": {
      "text/plain": [
       "array([93, 88, 46, 90, 78])"
      ]
     },
     "execution_count": 40,
     "metadata": {},
     "output_type": "execute_result"
    }
   ],
   "source": [
    "rand_int3d[0,2]"
   ]
  },
  {
   "cell_type": "code",
   "execution_count": 43,
   "metadata": {},
   "outputs": [
    {
     "data": {
      "text/plain": [
       "array([[93, 88, 46, 90, 78],\n",
       "       [44, 86, 50, 13, 79]])"
      ]
     },
     "execution_count": 43,
     "metadata": {},
     "output_type": "execute_result"
    }
   ],
   "source": [
    "rand_int3d[:, 2 , :]"
   ]
  },
  {
   "cell_type": "code",
   "execution_count": null,
   "metadata": {},
   "outputs": [],
   "source": [
    "# same no of dimensions as the no. of changing dimensions in indices"
   ]
  },
  {
   "cell_type": "code",
   "execution_count": 44,
   "metadata": {},
   "outputs": [
    {
     "data": {
      "text/plain": [
       "array([[76, 27, 93, 67, 96],\n",
       "       [57, 83, 42, 56, 35],\n",
       "       [93, 88, 46, 90, 78],\n",
       "       [59, 65, 77, 12, 94]])"
      ]
     },
     "execution_count": 44,
     "metadata": {},
     "output_type": "execute_result"
    }
   ],
   "source": [
    "rand_int "
   ]
  },
  {
   "cell_type": "code",
   "execution_count": null,
   "metadata": {},
   "outputs": [],
   "source": [
    "# as 4 rows 1 column"
   ]
  },
  {
   "cell_type": "code",
   "execution_count": 48,
   "metadata": {},
   "outputs": [
    {
     "data": {
      "text/plain": [
       "(4, 1)"
      ]
     },
     "execution_count": 48,
     "metadata": {},
     "output_type": "execute_result"
    }
   ],
   "source": [
    "rand_int[ : , 1 :2].shape"
   ]
  },
  {
   "cell_type": "code",
   "execution_count": 51,
   "metadata": {},
   "outputs": [
    {
     "data": {
      "text/plain": [
       "array([27, 83, 88, 65])"
      ]
     },
     "execution_count": 51,
     "metadata": {},
     "output_type": "execute_result"
    }
   ],
   "source": [
    "rand_int[ : , 1 ]"
   ]
  },
  {
   "cell_type": "code",
   "execution_count": 52,
   "metadata": {},
   "outputs": [
    {
     "data": {
      "text/plain": [
       "array([57, 83, 42, 56, 35])"
      ]
     },
     "execution_count": 52,
     "metadata": {},
     "output_type": "execute_result"
    }
   ],
   "source": [
    "rand_int[ 1, :]"
   ]
  },
  {
   "cell_type": "code",
   "execution_count": 54,
   "metadata": {},
   "outputs": [
    {
     "data": {
      "text/plain": [
       "array([[83]])"
      ]
     },
     "execution_count": 54,
     "metadata": {},
     "output_type": "execute_result"
    }
   ],
   "source": [
    "rand_int[ 1:2 , 1:2 ]"
   ]
  },
  {
   "cell_type": "code",
   "execution_count": 53,
   "metadata": {},
   "outputs": [
    {
     "data": {
      "text/plain": [
       "83"
      ]
     },
     "execution_count": 53,
     "metadata": {},
     "output_type": "execute_result"
    }
   ],
   "source": [
    "rand_int[1,1]"
   ]
  },
  {
   "cell_type": "code",
   "execution_count": null,
   "metadata": {},
   "outputs": [],
   "source": [
    "# extract a slice ---> list "
   ]
  },
  {
   "cell_type": "code",
   "execution_count": 49,
   "metadata": {},
   "outputs": [
    {
     "data": {
      "text/plain": [
       "[2]"
      ]
     },
     "execution_count": 49,
     "metadata": {},
     "output_type": "execute_result"
    }
   ],
   "source": [
    "l = [2,3,4,5,6]\n",
    "l[0:1]"
   ]
  },
  {
   "cell_type": "code",
   "execution_count": 50,
   "metadata": {},
   "outputs": [
    {
     "data": {
      "text/plain": [
       "2"
      ]
     },
     "execution_count": 50,
     "metadata": {},
     "output_type": "execute_result"
    }
   ],
   "source": [
    "l[0]"
   ]
  },
  {
   "cell_type": "code",
   "execution_count": 58,
   "metadata": {},
   "outputs": [
    {
     "data": {
      "text/plain": [
       "array([[76, 27, 93, 67, 96],\n",
       "       [57, 83, 42, 56, 35],\n",
       "       [93, 88, 46, 90, 78],\n",
       "       [59, 65, 77, 12, 94]])"
      ]
     },
     "execution_count": 58,
     "metadata": {},
     "output_type": "execute_result"
    }
   ],
   "source": [
    "rand_int"
   ]
  },
  {
   "cell_type": "raw",
   "metadata": {},
   "source": [
    "93 -> 2,0\n",
    "56 -> 1,3\n",
    "12 -> 3,3\n",
    "83 -> 1,1"
   ]
  },
  {
   "cell_type": "code",
   "execution_count": 59,
   "metadata": {},
   "outputs": [
    {
     "data": {
      "text/plain": [
       "array([93, 56, 12, 83])"
      ]
     },
     "execution_count": 59,
     "metadata": {},
     "output_type": "execute_result"
    }
   ],
   "source": [
    "#rand_int[rows, columns]\n",
    "rand_int[[2,1,3,1], [0,3,3,1]]"
   ]
  },
  {
   "cell_type": "code",
   "execution_count": 60,
   "metadata": {},
   "outputs": [
    {
     "data": {
      "text/plain": [
       "array([[[76, 27, 93, 67, 96],\n",
       "        [57, 83, 42, 56, 35],\n",
       "        [93, 88, 46, 90, 78],\n",
       "        [59, 65, 77, 12, 94]],\n",
       "\n",
       "       [[49, 76, 94, 57, 71],\n",
       "        [58, 17, 62, 95, 37],\n",
       "        [44, 86, 50, 13, 79],\n",
       "        [74, 85, 44, 68, 20]]])"
      ]
     },
     "execution_count": 60,
     "metadata": {},
     "output_type": "execute_result"
    }
   ],
   "source": [
    "rand_int3d"
   ]
  },
  {
   "cell_type": "raw",
   "metadata": {},
   "source": [
    "94 -> 1,0,2\n",
    "56 -> 0,1,3\n",
    "12 -> 0,3,3\n",
    "83 -> 0,1,1"
   ]
  },
  {
   "cell_type": "code",
   "execution_count": 62,
   "metadata": {},
   "outputs": [
    {
     "data": {
      "text/plain": [
       "array([94, 56, 12, 83])"
      ]
     },
     "execution_count": 62,
     "metadata": {},
     "output_type": "execute_result"
    }
   ],
   "source": [
    "rand_int3d[[1,0,0,0], [0,1,3,1],[2,3,3,1]]"
   ]
  },
  {
   "cell_type": "code",
   "execution_count": 68,
   "metadata": {},
   "outputs": [
    {
     "data": {
      "text/plain": [
       "array([93, 56, 12, 83, 44, 95, 68, 17])"
      ]
     },
     "execution_count": 68,
     "metadata": {},
     "output_type": "execute_result"
    }
   ],
   "source": [
    "#rand_int3d[ : ,[2,1,3,1], [0,3,3,1]]\n",
    "rand_int3d[ [0,0,0,0,1,1,1,1] ,[2,1,3,1,2,1,3,1], [0,3,3,1,0,3,3,1]]"
   ]
  },
  {
   "cell_type": "code",
   "execution_count": 71,
   "metadata": {},
   "outputs": [
    {
     "data": {
      "text/plain": [
       "array([[93, 56, 12, 83],\n",
       "       [44, 95, 68, 17]])"
      ]
     },
     "execution_count": 71,
     "metadata": {},
     "output_type": "execute_result"
    }
   ],
   "source": [
    "rand_int3d[ : ,[2,1,3,1], [0,3,3,1]]"
   ]
  },
  {
   "cell_type": "code",
   "execution_count": 72,
   "metadata": {},
   "outputs": [],
   "source": [
    "ind = np.array([[2,0],[1,3],[3,3],[1,1]])"
   ]
  },
  {
   "cell_type": "code",
   "execution_count": 75,
   "metadata": {},
   "outputs": [
    {
     "data": {
      "text/plain": [
       "array([[[93, 88, 46, 90, 78],\n",
       "        [76, 27, 93, 67, 96]],\n",
       "\n",
       "       [[57, 83, 42, 56, 35],\n",
       "        [59, 65, 77, 12, 94]],\n",
       "\n",
       "       [[59, 65, 77, 12, 94],\n",
       "        [59, 65, 77, 12, 94]],\n",
       "\n",
       "       [[57, 83, 42, 56, 35],\n",
       "        [57, 83, 42, 56, 35]]])"
      ]
     },
     "execution_count": 75,
     "metadata": {},
     "output_type": "execute_result"
    }
   ],
   "source": [
    "rand_int[ind]"
   ]
  },
  {
   "cell_type": "code",
   "execution_count": 77,
   "metadata": {},
   "outputs": [
    {
     "data": {
      "text/plain": [
       "array([27, 42, 35, 46, 12])"
      ]
     },
     "execution_count": 77,
     "metadata": {},
     "output_type": "execute_result"
    }
   ],
   "source": [
    "rand_int[rand_int< 50]"
   ]
  },
  {
   "cell_type": "code",
   "execution_count": 79,
   "metadata": {},
   "outputs": [
    {
     "data": {
      "text/plain": [
       "array([10, 11, 12, 13, 14, 15, 16, 17, 18, 19, 20, 21, 22, 23, 24, 25, 26,\n",
       "       27, 28, 29])"
      ]
     },
     "execution_count": 79,
     "metadata": {},
     "output_type": "execute_result"
    }
   ],
   "source": [
    "np.array(range(10,30))"
   ]
  },
  {
   "cell_type": "code",
   "execution_count": 80,
   "metadata": {},
   "outputs": [
    {
     "data": {
      "text/plain": [
       "array([10, 11, 12, 13, 14, 15, 16, 17, 18, 19, 20, 21, 22, 23, 24, 25, 26,\n",
       "       27, 28, 29])"
      ]
     },
     "execution_count": 80,
     "metadata": {},
     "output_type": "execute_result"
    }
   ],
   "source": [
    "np.arange(10,30)"
   ]
  },
  {
   "cell_type": "markdown",
   "metadata": {},
   "source": [
    "## modification in the arrays"
   ]
  },
  {
   "cell_type": "code",
   "execution_count": 86,
   "metadata": {},
   "outputs": [
    {
     "name": "stdout",
     "output_type": "stream",
     "text": [
      "before Modification\n",
      "\n",
      " [[  76 2700   93   67   96]\n",
      " [  57   83 4200   56 3500]\n",
      " [  93   88 4600   90   78]\n",
      " [  59   65   77 1200   94]]\n",
      "\n",
      "after Modification\n",
      "\n",
      " [[7600 2700 9300 6700 9600]\n",
      " [5700 8300 4200 5600 3500]\n",
      " [9300 8800 4600 9000 7800]\n",
      " [5900 6500 7700 1200 9400]]\n"
     ]
    }
   ],
   "source": [
    "print('before Modification\\n\\n' , rand_int)\n",
    "\n",
    "rand_int[rand_int< 500] *= 100\n",
    "\n",
    "print('\\nafter Modification\\n\\n' , rand_int)"
   ]
  },
  {
   "cell_type": "code",
   "execution_count": 89,
   "metadata": {},
   "outputs": [],
   "source": [
    "basket_arr = np.array(basket)"
   ]
  },
  {
   "cell_type": "code",
   "execution_count": 92,
   "metadata": {},
   "outputs": [
    {
     "data": {
      "text/plain": [
       "array(['apple', 'bananas', 'potato', 'broccoli', 'okra', 'lettuce',\n",
       "       'cheese', 'yogurt', 'milk'], dtype='<U8')"
      ]
     },
     "execution_count": 92,
     "metadata": {},
     "output_type": "execute_result"
    }
   ],
   "source": [
    "basket_arr[::]"
   ]
  },
  {
   "cell_type": "code",
   "execution_count": 112,
   "metadata": {},
   "outputs": [],
   "source": [
    "def func (x):\n",
    "    return x.upper()"
   ]
  },
  {
   "cell_type": "code",
   "execution_count": 122,
   "metadata": {},
   "outputs": [],
   "source": [
    "xx = map(lambda x: x.upper()  , basket_arr[::2])\n",
    "basket_arr[::2]=list(xx)"
   ]
  },
  {
   "cell_type": "code",
   "execution_count": 123,
   "metadata": {},
   "outputs": [
    {
     "data": {
      "text/plain": [
       "array(['APPLE', 'bananas', 'POTATO', 'broccoli', 'OKRA', 'lettuce',\n",
       "       'CHEESE', 'yogurt', 'MILK'], dtype='<U8')"
      ]
     },
     "execution_count": 123,
     "metadata": {},
     "output_type": "execute_result"
    }
   ],
   "source": [
    "basket_arr\n"
   ]
  },
  {
   "cell_type": "markdown",
   "metadata": {},
   "source": [
    "## attributes of arrays --> ndim shape size dtypes"
   ]
  },
  {
   "cell_type": "markdown",
   "metadata": {},
   "source": [
    "## functions"
   ]
  },
  {
   "cell_type": "code",
   "execution_count": 130,
   "metadata": {},
   "outputs": [],
   "source": [
    "# nummerical arrays : min , max, mean, std"
   ]
  },
  {
   "cell_type": "code",
   "execution_count": 134,
   "metadata": {},
   "outputs": [],
   "source": [
    "rand_int = rand_int/100"
   ]
  },
  {
   "cell_type": "code",
   "execution_count": 135,
   "metadata": {},
   "outputs": [
    {
     "data": {
      "text/plain": [
       "array([[76., 27., 93., 67., 96.],\n",
       "       [57., 83., 42., 56., 35.],\n",
       "       [93., 88., 46., 90., 78.],\n",
       "       [59., 65., 77., 12., 94.]])"
      ]
     },
     "execution_count": 135,
     "metadata": {},
     "output_type": "execute_result"
    }
   ],
   "source": [
    "rand_int"
   ]
  },
  {
   "cell_type": "code",
   "execution_count": 138,
   "metadata": {},
   "outputs": [
    {
     "name": "stdout",
     "output_type": "stream",
     "text": [
      "Maximum  : 12.0\n",
      "Minimum : 96.0 \n",
      "Mean : 66.7\n",
      "STD  :23.929270778692775\n"
     ]
    }
   ],
   "source": [
    "\n",
    "print('Maximum  : {}\\nMinimum : {} \\nMean : {}\\nSTD  :{}'.format(rand_int.max(),rand_int.min(), rand_int.mean(), rand_int.std()))"
   ]
  },
  {
   "cell_type": "code",
   "execution_count": 145,
   "metadata": {},
   "outputs": [
    {
     "name": "stdout",
     "output_type": "stream",
     "text": [
      "Maximum  : 96\n",
      "Minimum : 12.0 \n",
      "Mean : 66.7\n",
      "STD  :23.9\n"
     ]
    }
   ],
   "source": [
    "print('Maximum  : {1:1.0f}\\nMinimum : {0:.1f} \\nMean : {2:.1f}\\nSTD  :{3:.1f}'.format(rand_int.min(),rand_int.max(), rand_int.mean(), rand_int.std()))"
   ]
  },
  {
   "cell_type": "code",
   "execution_count": 148,
   "metadata": {},
   "outputs": [
    {
     "data": {
      "text/plain": [
       "array([[76., 27., 93., 67., 96.],\n",
       "       [57., 83., 42., 56., 35.],\n",
       "       [93., 88., 46., 90., 78.],\n",
       "       [59., 65., 77., 12., 94.]])"
      ]
     },
     "execution_count": 148,
     "metadata": {},
     "output_type": "execute_result"
    }
   ],
   "source": [
    "rand_int"
   ]
  },
  {
   "cell_type": "code",
   "execution_count": 149,
   "metadata": {},
   "outputs": [
    {
     "data": {
      "text/plain": [
       "(4, 5)"
      ]
     },
     "execution_count": 149,
     "metadata": {},
     "output_type": "execute_result"
    }
   ],
   "source": [
    "rand_int.shape"
   ]
  },
  {
   "cell_type": "code",
   "execution_count": 147,
   "metadata": {},
   "outputs": [
    {
     "data": {
      "text/plain": [
       "array([93., 88., 93., 90., 96.])"
      ]
     },
     "execution_count": 147,
     "metadata": {},
     "output_type": "execute_result"
    }
   ],
   "source": [
    "rand_int.max(axis = 0 )"
   ]
  },
  {
   "cell_type": "code",
   "execution_count": 150,
   "metadata": {},
   "outputs": [
    {
     "data": {
      "text/plain": [
       "array([96., 83., 93., 94.])"
      ]
     },
     "execution_count": 150,
     "metadata": {},
     "output_type": "execute_result"
    }
   ],
   "source": [
    "rand_int.max(axis = 1 )"
   ]
  },
  {
   "cell_type": "code",
   "execution_count": 153,
   "metadata": {},
   "outputs": [
    {
     "data": {
      "text/plain": [
       "array([[[76, 27, 93, 67, 96],\n",
       "        [57, 83, 42, 56, 35],\n",
       "        [93, 88, 46, 90, 78],\n",
       "        [59, 65, 77, 12, 94]],\n",
       "\n",
       "       [[49, 76, 94, 57, 71],\n",
       "        [58, 17, 62, 95, 37],\n",
       "        [44, 86, 50, 13, 79],\n",
       "        [74, 85, 44, 68, 20]]])"
      ]
     },
     "execution_count": 153,
     "metadata": {},
     "output_type": "execute_result"
    }
   ],
   "source": [
    "rand_int3d"
   ]
  },
  {
   "cell_type": "code",
   "execution_count": 154,
   "metadata": {},
   "outputs": [
    {
     "data": {
      "text/plain": [
       "(2, 4, 5)"
      ]
     },
     "execution_count": 154,
     "metadata": {},
     "output_type": "execute_result"
    }
   ],
   "source": [
    "rand_int3d.shape"
   ]
  },
  {
   "cell_type": "code",
   "execution_count": 155,
   "metadata": {},
   "outputs": [
    {
     "data": {
      "text/plain": [
       "array([[76, 76, 94, 67, 96],\n",
       "       [58, 83, 62, 95, 37],\n",
       "       [93, 88, 50, 90, 79],\n",
       "       [74, 85, 77, 68, 94]])"
      ]
     },
     "execution_count": 155,
     "metadata": {},
     "output_type": "execute_result"
    }
   ],
   "source": [
    "rand_int3d.max(axis = 0)"
   ]
  },
  {
   "cell_type": "code",
   "execution_count": 156,
   "metadata": {},
   "outputs": [
    {
     "data": {
      "text/plain": [
       "array([[93, 88, 93, 90, 96],\n",
       "       [74, 86, 94, 95, 79]])"
      ]
     },
     "execution_count": 156,
     "metadata": {},
     "output_type": "execute_result"
    }
   ],
   "source": [
    "rand_int3d.max(axis = 1)"
   ]
  },
  {
   "cell_type": "code",
   "execution_count": 157,
   "metadata": {},
   "outputs": [
    {
     "data": {
      "text/plain": [
       "array([[96, 83, 93, 94],\n",
       "       [94, 95, 86, 85]])"
      ]
     },
     "execution_count": 157,
     "metadata": {},
     "output_type": "execute_result"
    }
   ],
   "source": [
    "rand_int3d.max(axis = 2)"
   ]
  },
  {
   "cell_type": "code",
   "execution_count": 159,
   "metadata": {},
   "outputs": [
    {
     "data": {
      "text/plain": [
       "array([71.25, 65.75, 64.5 , 56.25, 75.75])"
      ]
     },
     "execution_count": 159,
     "metadata": {},
     "output_type": "execute_result"
    }
   ],
   "source": [
    "rand_int.mean(axis = 0)"
   ]
  },
  {
   "cell_type": "markdown",
   "metadata": {},
   "source": [
    "## for 2 dimensional array / dataframe \n",
    "### Axis = 0 | column wise operation\n",
    "### Axis = 1 | row wise operation"
   ]
  },
  {
   "cell_type": "code",
   "execution_count": 164,
   "metadata": {},
   "outputs": [
    {
     "data": {
      "text/plain": [
       "4"
      ]
     },
     "execution_count": 164,
     "metadata": {},
     "output_type": "execute_result"
    }
   ],
   "source": [
    "rand_int.shape[0] # row "
   ]
  },
  {
   "cell_type": "code",
   "execution_count": 168,
   "metadata": {},
   "outputs": [
    {
     "data": {
      "text/plain": [
       "56.25"
      ]
     },
     "execution_count": 168,
     "metadata": {},
     "output_type": "execute_result"
    }
   ],
   "source": [
    "rand_int[0:4, 3].mean()"
   ]
  },
  {
   "cell_type": "code",
   "execution_count": 162,
   "metadata": {},
   "outputs": [
    {
     "data": {
      "text/plain": [
       "array([[76., 27., 93., 67., 96.],\n",
       "       [57., 83., 42., 56., 35.],\n",
       "       [93., 88., 46., 90., 78.],\n",
       "       [59., 65., 77., 12., 94.]])"
      ]
     },
     "execution_count": 162,
     "metadata": {},
     "output_type": "execute_result"
    }
   ],
   "source": [
    "rand_int"
   ]
  },
  {
   "cell_type": "code",
   "execution_count": 160,
   "metadata": {},
   "outputs": [
    {
     "data": {
      "text/plain": [
       "array([71.25, 65.75, 64.5 , 56.25, 75.75])"
      ]
     },
     "execution_count": 160,
     "metadata": {},
     "output_type": "execute_result"
    }
   ],
   "source": [
    "rand_int.mean(axis = 0)"
   ]
  },
  {
   "cell_type": "code",
   "execution_count": 161,
   "metadata": {},
   "outputs": [
    {
     "data": {
      "text/plain": [
       "array([71.8, 54.6, 79. , 61.4])"
      ]
     },
     "execution_count": 161,
     "metadata": {},
     "output_type": "execute_result"
    }
   ],
   "source": [
    "rand_int.mean(axis = 1)"
   ]
  },
  {
   "cell_type": "code",
   "execution_count": 170,
   "metadata": {},
   "outputs": [
    {
     "data": {
      "text/plain": [
       "(2, 4, 5)"
      ]
     },
     "execution_count": 170,
     "metadata": {},
     "output_type": "execute_result"
    }
   ],
   "source": [
    "rand_int3d.shape"
   ]
  },
  {
   "cell_type": "code",
   "execution_count": 174,
   "metadata": {},
   "outputs": [
    {
     "data": {
      "text/plain": [
       "array([[[76, 27, 93, 67, 96],\n",
       "        [57, 83, 42, 56, 35],\n",
       "        [93, 88, 46, 90, 78],\n",
       "        [59, 65, 77, 12, 94]],\n",
       "\n",
       "       [[49, 76, 94, 57, 71],\n",
       "        [58, 17, 62, 95, 37],\n",
       "        [44, 86, 50, 13, 79],\n",
       "        [74, 85, 44, 68, 20]]])"
      ]
     },
     "execution_count": 174,
     "metadata": {},
     "output_type": "execute_result"
    }
   ],
   "source": [
    "rand_int3d"
   ]
  },
  {
   "cell_type": "code",
   "execution_count": 171,
   "metadata": {},
   "outputs": [
    {
     "data": {
      "text/plain": [
       "array([[62.5, 51.5, 93.5, 62. , 83.5],\n",
       "       [57.5, 50. , 52. , 75.5, 36. ],\n",
       "       [68.5, 87. , 48. , 51.5, 78.5],\n",
       "       [66.5, 75. , 60.5, 40. , 57. ]])"
      ]
     },
     "execution_count": 171,
     "metadata": {},
     "output_type": "execute_result"
    }
   ],
   "source": [
    "rand_int3d.mean(axis = 0)"
   ]
  },
  {
   "cell_type": "code",
   "execution_count": 175,
   "metadata": {},
   "outputs": [
    {
     "data": {
      "text/plain": [
       "62.5"
      ]
     },
     "execution_count": 175,
     "metadata": {},
     "output_type": "execute_result"
    }
   ],
   "source": [
    "rand_int3d[:, 0,0].mean()"
   ]
  },
  {
   "cell_type": "code",
   "execution_count": 176,
   "metadata": {},
   "outputs": [
    {
     "data": {
      "text/plain": [
       "51.5"
      ]
     },
     "execution_count": 176,
     "metadata": {},
     "output_type": "execute_result"
    }
   ],
   "source": [
    "rand_int3d[ :, 0 ,1].mean()"
   ]
  },
  {
   "cell_type": "code",
   "execution_count": 178,
   "metadata": {},
   "outputs": [
    {
     "data": {
      "text/plain": [
       "(2, 4, 5)"
      ]
     },
     "execution_count": 178,
     "metadata": {},
     "output_type": "execute_result"
    }
   ],
   "source": [
    "rand_int3d.shape"
   ]
  },
  {
   "cell_type": "code",
   "execution_count": 179,
   "metadata": {},
   "outputs": [
    {
     "data": {
      "text/plain": [
       "array([[76., 57., 93., 59.],\n",
       "       [27., 83., 88., 65.],\n",
       "       [93., 42., 46., 77.],\n",
       "       [67., 56., 90., 12.],\n",
       "       [96., 35., 78., 94.]])"
      ]
     },
     "execution_count": 179,
     "metadata": {},
     "output_type": "execute_result"
    }
   ],
   "source": [
    "rand_int.T"
   ]
  },
  {
   "cell_type": "code",
   "execution_count": 180,
   "metadata": {},
   "outputs": [],
   "source": [
    "rand_int.sort()"
   ]
  },
  {
   "cell_type": "code",
   "execution_count": 182,
   "metadata": {},
   "outputs": [],
   "source": [
    "rand_int.sort(axis = 0 )"
   ]
  },
  {
   "cell_type": "code",
   "execution_count": 183,
   "metadata": {},
   "outputs": [
    {
     "data": {
      "text/plain": [
       "array([[12., 42., 56., 57., 83.],\n",
       "       [27., 59., 65., 77., 93.],\n",
       "       [35., 67., 76., 90., 94.],\n",
       "       [46., 78., 88., 93., 96.]])"
      ]
     },
     "execution_count": 183,
     "metadata": {},
     "output_type": "execute_result"
    }
   ],
   "source": [
    "rand_int"
   ]
  },
  {
   "cell_type": "code",
   "execution_count": 184,
   "metadata": {},
   "outputs": [],
   "source": [
    "rand_int.sort(axis = 1)"
   ]
  },
  {
   "cell_type": "code",
   "execution_count": 185,
   "metadata": {},
   "outputs": [
    {
     "data": {
      "text/plain": [
       "array([[12., 42., 56., 57., 83.],\n",
       "       [27., 59., 65., 77., 93.],\n",
       "       [35., 67., 76., 90., 94.],\n",
       "       [46., 78., 88., 93., 96.]])"
      ]
     },
     "execution_count": 185,
     "metadata": {},
     "output_type": "execute_result"
    }
   ],
   "source": [
    "rand_int"
   ]
  },
  {
   "cell_type": "code",
   "execution_count": 187,
   "metadata": {},
   "outputs": [
    {
     "ename": "TypeError",
     "evalue": "inv() missing 1 required positional argument: 'a'",
     "output_type": "error",
     "traceback": [
      "\u001b[0;31m---------------------------------------------------------------------------\u001b[0m",
      "\u001b[0;31mTypeError\u001b[0m                                 Traceback (most recent call last)",
      "\u001b[0;32m<ipython-input-187-bfb00593e6fd>\u001b[0m in \u001b[0;36m<module>\u001b[0;34m\u001b[0m\n\u001b[0;32m----> 1\u001b[0;31m \u001b[0mnp\u001b[0m\u001b[0;34m.\u001b[0m\u001b[0mlinalg\u001b[0m\u001b[0;34m.\u001b[0m\u001b[0minv\u001b[0m\u001b[0;34m(\u001b[0m\u001b[0;34m)\u001b[0m\u001b[0;34m\u001b[0m\u001b[0;34m\u001b[0m\u001b[0m\n\u001b[0m",
      "\u001b[0;31mTypeError\u001b[0m: inv() missing 1 required positional argument: 'a'"
     ]
    }
   ],
   "source": [
    "np.linalg.inv()"
   ]
  },
  {
   "cell_type": "code",
   "execution_count": 188,
   "metadata": {},
   "outputs": [],
   "source": [
    "import pandas as pd"
   ]
  },
  {
   "cell_type": "markdown",
   "metadata": {},
   "source": [
    "# Data Wrangling : Extraction / Exxploration /Manipulation of data tables"
   ]
  },
  {
   "cell_type": "markdown",
   "metadata": {},
   "source": [
    "## Data structures\n",
    "### 1. Series   : 1 dimensional labelled array hold heterogenous elements \n",
    "### 2. Dataframe : 2 dimesnional labelled array hold heterogenous elements"
   ]
  },
  {
   "cell_type": "markdown",
   "metadata": {},
   "source": [
    "## Creating a series from a dictionary"
   ]
  },
  {
   "cell_type": "code",
   "execution_count": 189,
   "metadata": {},
   "outputs": [],
   "source": [
    "info = { 'Name' : 'Nimisha', 'Age' : 32, 'Designation' : 'Trainer', 'Salary' : 10000}"
   ]
  },
  {
   "cell_type": "code",
   "execution_count": 191,
   "metadata": {},
   "outputs": [
    {
     "data": {
      "text/plain": [
       "array(['Nimisha', '32', 'Trainer', '10000'], dtype='<U7')"
      ]
     },
     "execution_count": 191,
     "metadata": {},
     "output_type": "execute_result"
    }
   ],
   "source": [
    "np.array(list(info.values()))"
   ]
  },
  {
   "cell_type": "code",
   "execution_count": 193,
   "metadata": {},
   "outputs": [],
   "source": [
    "ser = pd.Series(info)"
   ]
  },
  {
   "cell_type": "code",
   "execution_count": 194,
   "metadata": {},
   "outputs": [
    {
     "data": {
      "text/plain": [
       "Name           Nimisha\n",
       "Age                 32\n",
       "Designation    Trainer\n",
       "Salary           10000\n",
       "dtype: object"
      ]
     },
     "execution_count": 194,
     "metadata": {},
     "output_type": "execute_result"
    }
   ],
   "source": [
    "ser"
   ]
  },
  {
   "cell_type": "code",
   "execution_count": 196,
   "metadata": {},
   "outputs": [
    {
     "data": {
      "text/plain": [
       "'Nimisha'"
      ]
     },
     "execution_count": 196,
     "metadata": {},
     "output_type": "execute_result"
    }
   ],
   "source": [
    "info['Name']"
   ]
  },
  {
   "cell_type": "code",
   "execution_count": 197,
   "metadata": {},
   "outputs": [
    {
     "data": {
      "text/plain": [
       "'Nimisha'"
      ]
     },
     "execution_count": 197,
     "metadata": {},
     "output_type": "execute_result"
    }
   ],
   "source": [
    "ser['Name']"
   ]
  },
  {
   "cell_type": "code",
   "execution_count": 198,
   "metadata": {},
   "outputs": [
    {
     "data": {
      "text/plain": [
       "'Nimisha'"
      ]
     },
     "execution_count": 198,
     "metadata": {},
     "output_type": "execute_result"
    }
   ],
   "source": [
    "ser[0]"
   ]
  },
  {
   "cell_type": "code",
   "execution_count": 199,
   "metadata": {},
   "outputs": [
    {
     "data": {
      "text/plain": [
       "32"
      ]
     },
     "execution_count": 199,
     "metadata": {},
     "output_type": "execute_result"
    }
   ],
   "source": [
    "ser['Age']"
   ]
  },
  {
   "cell_type": "code",
   "execution_count": 200,
   "metadata": {},
   "outputs": [],
   "source": [
    "ser1 = pd.Series(range(1,10))"
   ]
  },
  {
   "cell_type": "code",
   "execution_count": 204,
   "metadata": {},
   "outputs": [
    {
     "data": {
      "text/plain": [
       "8    9\n",
       "7    8\n",
       "6    7\n",
       "5    6\n",
       "4    5\n",
       "3    4\n",
       "2    3\n",
       "1    2\n",
       "0    1\n",
       "dtype: int64"
      ]
     },
     "execution_count": 204,
     "metadata": {},
     "output_type": "execute_result"
    }
   ],
   "source": [
    "ser1.sort_values(ascending = False)"
   ]
  },
  {
   "cell_type": "code",
   "execution_count": 213,
   "metadata": {},
   "outputs": [],
   "source": [
    "brics = {'country' : ['Brazil','Russia','India','China','South Africa'],\n",
    "        'capital' : ['Brasilia','Moscow','New Delhi','Beijing',None]}"
   ]
  },
  {
   "cell_type": "code",
   "execution_count": 214,
   "metadata": {},
   "outputs": [
    {
     "data": {
      "text/html": [
       "<div>\n",
       "<style scoped>\n",
       "    .dataframe tbody tr th:only-of-type {\n",
       "        vertical-align: middle;\n",
       "    }\n",
       "\n",
       "    .dataframe tbody tr th {\n",
       "        vertical-align: top;\n",
       "    }\n",
       "\n",
       "    .dataframe thead th {\n",
       "        text-align: right;\n",
       "    }\n",
       "</style>\n",
       "<table border=\"1\" class=\"dataframe\">\n",
       "  <thead>\n",
       "    <tr style=\"text-align: right;\">\n",
       "      <th></th>\n",
       "      <th>country</th>\n",
       "      <th>capital</th>\n",
       "    </tr>\n",
       "  </thead>\n",
       "  <tbody>\n",
       "    <tr>\n",
       "      <th>B</th>\n",
       "      <td>Brazil</td>\n",
       "      <td>Brasilia</td>\n",
       "    </tr>\n",
       "    <tr>\n",
       "      <th>R</th>\n",
       "      <td>Russia</td>\n",
       "      <td>Moscow</td>\n",
       "    </tr>\n",
       "    <tr>\n",
       "      <th>I</th>\n",
       "      <td>India</td>\n",
       "      <td>New Delhi</td>\n",
       "    </tr>\n",
       "    <tr>\n",
       "      <th>C</th>\n",
       "      <td>China</td>\n",
       "      <td>Beijing</td>\n",
       "    </tr>\n",
       "    <tr>\n",
       "      <th>S</th>\n",
       "      <td>South Africa</td>\n",
       "      <td>None</td>\n",
       "    </tr>\n",
       "  </tbody>\n",
       "</table>\n",
       "</div>"
      ],
      "text/plain": [
       "        country    capital\n",
       "B        Brazil   Brasilia\n",
       "R        Russia     Moscow\n",
       "I         India  New Delhi\n",
       "C         China    Beijing\n",
       "S  South Africa       None"
      ]
     },
     "execution_count": 214,
     "metadata": {},
     "output_type": "execute_result"
    }
   ],
   "source": [
    "pd.DataFrame(brics, index = ['B','R','I','C','S'])"
   ]
  },
  {
   "cell_type": "markdown",
   "metadata": {},
   "source": [
    "# Importing an external data files csv or excel files"
   ]
  },
  {
   "cell_type": "markdown",
   "metadata": {},
   "source": [
    "### path of working directory  : default path "
   ]
  },
  {
   "cell_type": "code",
   "execution_count": 215,
   "metadata": {},
   "outputs": [],
   "source": [
    "# get present working directory"
   ]
  },
  {
   "cell_type": "code",
   "execution_count": 216,
   "metadata": {},
   "outputs": [
    {
     "data": {
      "text/plain": [
       "'/home/ubuntu/work/Jan 18'"
      ]
     },
     "execution_count": 216,
     "metadata": {},
     "output_type": "execute_result"
    }
   ],
   "source": [
    "pwd()"
   ]
  },
  {
   "cell_type": "code",
   "execution_count": 217,
   "metadata": {},
   "outputs": [
    {
     "data": {
      "text/plain": [
       "'/home/ubuntu/work/Jan 18'"
      ]
     },
     "execution_count": 217,
     "metadata": {},
     "output_type": "execute_result"
    }
   ],
   "source": [
    "import os \n",
    "os.getcwd()"
   ]
  },
  {
   "cell_type": "code",
   "execution_count": null,
   "metadata": {},
   "outputs": [],
   "source": [
    "pd.read_csv(filepath )"
   ]
  },
  {
   "cell_type": "code",
   "execution_count": null,
   "metadata": {},
   "outputs": [],
   "source": [
    "# bfull address of teh file with filename and extension"
   ]
  },
  {
   "cell_type": "code",
   "execution_count": 225,
   "metadata": {},
   "outputs": [
    {
     "data": {
      "text/html": [
       "<div>\n",
       "<style scoped>\n",
       "    .dataframe tbody tr th:only-of-type {\n",
       "        vertical-align: middle;\n",
       "    }\n",
       "\n",
       "    .dataframe tbody tr th {\n",
       "        vertical-align: top;\n",
       "    }\n",
       "\n",
       "    .dataframe thead th {\n",
       "        text-align: right;\n",
       "    }\n",
       "</style>\n",
       "<table border=\"1\" class=\"dataframe\">\n",
       "  <thead>\n",
       "    <tr style=\"text-align: right;\">\n",
       "      <th></th>\n",
       "      <th>Make</th>\n",
       "      <th>Model</th>\n",
       "      <th>Type</th>\n",
       "      <th>Origin</th>\n",
       "      <th>DriveTrain</th>\n",
       "      <th>MSRP</th>\n",
       "      <th>Invoice</th>\n",
       "      <th>EngineSize</th>\n",
       "      <th>Cylinders</th>\n",
       "      <th>Horsepower</th>\n",
       "      <th>MPG_City</th>\n",
       "      <th>MPG_Highway</th>\n",
       "      <th>Weight</th>\n",
       "      <th>Wheelbase</th>\n",
       "      <th>Length</th>\n",
       "    </tr>\n",
       "  </thead>\n",
       "  <tbody>\n",
       "    <tr>\n",
       "      <th>0</th>\n",
       "      <td>Acura</td>\n",
       "      <td>MDX</td>\n",
       "      <td>SUV</td>\n",
       "      <td>Asia</td>\n",
       "      <td>All</td>\n",
       "      <td>36945.0</td>\n",
       "      <td>33337.0</td>\n",
       "      <td>3.5</td>\n",
       "      <td>6.0</td>\n",
       "      <td>265.0</td>\n",
       "      <td>17.0</td>\n",
       "      <td>23.0</td>\n",
       "      <td>4451.0</td>\n",
       "      <td>106.0</td>\n",
       "      <td>189.0</td>\n",
       "    </tr>\n",
       "    <tr>\n",
       "      <th>1</th>\n",
       "      <td>Acura</td>\n",
       "      <td>RSX Type S 2dr</td>\n",
       "      <td>Sedan</td>\n",
       "      <td>Asia</td>\n",
       "      <td>Front</td>\n",
       "      <td>23820.0</td>\n",
       "      <td>21761.0</td>\n",
       "      <td>2.0</td>\n",
       "      <td>4.0</td>\n",
       "      <td>200.0</td>\n",
       "      <td>24.0</td>\n",
       "      <td>31.0</td>\n",
       "      <td>2778.0</td>\n",
       "      <td>101.0</td>\n",
       "      <td>172.0</td>\n",
       "    </tr>\n",
       "    <tr>\n",
       "      <th>2</th>\n",
       "      <td>Acura</td>\n",
       "      <td>TSX 4dr</td>\n",
       "      <td>Sedan</td>\n",
       "      <td>Asia</td>\n",
       "      <td>Front</td>\n",
       "      <td>26990.0</td>\n",
       "      <td>24647.0</td>\n",
       "      <td>2.4</td>\n",
       "      <td>4.0</td>\n",
       "      <td>200.0</td>\n",
       "      <td>22.0</td>\n",
       "      <td>29.0</td>\n",
       "      <td>3230.0</td>\n",
       "      <td>105.0</td>\n",
       "      <td>183.0</td>\n",
       "    </tr>\n",
       "    <tr>\n",
       "      <th>3</th>\n",
       "      <td>Acura</td>\n",
       "      <td>TL 4dr</td>\n",
       "      <td>Sedan</td>\n",
       "      <td>Asia</td>\n",
       "      <td>Front</td>\n",
       "      <td>33195.0</td>\n",
       "      <td>30299.0</td>\n",
       "      <td>3.2</td>\n",
       "      <td>6.0</td>\n",
       "      <td>270.0</td>\n",
       "      <td>20.0</td>\n",
       "      <td>28.0</td>\n",
       "      <td>3575.0</td>\n",
       "      <td>108.0</td>\n",
       "      <td>186.0</td>\n",
       "    </tr>\n",
       "    <tr>\n",
       "      <th>4</th>\n",
       "      <td>Acura</td>\n",
       "      <td>3.5 RL 4dr</td>\n",
       "      <td>Sedan</td>\n",
       "      <td>Asia</td>\n",
       "      <td>Front</td>\n",
       "      <td>43755.0</td>\n",
       "      <td>39014.0</td>\n",
       "      <td>3.5</td>\n",
       "      <td>6.0</td>\n",
       "      <td>225.0</td>\n",
       "      <td>18.0</td>\n",
       "      <td>24.0</td>\n",
       "      <td>3880.0</td>\n",
       "      <td>115.0</td>\n",
       "      <td>197.0</td>\n",
       "    </tr>\n",
       "    <tr>\n",
       "      <th>5</th>\n",
       "      <td>Acura</td>\n",
       "      <td>3.5 RL w/Navigation 4dr</td>\n",
       "      <td>Sedan</td>\n",
       "      <td>Asia</td>\n",
       "      <td>Front</td>\n",
       "      <td>46100.0</td>\n",
       "      <td>41100.0</td>\n",
       "      <td>3.5</td>\n",
       "      <td>6.0</td>\n",
       "      <td>225.0</td>\n",
       "      <td>18.0</td>\n",
       "      <td>24.0</td>\n",
       "      <td>3893.0</td>\n",
       "      <td>115.0</td>\n",
       "      <td>197.0</td>\n",
       "    </tr>\n",
       "    <tr>\n",
       "      <th>6</th>\n",
       "      <td>Acura</td>\n",
       "      <td>NSX coupe 2dr manual S</td>\n",
       "      <td>Sports</td>\n",
       "      <td>Asia</td>\n",
       "      <td>Rear</td>\n",
       "      <td>89765.0</td>\n",
       "      <td>79978.0</td>\n",
       "      <td>3.2</td>\n",
       "      <td>6.0</td>\n",
       "      <td>290.0</td>\n",
       "      <td>17.0</td>\n",
       "      <td>24.0</td>\n",
       "      <td>3153.0</td>\n",
       "      <td>100.0</td>\n",
       "      <td>174.0</td>\n",
       "    </tr>\n",
       "    <tr>\n",
       "      <th>7</th>\n",
       "      <td>Audi</td>\n",
       "      <td>A4 1.8T 4dr</td>\n",
       "      <td>Sedan</td>\n",
       "      <td>Europe</td>\n",
       "      <td>Front</td>\n",
       "      <td>25940.0</td>\n",
       "      <td>23508.0</td>\n",
       "      <td>1.8</td>\n",
       "      <td>4.0</td>\n",
       "      <td>170.0</td>\n",
       "      <td>22.0</td>\n",
       "      <td>31.0</td>\n",
       "      <td>3252.0</td>\n",
       "      <td>104.0</td>\n",
       "      <td>179.0</td>\n",
       "    </tr>\n",
       "    <tr>\n",
       "      <th>8</th>\n",
       "      <td>Audi</td>\n",
       "      <td>A41.8T convertible 2dr</td>\n",
       "      <td>Sedan</td>\n",
       "      <td>Europe</td>\n",
       "      <td>Front</td>\n",
       "      <td>35940.0</td>\n",
       "      <td>32506.0</td>\n",
       "      <td>1.8</td>\n",
       "      <td>4.0</td>\n",
       "      <td>170.0</td>\n",
       "      <td>23.0</td>\n",
       "      <td>30.0</td>\n",
       "      <td>3638.0</td>\n",
       "      <td>105.0</td>\n",
       "      <td>180.0</td>\n",
       "    </tr>\n",
       "    <tr>\n",
       "      <th>9</th>\n",
       "      <td>Audi</td>\n",
       "      <td>A4 3.0 4dr</td>\n",
       "      <td>Sedan</td>\n",
       "      <td>Europe</td>\n",
       "      <td>Front</td>\n",
       "      <td>31840.0</td>\n",
       "      <td>28846.0</td>\n",
       "      <td>3.0</td>\n",
       "      <td>6.0</td>\n",
       "      <td>220.0</td>\n",
       "      <td>20.0</td>\n",
       "      <td>28.0</td>\n",
       "      <td>3462.0</td>\n",
       "      <td>104.0</td>\n",
       "      <td>179.0</td>\n",
       "    </tr>\n",
       "    <tr>\n",
       "      <th>10</th>\n",
       "      <td>Audi</td>\n",
       "      <td>A4 3.0 Quattro 4dr manual</td>\n",
       "      <td>Sedan</td>\n",
       "      <td>Europe</td>\n",
       "      <td>All</td>\n",
       "      <td>33430.0</td>\n",
       "      <td>30366.0</td>\n",
       "      <td>3.0</td>\n",
       "      <td>6.0</td>\n",
       "      <td>220.0</td>\n",
       "      <td>17.0</td>\n",
       "      <td>26.0</td>\n",
       "      <td>3583.0</td>\n",
       "      <td>104.0</td>\n",
       "      <td>179.0</td>\n",
       "    </tr>\n",
       "    <tr>\n",
       "      <th>11</th>\n",
       "      <td>Audi</td>\n",
       "      <td>A4 3.0 Quattro 4dr auto</td>\n",
       "      <td>Sedan</td>\n",
       "      <td>Europe</td>\n",
       "      <td>All</td>\n",
       "      <td>34480.0</td>\n",
       "      <td>31388.0</td>\n",
       "      <td>3.0</td>\n",
       "      <td>6.0</td>\n",
       "      <td>220.0</td>\n",
       "      <td>18.0</td>\n",
       "      <td>25.0</td>\n",
       "      <td>3627.0</td>\n",
       "      <td>104.0</td>\n",
       "      <td>179.0</td>\n",
       "    </tr>\n",
       "    <tr>\n",
       "      <th>12</th>\n",
       "      <td>Audi</td>\n",
       "      <td>A6 3.0 4dr</td>\n",
       "      <td>Sedan</td>\n",
       "      <td>Europe</td>\n",
       "      <td>Front</td>\n",
       "      <td>36640.0</td>\n",
       "      <td>33129.0</td>\n",
       "      <td>3.0</td>\n",
       "      <td>6.0</td>\n",
       "      <td>220.0</td>\n",
       "      <td>20.0</td>\n",
       "      <td>27.0</td>\n",
       "      <td>3561.0</td>\n",
       "      <td>109.0</td>\n",
       "      <td>192.0</td>\n",
       "    </tr>\n",
       "    <tr>\n",
       "      <th>13</th>\n",
       "      <td>Audi</td>\n",
       "      <td>A6 3.0 Quattro 4dr</td>\n",
       "      <td>Sedan</td>\n",
       "      <td>Europe</td>\n",
       "      <td>All</td>\n",
       "      <td>39640.0</td>\n",
       "      <td>35992.0</td>\n",
       "      <td>3.0</td>\n",
       "      <td>6.0</td>\n",
       "      <td>220.0</td>\n",
       "      <td>18.0</td>\n",
       "      <td>25.0</td>\n",
       "      <td>3880.0</td>\n",
       "      <td>109.0</td>\n",
       "      <td>192.0</td>\n",
       "    </tr>\n",
       "    <tr>\n",
       "      <th>14</th>\n",
       "      <td>Audi</td>\n",
       "      <td>A4 3.0 convertible 2dr</td>\n",
       "      <td>Sedan</td>\n",
       "      <td>Europe</td>\n",
       "      <td>Front</td>\n",
       "      <td>42490.0</td>\n",
       "      <td>38325.0</td>\n",
       "      <td>3.0</td>\n",
       "      <td>6.0</td>\n",
       "      <td>220.0</td>\n",
       "      <td>20.0</td>\n",
       "      <td>27.0</td>\n",
       "      <td>3814.0</td>\n",
       "      <td>105.0</td>\n",
       "      <td>180.0</td>\n",
       "    </tr>\n",
       "    <tr>\n",
       "      <th>15</th>\n",
       "      <td>Audi</td>\n",
       "      <td>A4 3.0 Quattro convertible 2dr</td>\n",
       "      <td>Sedan</td>\n",
       "      <td>Europe</td>\n",
       "      <td>All</td>\n",
       "      <td>44240.0</td>\n",
       "      <td>40075.0</td>\n",
       "      <td>3.0</td>\n",
       "      <td>6.0</td>\n",
       "      <td>220.0</td>\n",
       "      <td>18.0</td>\n",
       "      <td>25.0</td>\n",
       "      <td>4013.0</td>\n",
       "      <td>105.0</td>\n",
       "      <td>180.0</td>\n",
       "    </tr>\n",
       "    <tr>\n",
       "      <th>16</th>\n",
       "      <td>Audi</td>\n",
       "      <td>A6 2.7 Turbo Quattro 4dr</td>\n",
       "      <td>Sedan</td>\n",
       "      <td>Europe</td>\n",
       "      <td>All</td>\n",
       "      <td>42840.0</td>\n",
       "      <td>38840.0</td>\n",
       "      <td>2.7</td>\n",
       "      <td>6.0</td>\n",
       "      <td>250.0</td>\n",
       "      <td>18.0</td>\n",
       "      <td>25.0</td>\n",
       "      <td>3836.0</td>\n",
       "      <td>109.0</td>\n",
       "      <td>192.0</td>\n",
       "    </tr>\n",
       "    <tr>\n",
       "      <th>17</th>\n",
       "      <td>Audi</td>\n",
       "      <td>A6 4.2 Quattro 4dr</td>\n",
       "      <td>Sedan</td>\n",
       "      <td>Europe</td>\n",
       "      <td>All</td>\n",
       "      <td>49690.0</td>\n",
       "      <td>44936.0</td>\n",
       "      <td>4.2</td>\n",
       "      <td>8.0</td>\n",
       "      <td>300.0</td>\n",
       "      <td>17.0</td>\n",
       "      <td>24.0</td>\n",
       "      <td>4024.0</td>\n",
       "      <td>109.0</td>\n",
       "      <td>193.0</td>\n",
       "    </tr>\n",
       "    <tr>\n",
       "      <th>18</th>\n",
       "      <td>Audi</td>\n",
       "      <td>A8 L Quattro 4dr</td>\n",
       "      <td>Sedan</td>\n",
       "      <td>Europe</td>\n",
       "      <td>All</td>\n",
       "      <td>69190.0</td>\n",
       "      <td>64740.0</td>\n",
       "      <td>4.2</td>\n",
       "      <td>8.0</td>\n",
       "      <td>330.0</td>\n",
       "      <td>17.0</td>\n",
       "      <td>24.0</td>\n",
       "      <td>4399.0</td>\n",
       "      <td>121.0</td>\n",
       "      <td>204.0</td>\n",
       "    </tr>\n",
       "    <tr>\n",
       "      <th>19</th>\n",
       "      <td>Audi</td>\n",
       "      <td>S4 Quattro 4dr</td>\n",
       "      <td>Sedan</td>\n",
       "      <td>Europe</td>\n",
       "      <td>All</td>\n",
       "      <td>48040.0</td>\n",
       "      <td>43556.0</td>\n",
       "      <td>4.2</td>\n",
       "      <td>8.0</td>\n",
       "      <td>340.0</td>\n",
       "      <td>14.0</td>\n",
       "      <td>20.0</td>\n",
       "      <td>3825.0</td>\n",
       "      <td>104.0</td>\n",
       "      <td>179.0</td>\n",
       "    </tr>\n",
       "    <tr>\n",
       "      <th>20</th>\n",
       "      <td>Audi</td>\n",
       "      <td>RS 6 4dr</td>\n",
       "      <td>Sports</td>\n",
       "      <td>Europe</td>\n",
       "      <td>Front</td>\n",
       "      <td>84600.0</td>\n",
       "      <td>76417.0</td>\n",
       "      <td>4.2</td>\n",
       "      <td>8.0</td>\n",
       "      <td>450.0</td>\n",
       "      <td>15.0</td>\n",
       "      <td>22.0</td>\n",
       "      <td>4024.0</td>\n",
       "      <td>109.0</td>\n",
       "      <td>191.0</td>\n",
       "    </tr>\n",
       "    <tr>\n",
       "      <th>21</th>\n",
       "      <td>Audi</td>\n",
       "      <td>TT 1.8 convertible 2dr (coupe)</td>\n",
       "      <td>Sports</td>\n",
       "      <td>Europe</td>\n",
       "      <td>Front</td>\n",
       "      <td>35940.0</td>\n",
       "      <td>32512.0</td>\n",
       "      <td>1.8</td>\n",
       "      <td>4.0</td>\n",
       "      <td>180.0</td>\n",
       "      <td>20.0</td>\n",
       "      <td>28.0</td>\n",
       "      <td>3131.0</td>\n",
       "      <td>95.0</td>\n",
       "      <td>159.0</td>\n",
       "    </tr>\n",
       "    <tr>\n",
       "      <th>22</th>\n",
       "      <td>Audi</td>\n",
       "      <td>TT 1.8 Quattro 2dr (convertible)</td>\n",
       "      <td>Sports</td>\n",
       "      <td>Europe</td>\n",
       "      <td>All</td>\n",
       "      <td>37390.0</td>\n",
       "      <td>33891.0</td>\n",
       "      <td>1.8</td>\n",
       "      <td>4.0</td>\n",
       "      <td>225.0</td>\n",
       "      <td>20.0</td>\n",
       "      <td>28.0</td>\n",
       "      <td>2921.0</td>\n",
       "      <td>96.0</td>\n",
       "      <td>159.0</td>\n",
       "    </tr>\n",
       "    <tr>\n",
       "      <th>23</th>\n",
       "      <td>Audi</td>\n",
       "      <td>TT 3.2 coupe 2dr (convertible)</td>\n",
       "      <td>Sports</td>\n",
       "      <td>Europe</td>\n",
       "      <td>All</td>\n",
       "      <td>40590.0</td>\n",
       "      <td>36739.0</td>\n",
       "      <td>3.2</td>\n",
       "      <td>6.0</td>\n",
       "      <td>250.0</td>\n",
       "      <td>21.0</td>\n",
       "      <td>29.0</td>\n",
       "      <td>3351.0</td>\n",
       "      <td>96.0</td>\n",
       "      <td>159.0</td>\n",
       "    </tr>\n",
       "    <tr>\n",
       "      <th>24</th>\n",
       "      <td>Audi</td>\n",
       "      <td>A6 3.0 Avant Quattro</td>\n",
       "      <td>Wagon</td>\n",
       "      <td>Europe</td>\n",
       "      <td>All</td>\n",
       "      <td>40840.0</td>\n",
       "      <td>37060.0</td>\n",
       "      <td>3.0</td>\n",
       "      <td>6.0</td>\n",
       "      <td>220.0</td>\n",
       "      <td>18.0</td>\n",
       "      <td>25.0</td>\n",
       "      <td>4035.0</td>\n",
       "      <td>109.0</td>\n",
       "      <td>192.0</td>\n",
       "    </tr>\n",
       "    <tr>\n",
       "      <th>25</th>\n",
       "      <td>Audi</td>\n",
       "      <td>S4 Avant Quattro</td>\n",
       "      <td>Wagon</td>\n",
       "      <td>Europe</td>\n",
       "      <td>All</td>\n",
       "      <td>49090.0</td>\n",
       "      <td>44446.0</td>\n",
       "      <td>4.2</td>\n",
       "      <td>8.0</td>\n",
       "      <td>340.0</td>\n",
       "      <td>15.0</td>\n",
       "      <td>21.0</td>\n",
       "      <td>3936.0</td>\n",
       "      <td>104.0</td>\n",
       "      <td>179.0</td>\n",
       "    </tr>\n",
       "    <tr>\n",
       "      <th>26</th>\n",
       "      <td>BMW</td>\n",
       "      <td>X3 3.0i</td>\n",
       "      <td>SUV</td>\n",
       "      <td>Europe</td>\n",
       "      <td>All</td>\n",
       "      <td>37000.0</td>\n",
       "      <td>33873.0</td>\n",
       "      <td>3.0</td>\n",
       "      <td>6.0</td>\n",
       "      <td>225.0</td>\n",
       "      <td>16.0</td>\n",
       "      <td>23.0</td>\n",
       "      <td>4023.0</td>\n",
       "      <td>110.0</td>\n",
       "      <td>180.0</td>\n",
       "    </tr>\n",
       "    <tr>\n",
       "      <th>27</th>\n",
       "      <td>BMW</td>\n",
       "      <td>X5 4.4i</td>\n",
       "      <td>SUV</td>\n",
       "      <td>Europe</td>\n",
       "      <td>All</td>\n",
       "      <td>52195.0</td>\n",
       "      <td>47720.0</td>\n",
       "      <td>4.4</td>\n",
       "      <td>8.0</td>\n",
       "      <td>325.0</td>\n",
       "      <td>16.0</td>\n",
       "      <td>22.0</td>\n",
       "      <td>4824.0</td>\n",
       "      <td>111.0</td>\n",
       "      <td>184.0</td>\n",
       "    </tr>\n",
       "    <tr>\n",
       "      <th>28</th>\n",
       "      <td>BMW</td>\n",
       "      <td>325i 4dr</td>\n",
       "      <td>Sedan</td>\n",
       "      <td>Europe</td>\n",
       "      <td>Rear</td>\n",
       "      <td>28495.0</td>\n",
       "      <td>26155.0</td>\n",
       "      <td>2.5</td>\n",
       "      <td>6.0</td>\n",
       "      <td>184.0</td>\n",
       "      <td>20.0</td>\n",
       "      <td>29.0</td>\n",
       "      <td>3219.0</td>\n",
       "      <td>107.0</td>\n",
       "      <td>176.0</td>\n",
       "    </tr>\n",
       "    <tr>\n",
       "      <th>29</th>\n",
       "      <td>BMW</td>\n",
       "      <td>325Ci 2dr</td>\n",
       "      <td>Sedan</td>\n",
       "      <td>Europe</td>\n",
       "      <td>Rear</td>\n",
       "      <td>30795.0</td>\n",
       "      <td>28245.0</td>\n",
       "      <td>2.5</td>\n",
       "      <td>6.0</td>\n",
       "      <td>184.0</td>\n",
       "      <td>20.0</td>\n",
       "      <td>29.0</td>\n",
       "      <td>3197.0</td>\n",
       "      <td>107.0</td>\n",
       "      <td>177.0</td>\n",
       "    </tr>\n",
       "    <tr>\n",
       "      <th>...</th>\n",
       "      <td>...</td>\n",
       "      <td>...</td>\n",
       "      <td>...</td>\n",
       "      <td>...</td>\n",
       "      <td>...</td>\n",
       "      <td>...</td>\n",
       "      <td>...</td>\n",
       "      <td>...</td>\n",
       "      <td>...</td>\n",
       "      <td>...</td>\n",
       "      <td>...</td>\n",
       "      <td>...</td>\n",
       "      <td>...</td>\n",
       "      <td>...</td>\n",
       "      <td>...</td>\n",
       "    </tr>\n",
       "    <tr>\n",
       "      <th>398</th>\n",
       "      <td>Toyota</td>\n",
       "      <td>Tundra Regular Cab V6</td>\n",
       "      <td>Truck</td>\n",
       "      <td>Asia</td>\n",
       "      <td>Rear</td>\n",
       "      <td>16495.0</td>\n",
       "      <td>14978.0</td>\n",
       "      <td>3.4</td>\n",
       "      <td>6.0</td>\n",
       "      <td>190.0</td>\n",
       "      <td>16.0</td>\n",
       "      <td>18.0</td>\n",
       "      <td>3925.0</td>\n",
       "      <td>128.0</td>\n",
       "      <td>218.0</td>\n",
       "    </tr>\n",
       "    <tr>\n",
       "      <th>399</th>\n",
       "      <td>Toyota</td>\n",
       "      <td>Tundra Access Cab V6 SR5</td>\n",
       "      <td>Truck</td>\n",
       "      <td>Asia</td>\n",
       "      <td>All</td>\n",
       "      <td>25935.0</td>\n",
       "      <td>23520.0</td>\n",
       "      <td>3.4</td>\n",
       "      <td>6.0</td>\n",
       "      <td>190.0</td>\n",
       "      <td>14.0</td>\n",
       "      <td>17.0</td>\n",
       "      <td>4435.0</td>\n",
       "      <td>128.0</td>\n",
       "      <td>218.0</td>\n",
       "    </tr>\n",
       "    <tr>\n",
       "      <th>400</th>\n",
       "      <td>Toyota</td>\n",
       "      <td>Matrix XR</td>\n",
       "      <td>Wagon</td>\n",
       "      <td>Asia</td>\n",
       "      <td>Front</td>\n",
       "      <td>16695.0</td>\n",
       "      <td>15156.0</td>\n",
       "      <td>1.8</td>\n",
       "      <td>4.0</td>\n",
       "      <td>130.0</td>\n",
       "      <td>29.0</td>\n",
       "      <td>36.0</td>\n",
       "      <td>2679.0</td>\n",
       "      <td>102.0</td>\n",
       "      <td>171.0</td>\n",
       "    </tr>\n",
       "    <tr>\n",
       "      <th>401</th>\n",
       "      <td>Volkswagen</td>\n",
       "      <td>Touareg V6</td>\n",
       "      <td>SUV</td>\n",
       "      <td>Europe</td>\n",
       "      <td>All</td>\n",
       "      <td>35515.0</td>\n",
       "      <td>32243.0</td>\n",
       "      <td>3.2</td>\n",
       "      <td>6.0</td>\n",
       "      <td>220.0</td>\n",
       "      <td>15.0</td>\n",
       "      <td>20.0</td>\n",
       "      <td>5086.0</td>\n",
       "      <td>112.0</td>\n",
       "      <td>187.0</td>\n",
       "    </tr>\n",
       "    <tr>\n",
       "      <th>402</th>\n",
       "      <td>Volkswagen</td>\n",
       "      <td>Golf GLS 4dr</td>\n",
       "      <td>Sedan</td>\n",
       "      <td>Europe</td>\n",
       "      <td>Front</td>\n",
       "      <td>18715.0</td>\n",
       "      <td>17478.0</td>\n",
       "      <td>2.0</td>\n",
       "      <td>4.0</td>\n",
       "      <td>115.0</td>\n",
       "      <td>24.0</td>\n",
       "      <td>31.0</td>\n",
       "      <td>2897.0</td>\n",
       "      <td>99.0</td>\n",
       "      <td>165.0</td>\n",
       "    </tr>\n",
       "    <tr>\n",
       "      <th>403</th>\n",
       "      <td>Volkswagen</td>\n",
       "      <td>GTI 1.8T 2dr hatch</td>\n",
       "      <td>Sedan</td>\n",
       "      <td>Europe</td>\n",
       "      <td>Front</td>\n",
       "      <td>19825.0</td>\n",
       "      <td>18109.0</td>\n",
       "      <td>1.8</td>\n",
       "      <td>4.0</td>\n",
       "      <td>180.0</td>\n",
       "      <td>24.0</td>\n",
       "      <td>31.0</td>\n",
       "      <td>2934.0</td>\n",
       "      <td>99.0</td>\n",
       "      <td>168.0</td>\n",
       "    </tr>\n",
       "    <tr>\n",
       "      <th>404</th>\n",
       "      <td>Volkswagen</td>\n",
       "      <td>Jetta GLS TDI 4dr</td>\n",
       "      <td>Sedan</td>\n",
       "      <td>Europe</td>\n",
       "      <td>Front</td>\n",
       "      <td>21055.0</td>\n",
       "      <td>19638.0</td>\n",
       "      <td>1.9</td>\n",
       "      <td>4.0</td>\n",
       "      <td>100.0</td>\n",
       "      <td>38.0</td>\n",
       "      <td>46.0</td>\n",
       "      <td>3003.0</td>\n",
       "      <td>99.0</td>\n",
       "      <td>172.0</td>\n",
       "    </tr>\n",
       "    <tr>\n",
       "      <th>405</th>\n",
       "      <td>Volkswagen</td>\n",
       "      <td>New Beetle GLS 1.8T 2dr</td>\n",
       "      <td>Sedan</td>\n",
       "      <td>Europe</td>\n",
       "      <td>Front</td>\n",
       "      <td>21055.0</td>\n",
       "      <td>19638.0</td>\n",
       "      <td>1.8</td>\n",
       "      <td>4.0</td>\n",
       "      <td>150.0</td>\n",
       "      <td>24.0</td>\n",
       "      <td>31.0</td>\n",
       "      <td>2820.0</td>\n",
       "      <td>99.0</td>\n",
       "      <td>161.0</td>\n",
       "    </tr>\n",
       "    <tr>\n",
       "      <th>406</th>\n",
       "      <td>Volkswagen</td>\n",
       "      <td>Jetta GLI VR6 4dr</td>\n",
       "      <td>Sedan</td>\n",
       "      <td>Europe</td>\n",
       "      <td>Front</td>\n",
       "      <td>23785.0</td>\n",
       "      <td>21686.0</td>\n",
       "      <td>2.8</td>\n",
       "      <td>6.0</td>\n",
       "      <td>200.0</td>\n",
       "      <td>21.0</td>\n",
       "      <td>30.0</td>\n",
       "      <td>3179.0</td>\n",
       "      <td>99.0</td>\n",
       "      <td>172.0</td>\n",
       "    </tr>\n",
       "    <tr>\n",
       "      <th>407</th>\n",
       "      <td>Volkswagen</td>\n",
       "      <td>New Beetle GLS convertible 2dr</td>\n",
       "      <td>Sedan</td>\n",
       "      <td>Europe</td>\n",
       "      <td>Front</td>\n",
       "      <td>23215.0</td>\n",
       "      <td>21689.0</td>\n",
       "      <td>2.0</td>\n",
       "      <td>4.0</td>\n",
       "      <td>115.0</td>\n",
       "      <td>24.0</td>\n",
       "      <td>30.0</td>\n",
       "      <td>3082.0</td>\n",
       "      <td>99.0</td>\n",
       "      <td>161.0</td>\n",
       "    </tr>\n",
       "    <tr>\n",
       "      <th>408</th>\n",
       "      <td>Volkswagen</td>\n",
       "      <td>Passat GLS 4dr</td>\n",
       "      <td>Sedan</td>\n",
       "      <td>Europe</td>\n",
       "      <td>Front</td>\n",
       "      <td>23955.0</td>\n",
       "      <td>21898.0</td>\n",
       "      <td>1.8</td>\n",
       "      <td>4.0</td>\n",
       "      <td>170.0</td>\n",
       "      <td>22.0</td>\n",
       "      <td>31.0</td>\n",
       "      <td>3241.0</td>\n",
       "      <td>106.0</td>\n",
       "      <td>185.0</td>\n",
       "    </tr>\n",
       "    <tr>\n",
       "      <th>409</th>\n",
       "      <td>Volkswagen</td>\n",
       "      <td>Passat GLX V6 4MOTION 4dr</td>\n",
       "      <td>Sedan</td>\n",
       "      <td>Europe</td>\n",
       "      <td>Front</td>\n",
       "      <td>33180.0</td>\n",
       "      <td>30583.0</td>\n",
       "      <td>2.8</td>\n",
       "      <td>6.0</td>\n",
       "      <td>190.0</td>\n",
       "      <td>19.0</td>\n",
       "      <td>26.0</td>\n",
       "      <td>3721.0</td>\n",
       "      <td>106.0</td>\n",
       "      <td>185.0</td>\n",
       "    </tr>\n",
       "    <tr>\n",
       "      <th>410</th>\n",
       "      <td>Volkswagen</td>\n",
       "      <td>Passat W8 4MOTION 4dr</td>\n",
       "      <td>Sedan</td>\n",
       "      <td>Europe</td>\n",
       "      <td>Front</td>\n",
       "      <td>39235.0</td>\n",
       "      <td>36052.0</td>\n",
       "      <td>4.0</td>\n",
       "      <td>8.0</td>\n",
       "      <td>270.0</td>\n",
       "      <td>18.0</td>\n",
       "      <td>25.0</td>\n",
       "      <td>3953.0</td>\n",
       "      <td>106.0</td>\n",
       "      <td>185.0</td>\n",
       "    </tr>\n",
       "    <tr>\n",
       "      <th>411</th>\n",
       "      <td>Volkswagen</td>\n",
       "      <td>Phaeton 4dr</td>\n",
       "      <td>Sedan</td>\n",
       "      <td>Europe</td>\n",
       "      <td>Front</td>\n",
       "      <td>65000.0</td>\n",
       "      <td>59912.0</td>\n",
       "      <td>4.2</td>\n",
       "      <td>8.0</td>\n",
       "      <td>335.0</td>\n",
       "      <td>16.0</td>\n",
       "      <td>22.0</td>\n",
       "      <td>5194.0</td>\n",
       "      <td>118.0</td>\n",
       "      <td>204.0</td>\n",
       "    </tr>\n",
       "    <tr>\n",
       "      <th>412</th>\n",
       "      <td>Volkswagen</td>\n",
       "      <td>Phaeton W12 4dr</td>\n",
       "      <td>Sedan</td>\n",
       "      <td>Europe</td>\n",
       "      <td>Front</td>\n",
       "      <td>75000.0</td>\n",
       "      <td>69130.0</td>\n",
       "      <td>6.0</td>\n",
       "      <td>12.0</td>\n",
       "      <td>420.0</td>\n",
       "      <td>12.0</td>\n",
       "      <td>19.0</td>\n",
       "      <td>5399.0</td>\n",
       "      <td>118.0</td>\n",
       "      <td>204.0</td>\n",
       "    </tr>\n",
       "    <tr>\n",
       "      <th>413</th>\n",
       "      <td>Volkswagen</td>\n",
       "      <td>Jetta GL</td>\n",
       "      <td>Wagon</td>\n",
       "      <td>Europe</td>\n",
       "      <td>Front</td>\n",
       "      <td>19005.0</td>\n",
       "      <td>17427.0</td>\n",
       "      <td>2.0</td>\n",
       "      <td>4.0</td>\n",
       "      <td>115.0</td>\n",
       "      <td>24.0</td>\n",
       "      <td>30.0</td>\n",
       "      <td>3034.0</td>\n",
       "      <td>99.0</td>\n",
       "      <td>174.0</td>\n",
       "    </tr>\n",
       "    <tr>\n",
       "      <th>414</th>\n",
       "      <td>Volkswagen</td>\n",
       "      <td>Passat GLS 1.8T</td>\n",
       "      <td>Wagon</td>\n",
       "      <td>Europe</td>\n",
       "      <td>Front</td>\n",
       "      <td>24955.0</td>\n",
       "      <td>22801.0</td>\n",
       "      <td>1.8</td>\n",
       "      <td>4.0</td>\n",
       "      <td>170.0</td>\n",
       "      <td>22.0</td>\n",
       "      <td>31.0</td>\n",
       "      <td>3338.0</td>\n",
       "      <td>106.0</td>\n",
       "      <td>184.0</td>\n",
       "    </tr>\n",
       "    <tr>\n",
       "      <th>415</th>\n",
       "      <td>Volkswagen</td>\n",
       "      <td>Passat W8</td>\n",
       "      <td>Wagon</td>\n",
       "      <td>Europe</td>\n",
       "      <td>Front</td>\n",
       "      <td>40235.0</td>\n",
       "      <td>36956.0</td>\n",
       "      <td>4.0</td>\n",
       "      <td>8.0</td>\n",
       "      <td>270.0</td>\n",
       "      <td>18.0</td>\n",
       "      <td>25.0</td>\n",
       "      <td>4067.0</td>\n",
       "      <td>106.0</td>\n",
       "      <td>184.0</td>\n",
       "    </tr>\n",
       "    <tr>\n",
       "      <th>416</th>\n",
       "      <td>Volvo</td>\n",
       "      <td>XC90 T6</td>\n",
       "      <td>SUV</td>\n",
       "      <td>Europe</td>\n",
       "      <td>All</td>\n",
       "      <td>41250.0</td>\n",
       "      <td>38851.0</td>\n",
       "      <td>2.9</td>\n",
       "      <td>6.0</td>\n",
       "      <td>268.0</td>\n",
       "      <td>15.0</td>\n",
       "      <td>20.0</td>\n",
       "      <td>4638.0</td>\n",
       "      <td>113.0</td>\n",
       "      <td>189.0</td>\n",
       "    </tr>\n",
       "    <tr>\n",
       "      <th>417</th>\n",
       "      <td>Volvo</td>\n",
       "      <td>S40 4dr</td>\n",
       "      <td>Sedan</td>\n",
       "      <td>Europe</td>\n",
       "      <td>Front</td>\n",
       "      <td>25135.0</td>\n",
       "      <td>23701.0</td>\n",
       "      <td>1.9</td>\n",
       "      <td>4.0</td>\n",
       "      <td>170.0</td>\n",
       "      <td>22.0</td>\n",
       "      <td>29.0</td>\n",
       "      <td>2767.0</td>\n",
       "      <td>101.0</td>\n",
       "      <td>178.0</td>\n",
       "    </tr>\n",
       "    <tr>\n",
       "      <th>418</th>\n",
       "      <td>Volvo</td>\n",
       "      <td>S60 2.5 4dr</td>\n",
       "      <td>Sedan</td>\n",
       "      <td>Europe</td>\n",
       "      <td>All</td>\n",
       "      <td>31745.0</td>\n",
       "      <td>29916.0</td>\n",
       "      <td>2.5</td>\n",
       "      <td>5.0</td>\n",
       "      <td>208.0</td>\n",
       "      <td>20.0</td>\n",
       "      <td>27.0</td>\n",
       "      <td>3903.0</td>\n",
       "      <td>107.0</td>\n",
       "      <td>180.0</td>\n",
       "    </tr>\n",
       "    <tr>\n",
       "      <th>419</th>\n",
       "      <td>Volvo</td>\n",
       "      <td>S60 T5 4dr</td>\n",
       "      <td>Sedan</td>\n",
       "      <td>Europe</td>\n",
       "      <td>Front</td>\n",
       "      <td>34845.0</td>\n",
       "      <td>32902.0</td>\n",
       "      <td>2.3</td>\n",
       "      <td>5.0</td>\n",
       "      <td>247.0</td>\n",
       "      <td>20.0</td>\n",
       "      <td>28.0</td>\n",
       "      <td>3766.0</td>\n",
       "      <td>107.0</td>\n",
       "      <td>180.0</td>\n",
       "    </tr>\n",
       "    <tr>\n",
       "      <th>420</th>\n",
       "      <td>Volvo</td>\n",
       "      <td>S60 R 4dr</td>\n",
       "      <td>Sedan</td>\n",
       "      <td>Europe</td>\n",
       "      <td>All</td>\n",
       "      <td>37560.0</td>\n",
       "      <td>35382.0</td>\n",
       "      <td>2.5</td>\n",
       "      <td>5.0</td>\n",
       "      <td>300.0</td>\n",
       "      <td>18.0</td>\n",
       "      <td>25.0</td>\n",
       "      <td>3571.0</td>\n",
       "      <td>107.0</td>\n",
       "      <td>181.0</td>\n",
       "    </tr>\n",
       "    <tr>\n",
       "      <th>421</th>\n",
       "      <td>Volvo</td>\n",
       "      <td>S80 2.9 4dr</td>\n",
       "      <td>Sedan</td>\n",
       "      <td>Europe</td>\n",
       "      <td>Front</td>\n",
       "      <td>37730.0</td>\n",
       "      <td>35542.0</td>\n",
       "      <td>2.9</td>\n",
       "      <td>6.0</td>\n",
       "      <td>208.0</td>\n",
       "      <td>20.0</td>\n",
       "      <td>28.0</td>\n",
       "      <td>3576.0</td>\n",
       "      <td>110.0</td>\n",
       "      <td>190.0</td>\n",
       "    </tr>\n",
       "    <tr>\n",
       "      <th>422</th>\n",
       "      <td>Volvo</td>\n",
       "      <td>S80 2.5T 4dr</td>\n",
       "      <td>Sedan</td>\n",
       "      <td>Europe</td>\n",
       "      <td>All</td>\n",
       "      <td>37885.0</td>\n",
       "      <td>35688.0</td>\n",
       "      <td>2.5</td>\n",
       "      <td>5.0</td>\n",
       "      <td>194.0</td>\n",
       "      <td>20.0</td>\n",
       "      <td>27.0</td>\n",
       "      <td>3691.0</td>\n",
       "      <td>110.0</td>\n",
       "      <td>190.0</td>\n",
       "    </tr>\n",
       "    <tr>\n",
       "      <th>423</th>\n",
       "      <td>Volvo</td>\n",
       "      <td>C70 LPT convertible 2dr</td>\n",
       "      <td>Sedan</td>\n",
       "      <td>Europe</td>\n",
       "      <td>Front</td>\n",
       "      <td>40565.0</td>\n",
       "      <td>38203.0</td>\n",
       "      <td>2.4</td>\n",
       "      <td>5.0</td>\n",
       "      <td>197.0</td>\n",
       "      <td>21.0</td>\n",
       "      <td>28.0</td>\n",
       "      <td>3450.0</td>\n",
       "      <td>105.0</td>\n",
       "      <td>186.0</td>\n",
       "    </tr>\n",
       "    <tr>\n",
       "      <th>424</th>\n",
       "      <td>Volvo</td>\n",
       "      <td>C70 HPT convertible 2dr</td>\n",
       "      <td>Sedan</td>\n",
       "      <td>Europe</td>\n",
       "      <td>Front</td>\n",
       "      <td>42565.0</td>\n",
       "      <td>40083.0</td>\n",
       "      <td>2.3</td>\n",
       "      <td>5.0</td>\n",
       "      <td>242.0</td>\n",
       "      <td>20.0</td>\n",
       "      <td>26.0</td>\n",
       "      <td>3450.0</td>\n",
       "      <td>105.0</td>\n",
       "      <td>186.0</td>\n",
       "    </tr>\n",
       "    <tr>\n",
       "      <th>425</th>\n",
       "      <td>Volvo</td>\n",
       "      <td>S80 T6 4dr</td>\n",
       "      <td>Sedan</td>\n",
       "      <td>Europe</td>\n",
       "      <td>Front</td>\n",
       "      <td>45210.0</td>\n",
       "      <td>42573.0</td>\n",
       "      <td>2.9</td>\n",
       "      <td>6.0</td>\n",
       "      <td>268.0</td>\n",
       "      <td>19.0</td>\n",
       "      <td>26.0</td>\n",
       "      <td>3653.0</td>\n",
       "      <td>110.0</td>\n",
       "      <td>190.0</td>\n",
       "    </tr>\n",
       "    <tr>\n",
       "      <th>426</th>\n",
       "      <td>Volvo</td>\n",
       "      <td>V40</td>\n",
       "      <td>Wagon</td>\n",
       "      <td>Europe</td>\n",
       "      <td>Front</td>\n",
       "      <td>26135.0</td>\n",
       "      <td>24641.0</td>\n",
       "      <td>1.9</td>\n",
       "      <td>4.0</td>\n",
       "      <td>170.0</td>\n",
       "      <td>22.0</td>\n",
       "      <td>29.0</td>\n",
       "      <td>2822.0</td>\n",
       "      <td>101.0</td>\n",
       "      <td>180.0</td>\n",
       "    </tr>\n",
       "    <tr>\n",
       "      <th>427</th>\n",
       "      <td>Volvo</td>\n",
       "      <td>XC70</td>\n",
       "      <td>Wagon</td>\n",
       "      <td>Europe</td>\n",
       "      <td>All</td>\n",
       "      <td>35145.0</td>\n",
       "      <td>33112.0</td>\n",
       "      <td>2.5</td>\n",
       "      <td>5.0</td>\n",
       "      <td>208.0</td>\n",
       "      <td>20.0</td>\n",
       "      <td>27.0</td>\n",
       "      <td>3823.0</td>\n",
       "      <td>109.0</td>\n",
       "      <td>186.0</td>\n",
       "    </tr>\n",
       "  </tbody>\n",
       "</table>\n",
       "<p>428 rows × 15 columns</p>\n",
       "</div>"
      ],
      "text/plain": [
       "           Make                              Model    Type  Origin DriveTrain  \\\n",
       "0         Acura                                MDX     SUV    Asia        All   \n",
       "1         Acura                     RSX Type S 2dr   Sedan    Asia      Front   \n",
       "2         Acura                            TSX 4dr   Sedan    Asia      Front   \n",
       "3         Acura                             TL 4dr   Sedan    Asia      Front   \n",
       "4         Acura                         3.5 RL 4dr   Sedan    Asia      Front   \n",
       "5         Acura            3.5 RL w/Navigation 4dr   Sedan    Asia      Front   \n",
       "6         Acura             NSX coupe 2dr manual S  Sports    Asia       Rear   \n",
       "7          Audi                        A4 1.8T 4dr   Sedan  Europe      Front   \n",
       "8          Audi             A41.8T convertible 2dr   Sedan  Europe      Front   \n",
       "9          Audi                         A4 3.0 4dr   Sedan  Europe      Front   \n",
       "10         Audi          A4 3.0 Quattro 4dr manual   Sedan  Europe        All   \n",
       "11         Audi            A4 3.0 Quattro 4dr auto   Sedan  Europe        All   \n",
       "12         Audi                         A6 3.0 4dr   Sedan  Europe      Front   \n",
       "13         Audi                 A6 3.0 Quattro 4dr   Sedan  Europe        All   \n",
       "14         Audi             A4 3.0 convertible 2dr   Sedan  Europe      Front   \n",
       "15         Audi     A4 3.0 Quattro convertible 2dr   Sedan  Europe        All   \n",
       "16         Audi           A6 2.7 Turbo Quattro 4dr   Sedan  Europe        All   \n",
       "17         Audi                 A6 4.2 Quattro 4dr   Sedan  Europe        All   \n",
       "18         Audi                   A8 L Quattro 4dr   Sedan  Europe        All   \n",
       "19         Audi                     S4 Quattro 4dr   Sedan  Europe        All   \n",
       "20         Audi                           RS 6 4dr  Sports  Europe      Front   \n",
       "21         Audi     TT 1.8 convertible 2dr (coupe)  Sports  Europe      Front   \n",
       "22         Audi   TT 1.8 Quattro 2dr (convertible)  Sports  Europe        All   \n",
       "23         Audi     TT 3.2 coupe 2dr (convertible)  Sports  Europe        All   \n",
       "24         Audi               A6 3.0 Avant Quattro   Wagon  Europe        All   \n",
       "25         Audi                   S4 Avant Quattro   Wagon  Europe        All   \n",
       "26          BMW                            X3 3.0i     SUV  Europe        All   \n",
       "27          BMW                            X5 4.4i     SUV  Europe        All   \n",
       "28          BMW                           325i 4dr   Sedan  Europe       Rear   \n",
       "29          BMW                          325Ci 2dr   Sedan  Europe       Rear   \n",
       "..          ...                                ...     ...     ...        ...   \n",
       "398      Toyota              Tundra Regular Cab V6   Truck    Asia       Rear   \n",
       "399      Toyota           Tundra Access Cab V6 SR5   Truck    Asia        All   \n",
       "400      Toyota                          Matrix XR   Wagon    Asia      Front   \n",
       "401  Volkswagen                         Touareg V6     SUV  Europe        All   \n",
       "402  Volkswagen                       Golf GLS 4dr   Sedan  Europe      Front   \n",
       "403  Volkswagen                 GTI 1.8T 2dr hatch   Sedan  Europe      Front   \n",
       "404  Volkswagen                  Jetta GLS TDI 4dr   Sedan  Europe      Front   \n",
       "405  Volkswagen            New Beetle GLS 1.8T 2dr   Sedan  Europe      Front   \n",
       "406  Volkswagen                  Jetta GLI VR6 4dr   Sedan  Europe      Front   \n",
       "407  Volkswagen     New Beetle GLS convertible 2dr   Sedan  Europe      Front   \n",
       "408  Volkswagen                     Passat GLS 4dr   Sedan  Europe      Front   \n",
       "409  Volkswagen          Passat GLX V6 4MOTION 4dr   Sedan  Europe      Front   \n",
       "410  Volkswagen              Passat W8 4MOTION 4dr   Sedan  Europe      Front   \n",
       "411  Volkswagen                        Phaeton 4dr   Sedan  Europe      Front   \n",
       "412  Volkswagen                    Phaeton W12 4dr   Sedan  Europe      Front   \n",
       "413  Volkswagen                           Jetta GL   Wagon  Europe      Front   \n",
       "414  Volkswagen                    Passat GLS 1.8T   Wagon  Europe      Front   \n",
       "415  Volkswagen                          Passat W8   Wagon  Europe      Front   \n",
       "416       Volvo                            XC90 T6     SUV  Europe        All   \n",
       "417       Volvo                            S40 4dr   Sedan  Europe      Front   \n",
       "418       Volvo                        S60 2.5 4dr   Sedan  Europe        All   \n",
       "419       Volvo                         S60 T5 4dr   Sedan  Europe      Front   \n",
       "420       Volvo                          S60 R 4dr   Sedan  Europe        All   \n",
       "421       Volvo                        S80 2.9 4dr   Sedan  Europe      Front   \n",
       "422       Volvo                       S80 2.5T 4dr   Sedan  Europe        All   \n",
       "423       Volvo            C70 LPT convertible 2dr   Sedan  Europe      Front   \n",
       "424       Volvo            C70 HPT convertible 2dr   Sedan  Europe      Front   \n",
       "425       Volvo                         S80 T6 4dr   Sedan  Europe      Front   \n",
       "426       Volvo                                V40   Wagon  Europe      Front   \n",
       "427       Volvo                               XC70   Wagon  Europe        All   \n",
       "\n",
       "        MSRP  Invoice  EngineSize  Cylinders  Horsepower  MPG_City  \\\n",
       "0    36945.0  33337.0         3.5        6.0       265.0      17.0   \n",
       "1    23820.0  21761.0         2.0        4.0       200.0      24.0   \n",
       "2    26990.0  24647.0         2.4        4.0       200.0      22.0   \n",
       "3    33195.0  30299.0         3.2        6.0       270.0      20.0   \n",
       "4    43755.0  39014.0         3.5        6.0       225.0      18.0   \n",
       "5    46100.0  41100.0         3.5        6.0       225.0      18.0   \n",
       "6    89765.0  79978.0         3.2        6.0       290.0      17.0   \n",
       "7    25940.0  23508.0         1.8        4.0       170.0      22.0   \n",
       "8    35940.0  32506.0         1.8        4.0       170.0      23.0   \n",
       "9    31840.0  28846.0         3.0        6.0       220.0      20.0   \n",
       "10   33430.0  30366.0         3.0        6.0       220.0      17.0   \n",
       "11   34480.0  31388.0         3.0        6.0       220.0      18.0   \n",
       "12   36640.0  33129.0         3.0        6.0       220.0      20.0   \n",
       "13   39640.0  35992.0         3.0        6.0       220.0      18.0   \n",
       "14   42490.0  38325.0         3.0        6.0       220.0      20.0   \n",
       "15   44240.0  40075.0         3.0        6.0       220.0      18.0   \n",
       "16   42840.0  38840.0         2.7        6.0       250.0      18.0   \n",
       "17   49690.0  44936.0         4.2        8.0       300.0      17.0   \n",
       "18   69190.0  64740.0         4.2        8.0       330.0      17.0   \n",
       "19   48040.0  43556.0         4.2        8.0       340.0      14.0   \n",
       "20   84600.0  76417.0         4.2        8.0       450.0      15.0   \n",
       "21   35940.0  32512.0         1.8        4.0       180.0      20.0   \n",
       "22   37390.0  33891.0         1.8        4.0       225.0      20.0   \n",
       "23   40590.0  36739.0         3.2        6.0       250.0      21.0   \n",
       "24   40840.0  37060.0         3.0        6.0       220.0      18.0   \n",
       "25   49090.0  44446.0         4.2        8.0       340.0      15.0   \n",
       "26   37000.0  33873.0         3.0        6.0       225.0      16.0   \n",
       "27   52195.0  47720.0         4.4        8.0       325.0      16.0   \n",
       "28   28495.0  26155.0         2.5        6.0       184.0      20.0   \n",
       "29   30795.0  28245.0         2.5        6.0       184.0      20.0   \n",
       "..       ...      ...         ...        ...         ...       ...   \n",
       "398  16495.0  14978.0         3.4        6.0       190.0      16.0   \n",
       "399  25935.0  23520.0         3.4        6.0       190.0      14.0   \n",
       "400  16695.0  15156.0         1.8        4.0       130.0      29.0   \n",
       "401  35515.0  32243.0         3.2        6.0       220.0      15.0   \n",
       "402  18715.0  17478.0         2.0        4.0       115.0      24.0   \n",
       "403  19825.0  18109.0         1.8        4.0       180.0      24.0   \n",
       "404  21055.0  19638.0         1.9        4.0       100.0      38.0   \n",
       "405  21055.0  19638.0         1.8        4.0       150.0      24.0   \n",
       "406  23785.0  21686.0         2.8        6.0       200.0      21.0   \n",
       "407  23215.0  21689.0         2.0        4.0       115.0      24.0   \n",
       "408  23955.0  21898.0         1.8        4.0       170.0      22.0   \n",
       "409  33180.0  30583.0         2.8        6.0       190.0      19.0   \n",
       "410  39235.0  36052.0         4.0        8.0       270.0      18.0   \n",
       "411  65000.0  59912.0         4.2        8.0       335.0      16.0   \n",
       "412  75000.0  69130.0         6.0       12.0       420.0      12.0   \n",
       "413  19005.0  17427.0         2.0        4.0       115.0      24.0   \n",
       "414  24955.0  22801.0         1.8        4.0       170.0      22.0   \n",
       "415  40235.0  36956.0         4.0        8.0       270.0      18.0   \n",
       "416  41250.0  38851.0         2.9        6.0       268.0      15.0   \n",
       "417  25135.0  23701.0         1.9        4.0       170.0      22.0   \n",
       "418  31745.0  29916.0         2.5        5.0       208.0      20.0   \n",
       "419  34845.0  32902.0         2.3        5.0       247.0      20.0   \n",
       "420  37560.0  35382.0         2.5        5.0       300.0      18.0   \n",
       "421  37730.0  35542.0         2.9        6.0       208.0      20.0   \n",
       "422  37885.0  35688.0         2.5        5.0       194.0      20.0   \n",
       "423  40565.0  38203.0         2.4        5.0       197.0      21.0   \n",
       "424  42565.0  40083.0         2.3        5.0       242.0      20.0   \n",
       "425  45210.0  42573.0         2.9        6.0       268.0      19.0   \n",
       "426  26135.0  24641.0         1.9        4.0       170.0      22.0   \n",
       "427  35145.0  33112.0         2.5        5.0       208.0      20.0   \n",
       "\n",
       "     MPG_Highway  Weight  Wheelbase  Length  \n",
       "0           23.0  4451.0      106.0   189.0  \n",
       "1           31.0  2778.0      101.0   172.0  \n",
       "2           29.0  3230.0      105.0   183.0  \n",
       "3           28.0  3575.0      108.0   186.0  \n",
       "4           24.0  3880.0      115.0   197.0  \n",
       "5           24.0  3893.0      115.0   197.0  \n",
       "6           24.0  3153.0      100.0   174.0  \n",
       "7           31.0  3252.0      104.0   179.0  \n",
       "8           30.0  3638.0      105.0   180.0  \n",
       "9           28.0  3462.0      104.0   179.0  \n",
       "10          26.0  3583.0      104.0   179.0  \n",
       "11          25.0  3627.0      104.0   179.0  \n",
       "12          27.0  3561.0      109.0   192.0  \n",
       "13          25.0  3880.0      109.0   192.0  \n",
       "14          27.0  3814.0      105.0   180.0  \n",
       "15          25.0  4013.0      105.0   180.0  \n",
       "16          25.0  3836.0      109.0   192.0  \n",
       "17          24.0  4024.0      109.0   193.0  \n",
       "18          24.0  4399.0      121.0   204.0  \n",
       "19          20.0  3825.0      104.0   179.0  \n",
       "20          22.0  4024.0      109.0   191.0  \n",
       "21          28.0  3131.0       95.0   159.0  \n",
       "22          28.0  2921.0       96.0   159.0  \n",
       "23          29.0  3351.0       96.0   159.0  \n",
       "24          25.0  4035.0      109.0   192.0  \n",
       "25          21.0  3936.0      104.0   179.0  \n",
       "26          23.0  4023.0      110.0   180.0  \n",
       "27          22.0  4824.0      111.0   184.0  \n",
       "28          29.0  3219.0      107.0   176.0  \n",
       "29          29.0  3197.0      107.0   177.0  \n",
       "..           ...     ...        ...     ...  \n",
       "398         18.0  3925.0      128.0   218.0  \n",
       "399         17.0  4435.0      128.0   218.0  \n",
       "400         36.0  2679.0      102.0   171.0  \n",
       "401         20.0  5086.0      112.0   187.0  \n",
       "402         31.0  2897.0       99.0   165.0  \n",
       "403         31.0  2934.0       99.0   168.0  \n",
       "404         46.0  3003.0       99.0   172.0  \n",
       "405         31.0  2820.0       99.0   161.0  \n",
       "406         30.0  3179.0       99.0   172.0  \n",
       "407         30.0  3082.0       99.0   161.0  \n",
       "408         31.0  3241.0      106.0   185.0  \n",
       "409         26.0  3721.0      106.0   185.0  \n",
       "410         25.0  3953.0      106.0   185.0  \n",
       "411         22.0  5194.0      118.0   204.0  \n",
       "412         19.0  5399.0      118.0   204.0  \n",
       "413         30.0  3034.0       99.0   174.0  \n",
       "414         31.0  3338.0      106.0   184.0  \n",
       "415         25.0  4067.0      106.0   184.0  \n",
       "416         20.0  4638.0      113.0   189.0  \n",
       "417         29.0  2767.0      101.0   178.0  \n",
       "418         27.0  3903.0      107.0   180.0  \n",
       "419         28.0  3766.0      107.0   180.0  \n",
       "420         25.0  3571.0      107.0   181.0  \n",
       "421         28.0  3576.0      110.0   190.0  \n",
       "422         27.0  3691.0      110.0   190.0  \n",
       "423         28.0  3450.0      105.0   186.0  \n",
       "424         26.0  3450.0      105.0   186.0  \n",
       "425         26.0  3653.0      110.0   190.0  \n",
       "426         29.0  2822.0      101.0   180.0  \n",
       "427         27.0  3823.0      109.0   186.0  \n",
       "\n",
       "[428 rows x 15 columns]"
      ]
     },
     "execution_count": 225,
     "metadata": {},
     "output_type": "execute_result"
    }
   ],
   "source": [
    "pd.read_csv('~/work/data/cars.csv')"
   ]
  },
  {
   "cell_type": "code",
   "execution_count": 231,
   "metadata": {},
   "outputs": [],
   "source": [
    "os.chdir('/home/ubuntu/work/data/')"
   ]
  },
  {
   "cell_type": "code",
   "execution_count": 233,
   "metadata": {},
   "outputs": [],
   "source": [
    "car = pd.read_csv('cars.csv')"
   ]
  },
  {
   "cell_type": "code",
   "execution_count": 235,
   "metadata": {},
   "outputs": [
    {
     "name": "stdout",
     "output_type": "stream",
     "text": [
      "Help on function read_csv in module pandas.io.parsers:\n",
      "\n",
      "read_csv(filepath_or_buffer, sep=',', delimiter=None, header='infer', names=None, index_col=None, usecols=None, squeeze=False, prefix=None, mangle_dupe_cols=True, dtype=None, engine=None, converters=None, true_values=None, false_values=None, skipinitialspace=False, skiprows=None, skipfooter=0, nrows=None, na_values=None, keep_default_na=True, na_filter=True, verbose=False, skip_blank_lines=True, parse_dates=False, infer_datetime_format=False, keep_date_col=False, date_parser=None, dayfirst=False, iterator=False, chunksize=None, compression='infer', thousands=None, decimal=b'.', lineterminator=None, quotechar='\"', quoting=0, doublequote=True, escapechar=None, comment=None, encoding=None, dialect=None, tupleize_cols=None, error_bad_lines=True, warn_bad_lines=True, delim_whitespace=False, low_memory=True, memory_map=False, float_precision=None)\n",
      "    Read a comma-separated values (csv) file into DataFrame.\n",
      "    \n",
      "    Also supports optionally iterating or breaking of the file\n",
      "    into chunks.\n",
      "    \n",
      "    Additional help can be found in the online docs for\n",
      "    `IO Tools <http://pandas.pydata.org/pandas-docs/stable/io.html>`_.\n",
      "    \n",
      "    Parameters\n",
      "    ----------\n",
      "    filepath_or_buffer : str, path object, or file-like object\n",
      "        Any valid string path is acceptable. The string could be a URL. Valid\n",
      "        URL schemes include http, ftp, s3, and file. For file URLs, a host is\n",
      "        expected. A local file could be: file://localhost/path/to/table.csv.\n",
      "    \n",
      "        If you want to pass in a path object, pandas accepts either\n",
      "        ``pathlib.Path`` or ``py._path.local.LocalPath``.\n",
      "    \n",
      "        By file-like object, we refer to objects with a ``read()`` method, such as\n",
      "        a file handler (e.g. via builtin ``open`` function) or ``StringIO``.\n",
      "    sep : str, default ','\n",
      "        Delimiter to use. If sep is None, the C engine cannot automatically detect\n",
      "        the separator, but the Python parsing engine can, meaning the latter will\n",
      "        be used and automatically detect the separator by Python's builtin sniffer\n",
      "        tool, ``csv.Sniffer``. In addition, separators longer than 1 character and\n",
      "        different from ``'\\s+'`` will be interpreted as regular expressions and\n",
      "        will also force the use of the Python parsing engine. Note that regex\n",
      "        delimiters are prone to ignoring quoted data. Regex example: ``'\\r\\t'``.\n",
      "    delimiter : str, default ``None``\n",
      "        Alias for sep.\n",
      "    header : int, list of int, default 'infer'\n",
      "        Row number(s) to use as the column names, and the start of the\n",
      "        data.  Default behavior is to infer the column names: if no names\n",
      "        are passed the behavior is identical to ``header=0`` and column\n",
      "        names are inferred from the first line of the file, if column\n",
      "        names are passed explicitly then the behavior is identical to\n",
      "        ``header=None``. Explicitly pass ``header=0`` to be able to\n",
      "        replace existing names. The header can be a list of integers that\n",
      "        specify row locations for a multi-index on the columns\n",
      "        e.g. [0,1,3]. Intervening rows that are not specified will be\n",
      "        skipped (e.g. 2 in this example is skipped). Note that this\n",
      "        parameter ignores commented lines and empty lines if\n",
      "        ``skip_blank_lines=True``, so ``header=0`` denotes the first line of\n",
      "        data rather than the first line of the file.\n",
      "    names : array-like, optional\n",
      "        List of column names to use. If file contains no header row, then you\n",
      "        should explicitly pass ``header=None``. Duplicates in this list will cause\n",
      "        a ``UserWarning`` to be issued.\n",
      "    index_col : int, sequence or bool, optional\n",
      "        Column to use as the row labels of the DataFrame. If a sequence is given, a\n",
      "        MultiIndex is used. If you have a malformed file with delimiters at the end\n",
      "        of each line, you might consider ``index_col=False`` to force pandas to\n",
      "        not use the first column as the index (row names).\n",
      "    usecols : list-like or callable, optional\n",
      "        Return a subset of the columns. If list-like, all elements must either\n",
      "        be positional (i.e. integer indices into the document columns) or strings\n",
      "        that correspond to column names provided either by the user in `names` or\n",
      "        inferred from the document header row(s). For example, a valid list-like\n",
      "        `usecols` parameter would be ``[0, 1, 2]`` or ``['foo', 'bar', 'baz']``.\n",
      "        Element order is ignored, so ``usecols=[0, 1]`` is the same as ``[1, 0]``.\n",
      "        To instantiate a DataFrame from ``data`` with element order preserved use\n",
      "        ``pd.read_csv(data, usecols=['foo', 'bar'])[['foo', 'bar']]`` for columns\n",
      "        in ``['foo', 'bar']`` order or\n",
      "        ``pd.read_csv(data, usecols=['foo', 'bar'])[['bar', 'foo']]``\n",
      "        for ``['bar', 'foo']`` order.\n",
      "    \n",
      "        If callable, the callable function will be evaluated against the column\n",
      "        names, returning names where the callable function evaluates to True. An\n",
      "        example of a valid callable argument would be ``lambda x: x.upper() in\n",
      "        ['AAA', 'BBB', 'DDD']``. Using this parameter results in much faster\n",
      "        parsing time and lower memory usage.\n",
      "    squeeze : bool, default False\n",
      "        If the parsed data only contains one column then return a Series.\n",
      "    prefix : str, optional\n",
      "        Prefix to add to column numbers when no header, e.g. 'X' for X0, X1, ...\n",
      "    mangle_dupe_cols : bool, default True\n",
      "        Duplicate columns will be specified as 'X', 'X.1', ...'X.N', rather than\n",
      "        'X'...'X'. Passing in False will cause data to be overwritten if there\n",
      "        are duplicate names in the columns.\n",
      "    dtype : Type name or dict of column -> type, optional\n",
      "        Data type for data or columns. E.g. {'a': np.float64, 'b': np.int32,\n",
      "        'c': 'Int64'}\n",
      "        Use `str` or `object` together with suitable `na_values` settings\n",
      "        to preserve and not interpret dtype.\n",
      "        If converters are specified, they will be applied INSTEAD\n",
      "        of dtype conversion.\n",
      "    engine : {'c', 'python'}, optional\n",
      "        Parser engine to use. The C engine is faster while the python engine is\n",
      "        currently more feature-complete.\n",
      "    converters : dict, optional\n",
      "        Dict of functions for converting values in certain columns. Keys can either\n",
      "        be integers or column labels.\n",
      "    true_values : list, optional\n",
      "        Values to consider as True.\n",
      "    false_values : list, optional\n",
      "        Values to consider as False.\n",
      "    skipinitialspace : bool, default False\n",
      "        Skip spaces after delimiter.\n",
      "    skiprows : list-like, int or callable, optional\n",
      "        Line numbers to skip (0-indexed) or number of lines to skip (int)\n",
      "        at the start of the file.\n",
      "    \n",
      "        If callable, the callable function will be evaluated against the row\n",
      "        indices, returning True if the row should be skipped and False otherwise.\n",
      "        An example of a valid callable argument would be ``lambda x: x in [0, 2]``.\n",
      "    skipfooter : int, default 0\n",
      "        Number of lines at bottom of file to skip (Unsupported with engine='c').\n",
      "    nrows : int, optional\n",
      "        Number of rows of file to read. Useful for reading pieces of large files.\n",
      "    na_values : scalar, str, list-like, or dict, optional\n",
      "        Additional strings to recognize as NA/NaN. If dict passed, specific\n",
      "        per-column NA values.  By default the following values are interpreted as\n",
      "        NaN: '', '#N/A', '#N/A N/A', '#NA', '-1.#IND', '-1.#QNAN', '-NaN', '-nan',\n",
      "        '1.#IND', '1.#QNAN', 'N/A', 'NA', 'NULL', 'NaN', 'n/a', 'nan',\n",
      "        'null'.\n",
      "    keep_default_na : bool, default True\n",
      "        Whether or not to include the default NaN values when parsing the data.\n",
      "        Depending on whether `na_values` is passed in, the behavior is as follows:\n",
      "    \n",
      "        * If `keep_default_na` is True, and `na_values` are specified, `na_values`\n",
      "          is appended to the default NaN values used for parsing.\n",
      "        * If `keep_default_na` is True, and `na_values` are not specified, only\n",
      "          the default NaN values are used for parsing.\n",
      "        * If `keep_default_na` is False, and `na_values` are specified, only\n",
      "          the NaN values specified `na_values` are used for parsing.\n",
      "        * If `keep_default_na` is False, and `na_values` are not specified, no\n",
      "          strings will be parsed as NaN.\n",
      "    \n",
      "        Note that if `na_filter` is passed in as False, the `keep_default_na` and\n",
      "        `na_values` parameters will be ignored.\n",
      "    na_filter : bool, default True\n",
      "        Detect missing value markers (empty strings and the value of na_values). In\n",
      "        data without any NAs, passing na_filter=False can improve the performance\n",
      "        of reading a large file.\n",
      "    verbose : bool, default False\n",
      "        Indicate number of NA values placed in non-numeric columns.\n",
      "    skip_blank_lines : bool, default True\n",
      "        If True, skip over blank lines rather than interpreting as NaN values.\n",
      "    parse_dates : bool or list of int or names or list of lists or dict, default False\n",
      "        The behavior is as follows:\n",
      "    \n",
      "        * boolean. If True -> try parsing the index.\n",
      "        * list of int or names. e.g. If [1, 2, 3] -> try parsing columns 1, 2, 3\n",
      "          each as a separate date column.\n",
      "        * list of lists. e.g.  If [[1, 3]] -> combine columns 1 and 3 and parse as\n",
      "          a single date column.\n",
      "        * dict, e.g. {'foo' : [1, 3]} -> parse columns 1, 3 as date and call\n",
      "          result 'foo'\n",
      "    \n",
      "        If a column or index cannot be represented as an array of datetimes,\n",
      "        say because of an unparseable value or a mixture of timezones, the column\n",
      "        or index will be returned unaltered as an object data type. For\n",
      "        non-standard datetime parsing, use ``pd.to_datetime`` after\n",
      "        ``pd.read_csv``. To parse an index or column with a mixture of timezones,\n",
      "        specify ``date_parser`` to be a partially-applied\n",
      "        :func:`pandas.to_datetime` with ``utc=True``. See\n",
      "        :ref:`io.csv.mixed_timezones` for more.\n",
      "    \n",
      "        Note: A fast-path exists for iso8601-formatted dates.\n",
      "    infer_datetime_format : bool, default False\n",
      "        If True and `parse_dates` is enabled, pandas will attempt to infer the\n",
      "        format of the datetime strings in the columns, and if it can be inferred,\n",
      "        switch to a faster method of parsing them. In some cases this can increase\n",
      "        the parsing speed by 5-10x.\n",
      "    keep_date_col : bool, default False\n",
      "        If True and `parse_dates` specifies combining multiple columns then\n",
      "        keep the original columns.\n",
      "    date_parser : function, optional\n",
      "        Function to use for converting a sequence of string columns to an array of\n",
      "        datetime instances. The default uses ``dateutil.parser.parser`` to do the\n",
      "        conversion. Pandas will try to call `date_parser` in three different ways,\n",
      "        advancing to the next if an exception occurs: 1) Pass one or more arrays\n",
      "        (as defined by `parse_dates`) as arguments; 2) concatenate (row-wise) the\n",
      "        string values from the columns defined by `parse_dates` into a single array\n",
      "        and pass that; and 3) call `date_parser` once for each row using one or\n",
      "        more strings (corresponding to the columns defined by `parse_dates`) as\n",
      "        arguments.\n",
      "    dayfirst : bool, default False\n",
      "        DD/MM format dates, international and European format.\n",
      "    iterator : bool, default False\n",
      "        Return TextFileReader object for iteration or getting chunks with\n",
      "        ``get_chunk()``.\n",
      "    chunksize : int, optional\n",
      "        Return TextFileReader object for iteration.\n",
      "        See the `IO Tools docs\n",
      "        <http://pandas.pydata.org/pandas-docs/stable/io.html#io-chunking>`_\n",
      "        for more information on ``iterator`` and ``chunksize``.\n",
      "    compression : {'infer', 'gzip', 'bz2', 'zip', 'xz', None}, default 'infer'\n",
      "        For on-the-fly decompression of on-disk data. If 'infer' and\n",
      "        `filepath_or_buffer` is path-like, then detect compression from the\n",
      "        following extensions: '.gz', '.bz2', '.zip', or '.xz' (otherwise no\n",
      "        decompression). If using 'zip', the ZIP file must contain only one data\n",
      "        file to be read in. Set to None for no decompression.\n",
      "    \n",
      "        .. versionadded:: 0.18.1 support for 'zip' and 'xz' compression.\n",
      "    \n",
      "    thousands : str, optional\n",
      "        Thousands separator.\n",
      "    decimal : str, default '.'\n",
      "        Character to recognize as decimal point (e.g. use ',' for European data).\n",
      "    lineterminator : str (length 1), optional\n",
      "        Character to break file into lines. Only valid with C parser.\n",
      "    quotechar : str (length 1), optional\n",
      "        The character used to denote the start and end of a quoted item. Quoted\n",
      "        items can include the delimiter and it will be ignored.\n",
      "    quoting : int or csv.QUOTE_* instance, default 0\n",
      "        Control field quoting behavior per ``csv.QUOTE_*`` constants. Use one of\n",
      "        QUOTE_MINIMAL (0), QUOTE_ALL (1), QUOTE_NONNUMERIC (2) or QUOTE_NONE (3).\n",
      "    doublequote : bool, default ``True``\n",
      "       When quotechar is specified and quoting is not ``QUOTE_NONE``, indicate\n",
      "       whether or not to interpret two consecutive quotechar elements INSIDE a\n",
      "       field as a single ``quotechar`` element.\n",
      "    escapechar : str (length 1), optional\n",
      "        One-character string used to escape other characters.\n",
      "    comment : str, optional\n",
      "        Indicates remainder of line should not be parsed. If found at the beginning\n",
      "        of a line, the line will be ignored altogether. This parameter must be a\n",
      "        single character. Like empty lines (as long as ``skip_blank_lines=True``),\n",
      "        fully commented lines are ignored by the parameter `header` but not by\n",
      "        `skiprows`. For example, if ``comment='#'``, parsing\n",
      "        ``#empty\\na,b,c\\n1,2,3`` with ``header=0`` will result in 'a,b,c' being\n",
      "        treated as the header.\n",
      "    encoding : str, optional\n",
      "        Encoding to use for UTF when reading/writing (ex. 'utf-8'). `List of Python\n",
      "        standard encodings\n",
      "        <https://docs.python.org/3/library/codecs.html#standard-encodings>`_ .\n",
      "    dialect : str or csv.Dialect, optional\n",
      "        If provided, this parameter will override values (default or not) for the\n",
      "        following parameters: `delimiter`, `doublequote`, `escapechar`,\n",
      "        `skipinitialspace`, `quotechar`, and `quoting`. If it is necessary to\n",
      "        override values, a ParserWarning will be issued. See csv.Dialect\n",
      "        documentation for more details.\n",
      "    tupleize_cols : bool, default False\n",
      "        Leave a list of tuples on columns as is (default is to convert to\n",
      "        a MultiIndex on the columns).\n",
      "    \n",
      "        .. deprecated:: 0.21.0\n",
      "           This argument will be removed and will always convert to MultiIndex\n",
      "    \n",
      "    error_bad_lines : bool, default True\n",
      "        Lines with too many fields (e.g. a csv line with too many commas) will by\n",
      "        default cause an exception to be raised, and no DataFrame will be returned.\n",
      "        If False, then these \"bad lines\" will dropped from the DataFrame that is\n",
      "        returned.\n",
      "    warn_bad_lines : bool, default True\n",
      "        If error_bad_lines is False, and warn_bad_lines is True, a warning for each\n",
      "        \"bad line\" will be output.\n",
      "    delim_whitespace : bool, default False\n",
      "        Specifies whether or not whitespace (e.g. ``' '`` or ``'    '``) will be\n",
      "        used as the sep. Equivalent to setting ``sep='\\s+'``. If this option\n",
      "        is set to True, nothing should be passed in for the ``delimiter``\n",
      "        parameter.\n",
      "    \n",
      "        .. versionadded:: 0.18.1 support for the Python parser.\n",
      "    \n",
      "    low_memory : bool, default True\n",
      "        Internally process the file in chunks, resulting in lower memory use\n",
      "        while parsing, but possibly mixed type inference.  To ensure no mixed\n",
      "        types either set False, or specify the type with the `dtype` parameter.\n",
      "        Note that the entire file is read into a single DataFrame regardless,\n",
      "        use the `chunksize` or `iterator` parameter to return the data in chunks.\n",
      "        (Only valid with C parser).\n",
      "    memory_map : bool, default False\n",
      "        If a filepath is provided for `filepath_or_buffer`, map the file object\n",
      "        directly onto memory and access the data directly from there. Using this\n",
      "        option can improve performance because there is no longer any I/O overhead.\n",
      "    float_precision : str, optional\n",
      "        Specifies which converter the C engine should use for floating-point\n",
      "        values. The options are `None` for the ordinary converter,\n",
      "        `high` for the high-precision converter, and `round_trip` for the\n",
      "        round-trip converter.\n",
      "    \n",
      "    Returns\n",
      "    -------\n",
      "    DataFrame or TextParser\n",
      "        A comma-separated values (csv) file is returned as two-dimensional\n",
      "        data structure with labeled axes.\n",
      "    \n",
      "    See Also\n",
      "    --------\n",
      "    to_csv : Write DataFrame to a comma-separated values (csv) file.\n",
      "    read_csv : Read a comma-separated values (csv) file into DataFrame.\n",
      "    read_fwf : Read a table of fixed-width formatted lines into DataFrame.\n",
      "    \n",
      "    Examples\n",
      "    --------\n",
      "    >>> pd.read_csv('data.csv')  # doctest: +SKIP\n",
      "\n"
     ]
    }
   ],
   "source": [
    "help(pd.read_csv)"
   ]
  },
  {
   "cell_type": "code",
   "execution_count": null,
   "metadata": {},
   "outputs": [],
   "source": [
    "'~/Downloads/cars.csv'"
   ]
  },
  {
   "cell_type": "markdown",
   "metadata": {},
   "source": [
    "# basic structure of the data `"
   ]
  },
  {
   "cell_type": "code",
   "execution_count": 238,
   "metadata": {},
   "outputs": [
    {
     "name": "stdout",
     "output_type": "stream",
     "text": [
      "Shape :  (428, 15)\n",
      "Column names :  Index(['Make', 'Model', 'Type', 'Origin', 'DriveTrain', 'MSRP', 'Invoice',\n",
      "       'EngineSize', 'Cylinders', 'Horsepower', 'MPG_City', 'MPG_Highway',\n",
      "       'Weight', 'Wheelbase', 'Length'],\n",
      "      dtype='object')\n",
      "Row Labels /Index : RangeIndex(start=0, stop=428, step=1)\n",
      "Datatypes for each column :\n",
      " Make            object\n",
      "Model           object\n",
      "Type            object\n",
      "Origin          object\n",
      "DriveTrain      object\n",
      "MSRP           float64\n",
      "Invoice        float64\n",
      "EngineSize     float64\n",
      "Cylinders      float64\n",
      "Horsepower     float64\n",
      "MPG_City       float64\n",
      "MPG_Highway    float64\n",
      "Weight         float64\n",
      "Wheelbase      float64\n",
      "Length         float64\n",
      "dtype: object\n"
     ]
    }
   ],
   "source": [
    "print('Shape : ', car.shape)\n",
    "print('Column names : ', car.columns)\n",
    "print('Row Labels /Index :',car.index )\n",
    "print('Datatypes for each column :\\n', car.dtypes)"
   ]
  },
  {
   "cell_type": "code",
   "execution_count": 239,
   "metadata": {},
   "outputs": [
    {
     "name": "stdout",
     "output_type": "stream",
     "text": [
      "<class 'pandas.core.frame.DataFrame'>\n",
      "RangeIndex: 428 entries, 0 to 427\n",
      "Data columns (total 15 columns):\n",
      "Make           428 non-null object\n",
      "Model          428 non-null object\n",
      "Type           428 non-null object\n",
      "Origin         428 non-null object\n",
      "DriveTrain     428 non-null object\n",
      "MSRP           428 non-null float64\n",
      "Invoice        428 non-null float64\n",
      "EngineSize     428 non-null float64\n",
      "Cylinders      426 non-null float64\n",
      "Horsepower     428 non-null float64\n",
      "MPG_City       428 non-null float64\n",
      "MPG_Highway    428 non-null float64\n",
      "Weight         428 non-null float64\n",
      "Wheelbase      428 non-null float64\n",
      "Length         428 non-null float64\n",
      "dtypes: float64(10), object(5)\n",
      "memory usage: 50.2+ KB\n"
     ]
    }
   ],
   "source": [
    "car.info()"
   ]
  },
  {
   "cell_type": "markdown",
   "metadata": {},
   "source": [
    "## Snapshot of the data first 5 rows"
   ]
  },
  {
   "cell_type": "code",
   "execution_count": 240,
   "metadata": {},
   "outputs": [
    {
     "data": {
      "text/html": [
       "<div>\n",
       "<style scoped>\n",
       "    .dataframe tbody tr th:only-of-type {\n",
       "        vertical-align: middle;\n",
       "    }\n",
       "\n",
       "    .dataframe tbody tr th {\n",
       "        vertical-align: top;\n",
       "    }\n",
       "\n",
       "    .dataframe thead th {\n",
       "        text-align: right;\n",
       "    }\n",
       "</style>\n",
       "<table border=\"1\" class=\"dataframe\">\n",
       "  <thead>\n",
       "    <tr style=\"text-align: right;\">\n",
       "      <th></th>\n",
       "      <th>Make</th>\n",
       "      <th>Model</th>\n",
       "      <th>Type</th>\n",
       "      <th>Origin</th>\n",
       "      <th>DriveTrain</th>\n",
       "      <th>MSRP</th>\n",
       "      <th>Invoice</th>\n",
       "      <th>EngineSize</th>\n",
       "      <th>Cylinders</th>\n",
       "      <th>Horsepower</th>\n",
       "      <th>MPG_City</th>\n",
       "      <th>MPG_Highway</th>\n",
       "      <th>Weight</th>\n",
       "      <th>Wheelbase</th>\n",
       "      <th>Length</th>\n",
       "    </tr>\n",
       "  </thead>\n",
       "  <tbody>\n",
       "    <tr>\n",
       "      <th>0</th>\n",
       "      <td>Acura</td>\n",
       "      <td>MDX</td>\n",
       "      <td>SUV</td>\n",
       "      <td>Asia</td>\n",
       "      <td>All</td>\n",
       "      <td>36945.0</td>\n",
       "      <td>33337.0</td>\n",
       "      <td>3.5</td>\n",
       "      <td>6.0</td>\n",
       "      <td>265.0</td>\n",
       "      <td>17.0</td>\n",
       "      <td>23.0</td>\n",
       "      <td>4451.0</td>\n",
       "      <td>106.0</td>\n",
       "      <td>189.0</td>\n",
       "    </tr>\n",
       "    <tr>\n",
       "      <th>1</th>\n",
       "      <td>Acura</td>\n",
       "      <td>RSX Type S 2dr</td>\n",
       "      <td>Sedan</td>\n",
       "      <td>Asia</td>\n",
       "      <td>Front</td>\n",
       "      <td>23820.0</td>\n",
       "      <td>21761.0</td>\n",
       "      <td>2.0</td>\n",
       "      <td>4.0</td>\n",
       "      <td>200.0</td>\n",
       "      <td>24.0</td>\n",
       "      <td>31.0</td>\n",
       "      <td>2778.0</td>\n",
       "      <td>101.0</td>\n",
       "      <td>172.0</td>\n",
       "    </tr>\n",
       "    <tr>\n",
       "      <th>2</th>\n",
       "      <td>Acura</td>\n",
       "      <td>TSX 4dr</td>\n",
       "      <td>Sedan</td>\n",
       "      <td>Asia</td>\n",
       "      <td>Front</td>\n",
       "      <td>26990.0</td>\n",
       "      <td>24647.0</td>\n",
       "      <td>2.4</td>\n",
       "      <td>4.0</td>\n",
       "      <td>200.0</td>\n",
       "      <td>22.0</td>\n",
       "      <td>29.0</td>\n",
       "      <td>3230.0</td>\n",
       "      <td>105.0</td>\n",
       "      <td>183.0</td>\n",
       "    </tr>\n",
       "    <tr>\n",
       "      <th>3</th>\n",
       "      <td>Acura</td>\n",
       "      <td>TL 4dr</td>\n",
       "      <td>Sedan</td>\n",
       "      <td>Asia</td>\n",
       "      <td>Front</td>\n",
       "      <td>33195.0</td>\n",
       "      <td>30299.0</td>\n",
       "      <td>3.2</td>\n",
       "      <td>6.0</td>\n",
       "      <td>270.0</td>\n",
       "      <td>20.0</td>\n",
       "      <td>28.0</td>\n",
       "      <td>3575.0</td>\n",
       "      <td>108.0</td>\n",
       "      <td>186.0</td>\n",
       "    </tr>\n",
       "    <tr>\n",
       "      <th>4</th>\n",
       "      <td>Acura</td>\n",
       "      <td>3.5 RL 4dr</td>\n",
       "      <td>Sedan</td>\n",
       "      <td>Asia</td>\n",
       "      <td>Front</td>\n",
       "      <td>43755.0</td>\n",
       "      <td>39014.0</td>\n",
       "      <td>3.5</td>\n",
       "      <td>6.0</td>\n",
       "      <td>225.0</td>\n",
       "      <td>18.0</td>\n",
       "      <td>24.0</td>\n",
       "      <td>3880.0</td>\n",
       "      <td>115.0</td>\n",
       "      <td>197.0</td>\n",
       "    </tr>\n",
       "  </tbody>\n",
       "</table>\n",
       "</div>"
      ],
      "text/plain": [
       "    Make            Model   Type Origin DriveTrain     MSRP  Invoice  \\\n",
       "0  Acura              MDX    SUV   Asia        All  36945.0  33337.0   \n",
       "1  Acura   RSX Type S 2dr  Sedan   Asia      Front  23820.0  21761.0   \n",
       "2  Acura          TSX 4dr  Sedan   Asia      Front  26990.0  24647.0   \n",
       "3  Acura           TL 4dr  Sedan   Asia      Front  33195.0  30299.0   \n",
       "4  Acura       3.5 RL 4dr  Sedan   Asia      Front  43755.0  39014.0   \n",
       "\n",
       "   EngineSize  Cylinders  Horsepower  MPG_City  MPG_Highway  Weight  \\\n",
       "0         3.5        6.0       265.0      17.0         23.0  4451.0   \n",
       "1         2.0        4.0       200.0      24.0         31.0  2778.0   \n",
       "2         2.4        4.0       200.0      22.0         29.0  3230.0   \n",
       "3         3.2        6.0       270.0      20.0         28.0  3575.0   \n",
       "4         3.5        6.0       225.0      18.0         24.0  3880.0   \n",
       "\n",
       "   Wheelbase  Length  \n",
       "0      106.0   189.0  \n",
       "1      101.0   172.0  \n",
       "2      105.0   183.0  \n",
       "3      108.0   186.0  \n",
       "4      115.0   197.0  "
      ]
     },
     "execution_count": 240,
     "metadata": {},
     "output_type": "execute_result"
    }
   ],
   "source": [
    "car.head() # by default gives first five rows"
   ]
  },
  {
   "cell_type": "code",
   "execution_count": 241,
   "metadata": {},
   "outputs": [
    {
     "data": {
      "text/html": [
       "<div>\n",
       "<style scoped>\n",
       "    .dataframe tbody tr th:only-of-type {\n",
       "        vertical-align: middle;\n",
       "    }\n",
       "\n",
       "    .dataframe tbody tr th {\n",
       "        vertical-align: top;\n",
       "    }\n",
       "\n",
       "    .dataframe thead th {\n",
       "        text-align: right;\n",
       "    }\n",
       "</style>\n",
       "<table border=\"1\" class=\"dataframe\">\n",
       "  <thead>\n",
       "    <tr style=\"text-align: right;\">\n",
       "      <th></th>\n",
       "      <th>Make</th>\n",
       "      <th>Model</th>\n",
       "      <th>Type</th>\n",
       "      <th>Origin</th>\n",
       "      <th>DriveTrain</th>\n",
       "      <th>MSRP</th>\n",
       "      <th>Invoice</th>\n",
       "      <th>EngineSize</th>\n",
       "      <th>Cylinders</th>\n",
       "      <th>Horsepower</th>\n",
       "      <th>MPG_City</th>\n",
       "      <th>MPG_Highway</th>\n",
       "      <th>Weight</th>\n",
       "      <th>Wheelbase</th>\n",
       "      <th>Length</th>\n",
       "    </tr>\n",
       "  </thead>\n",
       "  <tbody>\n",
       "    <tr>\n",
       "      <th>423</th>\n",
       "      <td>Volvo</td>\n",
       "      <td>C70 LPT convertible 2dr</td>\n",
       "      <td>Sedan</td>\n",
       "      <td>Europe</td>\n",
       "      <td>Front</td>\n",
       "      <td>40565.0</td>\n",
       "      <td>38203.0</td>\n",
       "      <td>2.4</td>\n",
       "      <td>5.0</td>\n",
       "      <td>197.0</td>\n",
       "      <td>21.0</td>\n",
       "      <td>28.0</td>\n",
       "      <td>3450.0</td>\n",
       "      <td>105.0</td>\n",
       "      <td>186.0</td>\n",
       "    </tr>\n",
       "    <tr>\n",
       "      <th>424</th>\n",
       "      <td>Volvo</td>\n",
       "      <td>C70 HPT convertible 2dr</td>\n",
       "      <td>Sedan</td>\n",
       "      <td>Europe</td>\n",
       "      <td>Front</td>\n",
       "      <td>42565.0</td>\n",
       "      <td>40083.0</td>\n",
       "      <td>2.3</td>\n",
       "      <td>5.0</td>\n",
       "      <td>242.0</td>\n",
       "      <td>20.0</td>\n",
       "      <td>26.0</td>\n",
       "      <td>3450.0</td>\n",
       "      <td>105.0</td>\n",
       "      <td>186.0</td>\n",
       "    </tr>\n",
       "    <tr>\n",
       "      <th>425</th>\n",
       "      <td>Volvo</td>\n",
       "      <td>S80 T6 4dr</td>\n",
       "      <td>Sedan</td>\n",
       "      <td>Europe</td>\n",
       "      <td>Front</td>\n",
       "      <td>45210.0</td>\n",
       "      <td>42573.0</td>\n",
       "      <td>2.9</td>\n",
       "      <td>6.0</td>\n",
       "      <td>268.0</td>\n",
       "      <td>19.0</td>\n",
       "      <td>26.0</td>\n",
       "      <td>3653.0</td>\n",
       "      <td>110.0</td>\n",
       "      <td>190.0</td>\n",
       "    </tr>\n",
       "    <tr>\n",
       "      <th>426</th>\n",
       "      <td>Volvo</td>\n",
       "      <td>V40</td>\n",
       "      <td>Wagon</td>\n",
       "      <td>Europe</td>\n",
       "      <td>Front</td>\n",
       "      <td>26135.0</td>\n",
       "      <td>24641.0</td>\n",
       "      <td>1.9</td>\n",
       "      <td>4.0</td>\n",
       "      <td>170.0</td>\n",
       "      <td>22.0</td>\n",
       "      <td>29.0</td>\n",
       "      <td>2822.0</td>\n",
       "      <td>101.0</td>\n",
       "      <td>180.0</td>\n",
       "    </tr>\n",
       "    <tr>\n",
       "      <th>427</th>\n",
       "      <td>Volvo</td>\n",
       "      <td>XC70</td>\n",
       "      <td>Wagon</td>\n",
       "      <td>Europe</td>\n",
       "      <td>All</td>\n",
       "      <td>35145.0</td>\n",
       "      <td>33112.0</td>\n",
       "      <td>2.5</td>\n",
       "      <td>5.0</td>\n",
       "      <td>208.0</td>\n",
       "      <td>20.0</td>\n",
       "      <td>27.0</td>\n",
       "      <td>3823.0</td>\n",
       "      <td>109.0</td>\n",
       "      <td>186.0</td>\n",
       "    </tr>\n",
       "  </tbody>\n",
       "</table>\n",
       "</div>"
      ],
      "text/plain": [
       "      Make                     Model   Type  Origin DriveTrain     MSRP  \\\n",
       "423  Volvo   C70 LPT convertible 2dr  Sedan  Europe      Front  40565.0   \n",
       "424  Volvo   C70 HPT convertible 2dr  Sedan  Europe      Front  42565.0   \n",
       "425  Volvo                S80 T6 4dr  Sedan  Europe      Front  45210.0   \n",
       "426  Volvo                       V40  Wagon  Europe      Front  26135.0   \n",
       "427  Volvo                      XC70  Wagon  Europe        All  35145.0   \n",
       "\n",
       "     Invoice  EngineSize  Cylinders  Horsepower  MPG_City  MPG_Highway  \\\n",
       "423  38203.0         2.4        5.0       197.0      21.0         28.0   \n",
       "424  40083.0         2.3        5.0       242.0      20.0         26.0   \n",
       "425  42573.0         2.9        6.0       268.0      19.0         26.0   \n",
       "426  24641.0         1.9        4.0       170.0      22.0         29.0   \n",
       "427  33112.0         2.5        5.0       208.0      20.0         27.0   \n",
       "\n",
       "     Weight  Wheelbase  Length  \n",
       "423  3450.0      105.0   186.0  \n",
       "424  3450.0      105.0   186.0  \n",
       "425  3653.0      110.0   190.0  \n",
       "426  2822.0      101.0   180.0  \n",
       "427  3823.0      109.0   186.0  "
      ]
     },
     "execution_count": 241,
     "metadata": {},
     "output_type": "execute_result"
    }
   ],
   "source": [
    "car.tail() # last 5 rows"
   ]
  },
  {
   "cell_type": "code",
   "execution_count": 242,
   "metadata": {},
   "outputs": [
    {
     "data": {
      "text/html": [
       "<div>\n",
       "<style scoped>\n",
       "    .dataframe tbody tr th:only-of-type {\n",
       "        vertical-align: middle;\n",
       "    }\n",
       "\n",
       "    .dataframe tbody tr th {\n",
       "        vertical-align: top;\n",
       "    }\n",
       "\n",
       "    .dataframe thead th {\n",
       "        text-align: right;\n",
       "    }\n",
       "</style>\n",
       "<table border=\"1\" class=\"dataframe\">\n",
       "  <thead>\n",
       "    <tr style=\"text-align: right;\">\n",
       "      <th></th>\n",
       "      <th>Make</th>\n",
       "      <th>Model</th>\n",
       "      <th>Type</th>\n",
       "      <th>Origin</th>\n",
       "      <th>DriveTrain</th>\n",
       "      <th>MSRP</th>\n",
       "      <th>Invoice</th>\n",
       "      <th>EngineSize</th>\n",
       "      <th>Cylinders</th>\n",
       "      <th>Horsepower</th>\n",
       "      <th>MPG_City</th>\n",
       "      <th>MPG_Highway</th>\n",
       "      <th>Weight</th>\n",
       "      <th>Wheelbase</th>\n",
       "      <th>Length</th>\n",
       "    </tr>\n",
       "  </thead>\n",
       "  <tbody>\n",
       "    <tr>\n",
       "      <th>0</th>\n",
       "      <td>Acura</td>\n",
       "      <td>MDX</td>\n",
       "      <td>SUV</td>\n",
       "      <td>Asia</td>\n",
       "      <td>All</td>\n",
       "      <td>36945.0</td>\n",
       "      <td>33337.0</td>\n",
       "      <td>3.5</td>\n",
       "      <td>6.0</td>\n",
       "      <td>265.0</td>\n",
       "      <td>17.0</td>\n",
       "      <td>23.0</td>\n",
       "      <td>4451.0</td>\n",
       "      <td>106.0</td>\n",
       "      <td>189.0</td>\n",
       "    </tr>\n",
       "    <tr>\n",
       "      <th>1</th>\n",
       "      <td>Acura</td>\n",
       "      <td>RSX Type S 2dr</td>\n",
       "      <td>Sedan</td>\n",
       "      <td>Asia</td>\n",
       "      <td>Front</td>\n",
       "      <td>23820.0</td>\n",
       "      <td>21761.0</td>\n",
       "      <td>2.0</td>\n",
       "      <td>4.0</td>\n",
       "      <td>200.0</td>\n",
       "      <td>24.0</td>\n",
       "      <td>31.0</td>\n",
       "      <td>2778.0</td>\n",
       "      <td>101.0</td>\n",
       "      <td>172.0</td>\n",
       "    </tr>\n",
       "  </tbody>\n",
       "</table>\n",
       "</div>"
      ],
      "text/plain": [
       "    Make            Model   Type Origin DriveTrain     MSRP  Invoice  \\\n",
       "0  Acura              MDX    SUV   Asia        All  36945.0  33337.0   \n",
       "1  Acura   RSX Type S 2dr  Sedan   Asia      Front  23820.0  21761.0   \n",
       "\n",
       "   EngineSize  Cylinders  Horsepower  MPG_City  MPG_Highway  Weight  \\\n",
       "0         3.5        6.0       265.0      17.0         23.0  4451.0   \n",
       "1         2.0        4.0       200.0      24.0         31.0  2778.0   \n",
       "\n",
       "   Wheelbase  Length  \n",
       "0      106.0   189.0  \n",
       "1      101.0   172.0  "
      ]
     },
     "execution_count": 242,
     "metadata": {},
     "output_type": "execute_result"
    }
   ],
   "source": [
    "car.head(2)"
   ]
  },
  {
   "cell_type": "code",
   "execution_count": 243,
   "metadata": {},
   "outputs": [
    {
     "data": {
      "text/html": [
       "<div>\n",
       "<style scoped>\n",
       "    .dataframe tbody tr th:only-of-type {\n",
       "        vertical-align: middle;\n",
       "    }\n",
       "\n",
       "    .dataframe tbody tr th {\n",
       "        vertical-align: top;\n",
       "    }\n",
       "\n",
       "    .dataframe thead th {\n",
       "        text-align: right;\n",
       "    }\n",
       "</style>\n",
       "<table border=\"1\" class=\"dataframe\">\n",
       "  <thead>\n",
       "    <tr style=\"text-align: right;\">\n",
       "      <th></th>\n",
       "      <th>Make</th>\n",
       "      <th>Model</th>\n",
       "      <th>Type</th>\n",
       "      <th>Origin</th>\n",
       "      <th>DriveTrain</th>\n",
       "      <th>MSRP</th>\n",
       "      <th>Invoice</th>\n",
       "      <th>EngineSize</th>\n",
       "      <th>Cylinders</th>\n",
       "      <th>Horsepower</th>\n",
       "      <th>MPG_City</th>\n",
       "      <th>MPG_Highway</th>\n",
       "      <th>Weight</th>\n",
       "      <th>Wheelbase</th>\n",
       "      <th>Length</th>\n",
       "    </tr>\n",
       "  </thead>\n",
       "  <tbody>\n",
       "    <tr>\n",
       "      <th>426</th>\n",
       "      <td>Volvo</td>\n",
       "      <td>V40</td>\n",
       "      <td>Wagon</td>\n",
       "      <td>Europe</td>\n",
       "      <td>Front</td>\n",
       "      <td>26135.0</td>\n",
       "      <td>24641.0</td>\n",
       "      <td>1.9</td>\n",
       "      <td>4.0</td>\n",
       "      <td>170.0</td>\n",
       "      <td>22.0</td>\n",
       "      <td>29.0</td>\n",
       "      <td>2822.0</td>\n",
       "      <td>101.0</td>\n",
       "      <td>180.0</td>\n",
       "    </tr>\n",
       "    <tr>\n",
       "      <th>427</th>\n",
       "      <td>Volvo</td>\n",
       "      <td>XC70</td>\n",
       "      <td>Wagon</td>\n",
       "      <td>Europe</td>\n",
       "      <td>All</td>\n",
       "      <td>35145.0</td>\n",
       "      <td>33112.0</td>\n",
       "      <td>2.5</td>\n",
       "      <td>5.0</td>\n",
       "      <td>208.0</td>\n",
       "      <td>20.0</td>\n",
       "      <td>27.0</td>\n",
       "      <td>3823.0</td>\n",
       "      <td>109.0</td>\n",
       "      <td>186.0</td>\n",
       "    </tr>\n",
       "  </tbody>\n",
       "</table>\n",
       "</div>"
      ],
      "text/plain": [
       "      Make  Model   Type  Origin DriveTrain     MSRP  Invoice  EngineSize  \\\n",
       "426  Volvo    V40  Wagon  Europe      Front  26135.0  24641.0         1.9   \n",
       "427  Volvo   XC70  Wagon  Europe        All  35145.0  33112.0         2.5   \n",
       "\n",
       "     Cylinders  Horsepower  MPG_City  MPG_Highway  Weight  Wheelbase  Length  \n",
       "426        4.0       170.0      22.0         29.0  2822.0      101.0   180.0  \n",
       "427        5.0       208.0      20.0         27.0  3823.0      109.0   186.0  "
      ]
     },
     "execution_count": 243,
     "metadata": {},
     "output_type": "execute_result"
    }
   ],
   "source": [
    "car.tail(2)"
   ]
  },
  {
   "cell_type": "markdown",
   "metadata": {},
   "source": [
    "# access the rows and columns"
   ]
  },
  {
   "cell_type": "markdown",
   "metadata": {},
   "source": [
    "## Access columns"
   ]
  },
  {
   "cell_type": "code",
   "execution_count": 245,
   "metadata": {},
   "outputs": [
    {
     "data": {
      "text/plain": [
       "0           Acura\n",
       "1           Acura\n",
       "2           Acura\n",
       "3           Acura\n",
       "4           Acura\n",
       "5           Acura\n",
       "6           Acura\n",
       "7            Audi\n",
       "8            Audi\n",
       "9            Audi\n",
       "10           Audi\n",
       "11           Audi\n",
       "12           Audi\n",
       "13           Audi\n",
       "14           Audi\n",
       "15           Audi\n",
       "16           Audi\n",
       "17           Audi\n",
       "18           Audi\n",
       "19           Audi\n",
       "20           Audi\n",
       "21           Audi\n",
       "22           Audi\n",
       "23           Audi\n",
       "24           Audi\n",
       "25           Audi\n",
       "26            BMW\n",
       "27            BMW\n",
       "28            BMW\n",
       "29            BMW\n",
       "          ...    \n",
       "398        Toyota\n",
       "399        Toyota\n",
       "400        Toyota\n",
       "401    Volkswagen\n",
       "402    Volkswagen\n",
       "403    Volkswagen\n",
       "404    Volkswagen\n",
       "405    Volkswagen\n",
       "406    Volkswagen\n",
       "407    Volkswagen\n",
       "408    Volkswagen\n",
       "409    Volkswagen\n",
       "410    Volkswagen\n",
       "411    Volkswagen\n",
       "412    Volkswagen\n",
       "413    Volkswagen\n",
       "414    Volkswagen\n",
       "415    Volkswagen\n",
       "416         Volvo\n",
       "417         Volvo\n",
       "418         Volvo\n",
       "419         Volvo\n",
       "420         Volvo\n",
       "421         Volvo\n",
       "422         Volvo\n",
       "423         Volvo\n",
       "424         Volvo\n",
       "425         Volvo\n",
       "426         Volvo\n",
       "427         Volvo\n",
       "Name: Make, Length: 428, dtype: object"
      ]
     },
     "execution_count": 245,
     "metadata": {},
     "output_type": "execute_result"
    }
   ],
   "source": [
    "car.Make # column as a Series "
   ]
  },
  {
   "cell_type": "code",
   "execution_count": 246,
   "metadata": {},
   "outputs": [
    {
     "data": {
      "text/plain": [
       "0           Acura\n",
       "1           Acura\n",
       "2           Acura\n",
       "3           Acura\n",
       "4           Acura\n",
       "5           Acura\n",
       "6           Acura\n",
       "7            Audi\n",
       "8            Audi\n",
       "9            Audi\n",
       "10           Audi\n",
       "11           Audi\n",
       "12           Audi\n",
       "13           Audi\n",
       "14           Audi\n",
       "15           Audi\n",
       "16           Audi\n",
       "17           Audi\n",
       "18           Audi\n",
       "19           Audi\n",
       "20           Audi\n",
       "21           Audi\n",
       "22           Audi\n",
       "23           Audi\n",
       "24           Audi\n",
       "25           Audi\n",
       "26            BMW\n",
       "27            BMW\n",
       "28            BMW\n",
       "29            BMW\n",
       "          ...    \n",
       "398        Toyota\n",
       "399        Toyota\n",
       "400        Toyota\n",
       "401    Volkswagen\n",
       "402    Volkswagen\n",
       "403    Volkswagen\n",
       "404    Volkswagen\n",
       "405    Volkswagen\n",
       "406    Volkswagen\n",
       "407    Volkswagen\n",
       "408    Volkswagen\n",
       "409    Volkswagen\n",
       "410    Volkswagen\n",
       "411    Volkswagen\n",
       "412    Volkswagen\n",
       "413    Volkswagen\n",
       "414    Volkswagen\n",
       "415    Volkswagen\n",
       "416         Volvo\n",
       "417         Volvo\n",
       "418         Volvo\n",
       "419         Volvo\n",
       "420         Volvo\n",
       "421         Volvo\n",
       "422         Volvo\n",
       "423         Volvo\n",
       "424         Volvo\n",
       "425         Volvo\n",
       "426         Volvo\n",
       "427         Volvo\n",
       "Name: Make, Length: 428, dtype: object"
      ]
     },
     "execution_count": 246,
     "metadata": {},
     "output_type": "execute_result"
    }
   ],
   "source": [
    "car['Make'] # column as a Series"
   ]
  },
  {
   "cell_type": "markdown",
   "metadata": {},
   "source": [
    "### access multiple columns"
   ]
  },
  {
   "cell_type": "code",
   "execution_count": 249,
   "metadata": {},
   "outputs": [
    {
     "data": {
      "text/html": [
       "<div>\n",
       "<style scoped>\n",
       "    .dataframe tbody tr th:only-of-type {\n",
       "        vertical-align: middle;\n",
       "    }\n",
       "\n",
       "    .dataframe tbody tr th {\n",
       "        vertical-align: top;\n",
       "    }\n",
       "\n",
       "    .dataframe thead th {\n",
       "        text-align: right;\n",
       "    }\n",
       "</style>\n",
       "<table border=\"1\" class=\"dataframe\">\n",
       "  <thead>\n",
       "    <tr style=\"text-align: right;\">\n",
       "      <th></th>\n",
       "      <th>Make</th>\n",
       "      <th>Model</th>\n",
       "    </tr>\n",
       "  </thead>\n",
       "  <tbody>\n",
       "    <tr>\n",
       "      <th>0</th>\n",
       "      <td>Acura</td>\n",
       "      <td>MDX</td>\n",
       "    </tr>\n",
       "    <tr>\n",
       "      <th>1</th>\n",
       "      <td>Acura</td>\n",
       "      <td>RSX Type S 2dr</td>\n",
       "    </tr>\n",
       "    <tr>\n",
       "      <th>2</th>\n",
       "      <td>Acura</td>\n",
       "      <td>TSX 4dr</td>\n",
       "    </tr>\n",
       "    <tr>\n",
       "      <th>3</th>\n",
       "      <td>Acura</td>\n",
       "      <td>TL 4dr</td>\n",
       "    </tr>\n",
       "    <tr>\n",
       "      <th>4</th>\n",
       "      <td>Acura</td>\n",
       "      <td>3.5 RL 4dr</td>\n",
       "    </tr>\n",
       "    <tr>\n",
       "      <th>5</th>\n",
       "      <td>Acura</td>\n",
       "      <td>3.5 RL w/Navigation 4dr</td>\n",
       "    </tr>\n",
       "    <tr>\n",
       "      <th>6</th>\n",
       "      <td>Acura</td>\n",
       "      <td>NSX coupe 2dr manual S</td>\n",
       "    </tr>\n",
       "    <tr>\n",
       "      <th>7</th>\n",
       "      <td>Audi</td>\n",
       "      <td>A4 1.8T 4dr</td>\n",
       "    </tr>\n",
       "    <tr>\n",
       "      <th>8</th>\n",
       "      <td>Audi</td>\n",
       "      <td>A41.8T convertible 2dr</td>\n",
       "    </tr>\n",
       "    <tr>\n",
       "      <th>9</th>\n",
       "      <td>Audi</td>\n",
       "      <td>A4 3.0 4dr</td>\n",
       "    </tr>\n",
       "    <tr>\n",
       "      <th>10</th>\n",
       "      <td>Audi</td>\n",
       "      <td>A4 3.0 Quattro 4dr manual</td>\n",
       "    </tr>\n",
       "    <tr>\n",
       "      <th>11</th>\n",
       "      <td>Audi</td>\n",
       "      <td>A4 3.0 Quattro 4dr auto</td>\n",
       "    </tr>\n",
       "    <tr>\n",
       "      <th>12</th>\n",
       "      <td>Audi</td>\n",
       "      <td>A6 3.0 4dr</td>\n",
       "    </tr>\n",
       "    <tr>\n",
       "      <th>13</th>\n",
       "      <td>Audi</td>\n",
       "      <td>A6 3.0 Quattro 4dr</td>\n",
       "    </tr>\n",
       "    <tr>\n",
       "      <th>14</th>\n",
       "      <td>Audi</td>\n",
       "      <td>A4 3.0 convertible 2dr</td>\n",
       "    </tr>\n",
       "    <tr>\n",
       "      <th>15</th>\n",
       "      <td>Audi</td>\n",
       "      <td>A4 3.0 Quattro convertible 2dr</td>\n",
       "    </tr>\n",
       "    <tr>\n",
       "      <th>16</th>\n",
       "      <td>Audi</td>\n",
       "      <td>A6 2.7 Turbo Quattro 4dr</td>\n",
       "    </tr>\n",
       "    <tr>\n",
       "      <th>17</th>\n",
       "      <td>Audi</td>\n",
       "      <td>A6 4.2 Quattro 4dr</td>\n",
       "    </tr>\n",
       "    <tr>\n",
       "      <th>18</th>\n",
       "      <td>Audi</td>\n",
       "      <td>A8 L Quattro 4dr</td>\n",
       "    </tr>\n",
       "    <tr>\n",
       "      <th>19</th>\n",
       "      <td>Audi</td>\n",
       "      <td>S4 Quattro 4dr</td>\n",
       "    </tr>\n",
       "    <tr>\n",
       "      <th>20</th>\n",
       "      <td>Audi</td>\n",
       "      <td>RS 6 4dr</td>\n",
       "    </tr>\n",
       "    <tr>\n",
       "      <th>21</th>\n",
       "      <td>Audi</td>\n",
       "      <td>TT 1.8 convertible 2dr (coupe)</td>\n",
       "    </tr>\n",
       "    <tr>\n",
       "      <th>22</th>\n",
       "      <td>Audi</td>\n",
       "      <td>TT 1.8 Quattro 2dr (convertible)</td>\n",
       "    </tr>\n",
       "    <tr>\n",
       "      <th>23</th>\n",
       "      <td>Audi</td>\n",
       "      <td>TT 3.2 coupe 2dr (convertible)</td>\n",
       "    </tr>\n",
       "    <tr>\n",
       "      <th>24</th>\n",
       "      <td>Audi</td>\n",
       "      <td>A6 3.0 Avant Quattro</td>\n",
       "    </tr>\n",
       "    <tr>\n",
       "      <th>25</th>\n",
       "      <td>Audi</td>\n",
       "      <td>S4 Avant Quattro</td>\n",
       "    </tr>\n",
       "    <tr>\n",
       "      <th>26</th>\n",
       "      <td>BMW</td>\n",
       "      <td>X3 3.0i</td>\n",
       "    </tr>\n",
       "    <tr>\n",
       "      <th>27</th>\n",
       "      <td>BMW</td>\n",
       "      <td>X5 4.4i</td>\n",
       "    </tr>\n",
       "    <tr>\n",
       "      <th>28</th>\n",
       "      <td>BMW</td>\n",
       "      <td>325i 4dr</td>\n",
       "    </tr>\n",
       "    <tr>\n",
       "      <th>29</th>\n",
       "      <td>BMW</td>\n",
       "      <td>325Ci 2dr</td>\n",
       "    </tr>\n",
       "    <tr>\n",
       "      <th>...</th>\n",
       "      <td>...</td>\n",
       "      <td>...</td>\n",
       "    </tr>\n",
       "    <tr>\n",
       "      <th>398</th>\n",
       "      <td>Toyota</td>\n",
       "      <td>Tundra Regular Cab V6</td>\n",
       "    </tr>\n",
       "    <tr>\n",
       "      <th>399</th>\n",
       "      <td>Toyota</td>\n",
       "      <td>Tundra Access Cab V6 SR5</td>\n",
       "    </tr>\n",
       "    <tr>\n",
       "      <th>400</th>\n",
       "      <td>Toyota</td>\n",
       "      <td>Matrix XR</td>\n",
       "    </tr>\n",
       "    <tr>\n",
       "      <th>401</th>\n",
       "      <td>Volkswagen</td>\n",
       "      <td>Touareg V6</td>\n",
       "    </tr>\n",
       "    <tr>\n",
       "      <th>402</th>\n",
       "      <td>Volkswagen</td>\n",
       "      <td>Golf GLS 4dr</td>\n",
       "    </tr>\n",
       "    <tr>\n",
       "      <th>403</th>\n",
       "      <td>Volkswagen</td>\n",
       "      <td>GTI 1.8T 2dr hatch</td>\n",
       "    </tr>\n",
       "    <tr>\n",
       "      <th>404</th>\n",
       "      <td>Volkswagen</td>\n",
       "      <td>Jetta GLS TDI 4dr</td>\n",
       "    </tr>\n",
       "    <tr>\n",
       "      <th>405</th>\n",
       "      <td>Volkswagen</td>\n",
       "      <td>New Beetle GLS 1.8T 2dr</td>\n",
       "    </tr>\n",
       "    <tr>\n",
       "      <th>406</th>\n",
       "      <td>Volkswagen</td>\n",
       "      <td>Jetta GLI VR6 4dr</td>\n",
       "    </tr>\n",
       "    <tr>\n",
       "      <th>407</th>\n",
       "      <td>Volkswagen</td>\n",
       "      <td>New Beetle GLS convertible 2dr</td>\n",
       "    </tr>\n",
       "    <tr>\n",
       "      <th>408</th>\n",
       "      <td>Volkswagen</td>\n",
       "      <td>Passat GLS 4dr</td>\n",
       "    </tr>\n",
       "    <tr>\n",
       "      <th>409</th>\n",
       "      <td>Volkswagen</td>\n",
       "      <td>Passat GLX V6 4MOTION 4dr</td>\n",
       "    </tr>\n",
       "    <tr>\n",
       "      <th>410</th>\n",
       "      <td>Volkswagen</td>\n",
       "      <td>Passat W8 4MOTION 4dr</td>\n",
       "    </tr>\n",
       "    <tr>\n",
       "      <th>411</th>\n",
       "      <td>Volkswagen</td>\n",
       "      <td>Phaeton 4dr</td>\n",
       "    </tr>\n",
       "    <tr>\n",
       "      <th>412</th>\n",
       "      <td>Volkswagen</td>\n",
       "      <td>Phaeton W12 4dr</td>\n",
       "    </tr>\n",
       "    <tr>\n",
       "      <th>413</th>\n",
       "      <td>Volkswagen</td>\n",
       "      <td>Jetta GL</td>\n",
       "    </tr>\n",
       "    <tr>\n",
       "      <th>414</th>\n",
       "      <td>Volkswagen</td>\n",
       "      <td>Passat GLS 1.8T</td>\n",
       "    </tr>\n",
       "    <tr>\n",
       "      <th>415</th>\n",
       "      <td>Volkswagen</td>\n",
       "      <td>Passat W8</td>\n",
       "    </tr>\n",
       "    <tr>\n",
       "      <th>416</th>\n",
       "      <td>Volvo</td>\n",
       "      <td>XC90 T6</td>\n",
       "    </tr>\n",
       "    <tr>\n",
       "      <th>417</th>\n",
       "      <td>Volvo</td>\n",
       "      <td>S40 4dr</td>\n",
       "    </tr>\n",
       "    <tr>\n",
       "      <th>418</th>\n",
       "      <td>Volvo</td>\n",
       "      <td>S60 2.5 4dr</td>\n",
       "    </tr>\n",
       "    <tr>\n",
       "      <th>419</th>\n",
       "      <td>Volvo</td>\n",
       "      <td>S60 T5 4dr</td>\n",
       "    </tr>\n",
       "    <tr>\n",
       "      <th>420</th>\n",
       "      <td>Volvo</td>\n",
       "      <td>S60 R 4dr</td>\n",
       "    </tr>\n",
       "    <tr>\n",
       "      <th>421</th>\n",
       "      <td>Volvo</td>\n",
       "      <td>S80 2.9 4dr</td>\n",
       "    </tr>\n",
       "    <tr>\n",
       "      <th>422</th>\n",
       "      <td>Volvo</td>\n",
       "      <td>S80 2.5T 4dr</td>\n",
       "    </tr>\n",
       "    <tr>\n",
       "      <th>423</th>\n",
       "      <td>Volvo</td>\n",
       "      <td>C70 LPT convertible 2dr</td>\n",
       "    </tr>\n",
       "    <tr>\n",
       "      <th>424</th>\n",
       "      <td>Volvo</td>\n",
       "      <td>C70 HPT convertible 2dr</td>\n",
       "    </tr>\n",
       "    <tr>\n",
       "      <th>425</th>\n",
       "      <td>Volvo</td>\n",
       "      <td>S80 T6 4dr</td>\n",
       "    </tr>\n",
       "    <tr>\n",
       "      <th>426</th>\n",
       "      <td>Volvo</td>\n",
       "      <td>V40</td>\n",
       "    </tr>\n",
       "    <tr>\n",
       "      <th>427</th>\n",
       "      <td>Volvo</td>\n",
       "      <td>XC70</td>\n",
       "    </tr>\n",
       "  </tbody>\n",
       "</table>\n",
       "<p>428 rows × 2 columns</p>\n",
       "</div>"
      ],
      "text/plain": [
       "           Make                              Model\n",
       "0         Acura                                MDX\n",
       "1         Acura                     RSX Type S 2dr\n",
       "2         Acura                            TSX 4dr\n",
       "3         Acura                             TL 4dr\n",
       "4         Acura                         3.5 RL 4dr\n",
       "5         Acura            3.5 RL w/Navigation 4dr\n",
       "6         Acura             NSX coupe 2dr manual S\n",
       "7          Audi                        A4 1.8T 4dr\n",
       "8          Audi             A41.8T convertible 2dr\n",
       "9          Audi                         A4 3.0 4dr\n",
       "10         Audi          A4 3.0 Quattro 4dr manual\n",
       "11         Audi            A4 3.0 Quattro 4dr auto\n",
       "12         Audi                         A6 3.0 4dr\n",
       "13         Audi                 A6 3.0 Quattro 4dr\n",
       "14         Audi             A4 3.0 convertible 2dr\n",
       "15         Audi     A4 3.0 Quattro convertible 2dr\n",
       "16         Audi           A6 2.7 Turbo Quattro 4dr\n",
       "17         Audi                 A6 4.2 Quattro 4dr\n",
       "18         Audi                   A8 L Quattro 4dr\n",
       "19         Audi                     S4 Quattro 4dr\n",
       "20         Audi                           RS 6 4dr\n",
       "21         Audi     TT 1.8 convertible 2dr (coupe)\n",
       "22         Audi   TT 1.8 Quattro 2dr (convertible)\n",
       "23         Audi     TT 3.2 coupe 2dr (convertible)\n",
       "24         Audi               A6 3.0 Avant Quattro\n",
       "25         Audi                   S4 Avant Quattro\n",
       "26          BMW                            X3 3.0i\n",
       "27          BMW                            X5 4.4i\n",
       "28          BMW                           325i 4dr\n",
       "29          BMW                          325Ci 2dr\n",
       "..          ...                                ...\n",
       "398      Toyota              Tundra Regular Cab V6\n",
       "399      Toyota           Tundra Access Cab V6 SR5\n",
       "400      Toyota                          Matrix XR\n",
       "401  Volkswagen                         Touareg V6\n",
       "402  Volkswagen                       Golf GLS 4dr\n",
       "403  Volkswagen                 GTI 1.8T 2dr hatch\n",
       "404  Volkswagen                  Jetta GLS TDI 4dr\n",
       "405  Volkswagen            New Beetle GLS 1.8T 2dr\n",
       "406  Volkswagen                  Jetta GLI VR6 4dr\n",
       "407  Volkswagen     New Beetle GLS convertible 2dr\n",
       "408  Volkswagen                     Passat GLS 4dr\n",
       "409  Volkswagen          Passat GLX V6 4MOTION 4dr\n",
       "410  Volkswagen              Passat W8 4MOTION 4dr\n",
       "411  Volkswagen                        Phaeton 4dr\n",
       "412  Volkswagen                    Phaeton W12 4dr\n",
       "413  Volkswagen                           Jetta GL\n",
       "414  Volkswagen                    Passat GLS 1.8T\n",
       "415  Volkswagen                          Passat W8\n",
       "416       Volvo                            XC90 T6\n",
       "417       Volvo                            S40 4dr\n",
       "418       Volvo                        S60 2.5 4dr\n",
       "419       Volvo                         S60 T5 4dr\n",
       "420       Volvo                          S60 R 4dr\n",
       "421       Volvo                        S80 2.9 4dr\n",
       "422       Volvo                       S80 2.5T 4dr\n",
       "423       Volvo            C70 LPT convertible 2dr\n",
       "424       Volvo            C70 HPT convertible 2dr\n",
       "425       Volvo                         S80 T6 4dr\n",
       "426       Volvo                                V40\n",
       "427       Volvo                               XC70\n",
       "\n",
       "[428 rows x 2 columns]"
      ]
     },
     "execution_count": 249,
     "metadata": {},
     "output_type": "execute_result"
    }
   ],
   "source": [
    "car[['Make','Model']] # as a dataframe"
   ]
  },
  {
   "cell_type": "code",
   "execution_count": 250,
   "metadata": {},
   "outputs": [
    {
     "data": {
      "text/html": [
       "<div>\n",
       "<style scoped>\n",
       "    .dataframe tbody tr th:only-of-type {\n",
       "        vertical-align: middle;\n",
       "    }\n",
       "\n",
       "    .dataframe tbody tr th {\n",
       "        vertical-align: top;\n",
       "    }\n",
       "\n",
       "    .dataframe thead th {\n",
       "        text-align: right;\n",
       "    }\n",
       "</style>\n",
       "<table border=\"1\" class=\"dataframe\">\n",
       "  <thead>\n",
       "    <tr style=\"text-align: right;\">\n",
       "      <th></th>\n",
       "      <th>Make</th>\n",
       "    </tr>\n",
       "  </thead>\n",
       "  <tbody>\n",
       "    <tr>\n",
       "      <th>0</th>\n",
       "      <td>Acura</td>\n",
       "    </tr>\n",
       "    <tr>\n",
       "      <th>1</th>\n",
       "      <td>Acura</td>\n",
       "    </tr>\n",
       "    <tr>\n",
       "      <th>2</th>\n",
       "      <td>Acura</td>\n",
       "    </tr>\n",
       "    <tr>\n",
       "      <th>3</th>\n",
       "      <td>Acura</td>\n",
       "    </tr>\n",
       "    <tr>\n",
       "      <th>4</th>\n",
       "      <td>Acura</td>\n",
       "    </tr>\n",
       "    <tr>\n",
       "      <th>5</th>\n",
       "      <td>Acura</td>\n",
       "    </tr>\n",
       "    <tr>\n",
       "      <th>6</th>\n",
       "      <td>Acura</td>\n",
       "    </tr>\n",
       "    <tr>\n",
       "      <th>7</th>\n",
       "      <td>Audi</td>\n",
       "    </tr>\n",
       "    <tr>\n",
       "      <th>8</th>\n",
       "      <td>Audi</td>\n",
       "    </tr>\n",
       "    <tr>\n",
       "      <th>9</th>\n",
       "      <td>Audi</td>\n",
       "    </tr>\n",
       "    <tr>\n",
       "      <th>10</th>\n",
       "      <td>Audi</td>\n",
       "    </tr>\n",
       "    <tr>\n",
       "      <th>11</th>\n",
       "      <td>Audi</td>\n",
       "    </tr>\n",
       "    <tr>\n",
       "      <th>12</th>\n",
       "      <td>Audi</td>\n",
       "    </tr>\n",
       "    <tr>\n",
       "      <th>13</th>\n",
       "      <td>Audi</td>\n",
       "    </tr>\n",
       "    <tr>\n",
       "      <th>14</th>\n",
       "      <td>Audi</td>\n",
       "    </tr>\n",
       "    <tr>\n",
       "      <th>15</th>\n",
       "      <td>Audi</td>\n",
       "    </tr>\n",
       "    <tr>\n",
       "      <th>16</th>\n",
       "      <td>Audi</td>\n",
       "    </tr>\n",
       "    <tr>\n",
       "      <th>17</th>\n",
       "      <td>Audi</td>\n",
       "    </tr>\n",
       "    <tr>\n",
       "      <th>18</th>\n",
       "      <td>Audi</td>\n",
       "    </tr>\n",
       "    <tr>\n",
       "      <th>19</th>\n",
       "      <td>Audi</td>\n",
       "    </tr>\n",
       "    <tr>\n",
       "      <th>20</th>\n",
       "      <td>Audi</td>\n",
       "    </tr>\n",
       "    <tr>\n",
       "      <th>21</th>\n",
       "      <td>Audi</td>\n",
       "    </tr>\n",
       "    <tr>\n",
       "      <th>22</th>\n",
       "      <td>Audi</td>\n",
       "    </tr>\n",
       "    <tr>\n",
       "      <th>23</th>\n",
       "      <td>Audi</td>\n",
       "    </tr>\n",
       "    <tr>\n",
       "      <th>24</th>\n",
       "      <td>Audi</td>\n",
       "    </tr>\n",
       "    <tr>\n",
       "      <th>25</th>\n",
       "      <td>Audi</td>\n",
       "    </tr>\n",
       "    <tr>\n",
       "      <th>26</th>\n",
       "      <td>BMW</td>\n",
       "    </tr>\n",
       "    <tr>\n",
       "      <th>27</th>\n",
       "      <td>BMW</td>\n",
       "    </tr>\n",
       "    <tr>\n",
       "      <th>28</th>\n",
       "      <td>BMW</td>\n",
       "    </tr>\n",
       "    <tr>\n",
       "      <th>29</th>\n",
       "      <td>BMW</td>\n",
       "    </tr>\n",
       "    <tr>\n",
       "      <th>...</th>\n",
       "      <td>...</td>\n",
       "    </tr>\n",
       "    <tr>\n",
       "      <th>398</th>\n",
       "      <td>Toyota</td>\n",
       "    </tr>\n",
       "    <tr>\n",
       "      <th>399</th>\n",
       "      <td>Toyota</td>\n",
       "    </tr>\n",
       "    <tr>\n",
       "      <th>400</th>\n",
       "      <td>Toyota</td>\n",
       "    </tr>\n",
       "    <tr>\n",
       "      <th>401</th>\n",
       "      <td>Volkswagen</td>\n",
       "    </tr>\n",
       "    <tr>\n",
       "      <th>402</th>\n",
       "      <td>Volkswagen</td>\n",
       "    </tr>\n",
       "    <tr>\n",
       "      <th>403</th>\n",
       "      <td>Volkswagen</td>\n",
       "    </tr>\n",
       "    <tr>\n",
       "      <th>404</th>\n",
       "      <td>Volkswagen</td>\n",
       "    </tr>\n",
       "    <tr>\n",
       "      <th>405</th>\n",
       "      <td>Volkswagen</td>\n",
       "    </tr>\n",
       "    <tr>\n",
       "      <th>406</th>\n",
       "      <td>Volkswagen</td>\n",
       "    </tr>\n",
       "    <tr>\n",
       "      <th>407</th>\n",
       "      <td>Volkswagen</td>\n",
       "    </tr>\n",
       "    <tr>\n",
       "      <th>408</th>\n",
       "      <td>Volkswagen</td>\n",
       "    </tr>\n",
       "    <tr>\n",
       "      <th>409</th>\n",
       "      <td>Volkswagen</td>\n",
       "    </tr>\n",
       "    <tr>\n",
       "      <th>410</th>\n",
       "      <td>Volkswagen</td>\n",
       "    </tr>\n",
       "    <tr>\n",
       "      <th>411</th>\n",
       "      <td>Volkswagen</td>\n",
       "    </tr>\n",
       "    <tr>\n",
       "      <th>412</th>\n",
       "      <td>Volkswagen</td>\n",
       "    </tr>\n",
       "    <tr>\n",
       "      <th>413</th>\n",
       "      <td>Volkswagen</td>\n",
       "    </tr>\n",
       "    <tr>\n",
       "      <th>414</th>\n",
       "      <td>Volkswagen</td>\n",
       "    </tr>\n",
       "    <tr>\n",
       "      <th>415</th>\n",
       "      <td>Volkswagen</td>\n",
       "    </tr>\n",
       "    <tr>\n",
       "      <th>416</th>\n",
       "      <td>Volvo</td>\n",
       "    </tr>\n",
       "    <tr>\n",
       "      <th>417</th>\n",
       "      <td>Volvo</td>\n",
       "    </tr>\n",
       "    <tr>\n",
       "      <th>418</th>\n",
       "      <td>Volvo</td>\n",
       "    </tr>\n",
       "    <tr>\n",
       "      <th>419</th>\n",
       "      <td>Volvo</td>\n",
       "    </tr>\n",
       "    <tr>\n",
       "      <th>420</th>\n",
       "      <td>Volvo</td>\n",
       "    </tr>\n",
       "    <tr>\n",
       "      <th>421</th>\n",
       "      <td>Volvo</td>\n",
       "    </tr>\n",
       "    <tr>\n",
       "      <th>422</th>\n",
       "      <td>Volvo</td>\n",
       "    </tr>\n",
       "    <tr>\n",
       "      <th>423</th>\n",
       "      <td>Volvo</td>\n",
       "    </tr>\n",
       "    <tr>\n",
       "      <th>424</th>\n",
       "      <td>Volvo</td>\n",
       "    </tr>\n",
       "    <tr>\n",
       "      <th>425</th>\n",
       "      <td>Volvo</td>\n",
       "    </tr>\n",
       "    <tr>\n",
       "      <th>426</th>\n",
       "      <td>Volvo</td>\n",
       "    </tr>\n",
       "    <tr>\n",
       "      <th>427</th>\n",
       "      <td>Volvo</td>\n",
       "    </tr>\n",
       "  </tbody>\n",
       "</table>\n",
       "<p>428 rows × 1 columns</p>\n",
       "</div>"
      ],
      "text/plain": [
       "           Make\n",
       "0         Acura\n",
       "1         Acura\n",
       "2         Acura\n",
       "3         Acura\n",
       "4         Acura\n",
       "5         Acura\n",
       "6         Acura\n",
       "7          Audi\n",
       "8          Audi\n",
       "9          Audi\n",
       "10         Audi\n",
       "11         Audi\n",
       "12         Audi\n",
       "13         Audi\n",
       "14         Audi\n",
       "15         Audi\n",
       "16         Audi\n",
       "17         Audi\n",
       "18         Audi\n",
       "19         Audi\n",
       "20         Audi\n",
       "21         Audi\n",
       "22         Audi\n",
       "23         Audi\n",
       "24         Audi\n",
       "25         Audi\n",
       "26          BMW\n",
       "27          BMW\n",
       "28          BMW\n",
       "29          BMW\n",
       "..          ...\n",
       "398      Toyota\n",
       "399      Toyota\n",
       "400      Toyota\n",
       "401  Volkswagen\n",
       "402  Volkswagen\n",
       "403  Volkswagen\n",
       "404  Volkswagen\n",
       "405  Volkswagen\n",
       "406  Volkswagen\n",
       "407  Volkswagen\n",
       "408  Volkswagen\n",
       "409  Volkswagen\n",
       "410  Volkswagen\n",
       "411  Volkswagen\n",
       "412  Volkswagen\n",
       "413  Volkswagen\n",
       "414  Volkswagen\n",
       "415  Volkswagen\n",
       "416       Volvo\n",
       "417       Volvo\n",
       "418       Volvo\n",
       "419       Volvo\n",
       "420       Volvo\n",
       "421       Volvo\n",
       "422       Volvo\n",
       "423       Volvo\n",
       "424       Volvo\n",
       "425       Volvo\n",
       "426       Volvo\n",
       "427       Volvo\n",
       "\n",
       "[428 rows x 1 columns]"
      ]
     },
     "execution_count": 250,
     "metadata": {},
     "output_type": "execute_result"
    }
   ],
   "source": [
    "car[['Make']] # return 1 colummn as a dataframe"
   ]
  },
  {
   "cell_type": "markdown",
   "metadata": {},
   "source": [
    "# acccesing rows"
   ]
  },
  {
   "cell_type": "markdown",
   "metadata": {},
   "source": [
    "## acccesing slice of rows"
   ]
  },
  {
   "cell_type": "code",
   "execution_count": 253,
   "metadata": {},
   "outputs": [
    {
     "data": {
      "text/html": [
       "<div>\n",
       "<style scoped>\n",
       "    .dataframe tbody tr th:only-of-type {\n",
       "        vertical-align: middle;\n",
       "    }\n",
       "\n",
       "    .dataframe tbody tr th {\n",
       "        vertical-align: top;\n",
       "    }\n",
       "\n",
       "    .dataframe thead th {\n",
       "        text-align: right;\n",
       "    }\n",
       "</style>\n",
       "<table border=\"1\" class=\"dataframe\">\n",
       "  <thead>\n",
       "    <tr style=\"text-align: right;\">\n",
       "      <th></th>\n",
       "      <th>Make</th>\n",
       "      <th>Model</th>\n",
       "      <th>Type</th>\n",
       "      <th>Origin</th>\n",
       "      <th>DriveTrain</th>\n",
       "      <th>MSRP</th>\n",
       "      <th>Invoice</th>\n",
       "      <th>EngineSize</th>\n",
       "      <th>Cylinders</th>\n",
       "      <th>Horsepower</th>\n",
       "      <th>MPG_City</th>\n",
       "      <th>MPG_Highway</th>\n",
       "      <th>Weight</th>\n",
       "      <th>Wheelbase</th>\n",
       "      <th>Length</th>\n",
       "    </tr>\n",
       "  </thead>\n",
       "  <tbody>\n",
       "    <tr>\n",
       "      <th>2</th>\n",
       "      <td>Acura</td>\n",
       "      <td>TSX 4dr</td>\n",
       "      <td>Sedan</td>\n",
       "      <td>Asia</td>\n",
       "      <td>Front</td>\n",
       "      <td>26990.0</td>\n",
       "      <td>24647.0</td>\n",
       "      <td>2.4</td>\n",
       "      <td>4.0</td>\n",
       "      <td>200.0</td>\n",
       "      <td>22.0</td>\n",
       "      <td>29.0</td>\n",
       "      <td>3230.0</td>\n",
       "      <td>105.0</td>\n",
       "      <td>183.0</td>\n",
       "    </tr>\n",
       "    <tr>\n",
       "      <th>6</th>\n",
       "      <td>Acura</td>\n",
       "      <td>NSX coupe 2dr manual S</td>\n",
       "      <td>Sports</td>\n",
       "      <td>Asia</td>\n",
       "      <td>Rear</td>\n",
       "      <td>89765.0</td>\n",
       "      <td>79978.0</td>\n",
       "      <td>3.2</td>\n",
       "      <td>6.0</td>\n",
       "      <td>290.0</td>\n",
       "      <td>17.0</td>\n",
       "      <td>24.0</td>\n",
       "      <td>3153.0</td>\n",
       "      <td>100.0</td>\n",
       "      <td>174.0</td>\n",
       "    </tr>\n",
       "    <tr>\n",
       "      <th>10</th>\n",
       "      <td>Audi</td>\n",
       "      <td>A4 3.0 Quattro 4dr manual</td>\n",
       "      <td>Sedan</td>\n",
       "      <td>Europe</td>\n",
       "      <td>All</td>\n",
       "      <td>33430.0</td>\n",
       "      <td>30366.0</td>\n",
       "      <td>3.0</td>\n",
       "      <td>6.0</td>\n",
       "      <td>220.0</td>\n",
       "      <td>17.0</td>\n",
       "      <td>26.0</td>\n",
       "      <td>3583.0</td>\n",
       "      <td>104.0</td>\n",
       "      <td>179.0</td>\n",
       "    </tr>\n",
       "    <tr>\n",
       "      <th>14</th>\n",
       "      <td>Audi</td>\n",
       "      <td>A4 3.0 convertible 2dr</td>\n",
       "      <td>Sedan</td>\n",
       "      <td>Europe</td>\n",
       "      <td>Front</td>\n",
       "      <td>42490.0</td>\n",
       "      <td>38325.0</td>\n",
       "      <td>3.0</td>\n",
       "      <td>6.0</td>\n",
       "      <td>220.0</td>\n",
       "      <td>20.0</td>\n",
       "      <td>27.0</td>\n",
       "      <td>3814.0</td>\n",
       "      <td>105.0</td>\n",
       "      <td>180.0</td>\n",
       "    </tr>\n",
       "    <tr>\n",
       "      <th>18</th>\n",
       "      <td>Audi</td>\n",
       "      <td>A8 L Quattro 4dr</td>\n",
       "      <td>Sedan</td>\n",
       "      <td>Europe</td>\n",
       "      <td>All</td>\n",
       "      <td>69190.0</td>\n",
       "      <td>64740.0</td>\n",
       "      <td>4.2</td>\n",
       "      <td>8.0</td>\n",
       "      <td>330.0</td>\n",
       "      <td>17.0</td>\n",
       "      <td>24.0</td>\n",
       "      <td>4399.0</td>\n",
       "      <td>121.0</td>\n",
       "      <td>204.0</td>\n",
       "    </tr>\n",
       "    <tr>\n",
       "      <th>22</th>\n",
       "      <td>Audi</td>\n",
       "      <td>TT 1.8 Quattro 2dr (convertible)</td>\n",
       "      <td>Sports</td>\n",
       "      <td>Europe</td>\n",
       "      <td>All</td>\n",
       "      <td>37390.0</td>\n",
       "      <td>33891.0</td>\n",
       "      <td>1.8</td>\n",
       "      <td>4.0</td>\n",
       "      <td>225.0</td>\n",
       "      <td>20.0</td>\n",
       "      <td>28.0</td>\n",
       "      <td>2921.0</td>\n",
       "      <td>96.0</td>\n",
       "      <td>159.0</td>\n",
       "    </tr>\n",
       "    <tr>\n",
       "      <th>26</th>\n",
       "      <td>BMW</td>\n",
       "      <td>X3 3.0i</td>\n",
       "      <td>SUV</td>\n",
       "      <td>Europe</td>\n",
       "      <td>All</td>\n",
       "      <td>37000.0</td>\n",
       "      <td>33873.0</td>\n",
       "      <td>3.0</td>\n",
       "      <td>6.0</td>\n",
       "      <td>225.0</td>\n",
       "      <td>16.0</td>\n",
       "      <td>23.0</td>\n",
       "      <td>4023.0</td>\n",
       "      <td>110.0</td>\n",
       "      <td>180.0</td>\n",
       "    </tr>\n",
       "    <tr>\n",
       "      <th>30</th>\n",
       "      <td>BMW</td>\n",
       "      <td>325Ci convertible 2dr</td>\n",
       "      <td>Sedan</td>\n",
       "      <td>Europe</td>\n",
       "      <td>Rear</td>\n",
       "      <td>37995.0</td>\n",
       "      <td>34800.0</td>\n",
       "      <td>2.5</td>\n",
       "      <td>6.0</td>\n",
       "      <td>184.0</td>\n",
       "      <td>19.0</td>\n",
       "      <td>27.0</td>\n",
       "      <td>3560.0</td>\n",
       "      <td>107.0</td>\n",
       "      <td>177.0</td>\n",
       "    </tr>\n",
       "    <tr>\n",
       "      <th>34</th>\n",
       "      <td>BMW</td>\n",
       "      <td>330xi 4dr</td>\n",
       "      <td>Sedan</td>\n",
       "      <td>Europe</td>\n",
       "      <td>All</td>\n",
       "      <td>37245.0</td>\n",
       "      <td>34115.0</td>\n",
       "      <td>3.0</td>\n",
       "      <td>6.0</td>\n",
       "      <td>225.0</td>\n",
       "      <td>20.0</td>\n",
       "      <td>29.0</td>\n",
       "      <td>3483.0</td>\n",
       "      <td>107.0</td>\n",
       "      <td>176.0</td>\n",
       "    </tr>\n",
       "    <tr>\n",
       "      <th>38</th>\n",
       "      <td>BMW</td>\n",
       "      <td>545iA 4dr</td>\n",
       "      <td>Sedan</td>\n",
       "      <td>Europe</td>\n",
       "      <td>Rear</td>\n",
       "      <td>54995.0</td>\n",
       "      <td>50270.0</td>\n",
       "      <td>4.4</td>\n",
       "      <td>8.0</td>\n",
       "      <td>325.0</td>\n",
       "      <td>18.0</td>\n",
       "      <td>26.0</td>\n",
       "      <td>3814.0</td>\n",
       "      <td>114.0</td>\n",
       "      <td>191.0</td>\n",
       "    </tr>\n",
       "    <tr>\n",
       "      <th>42</th>\n",
       "      <td>BMW</td>\n",
       "      <td>M3 convertible 2dr</td>\n",
       "      <td>Sports</td>\n",
       "      <td>Europe</td>\n",
       "      <td>Rear</td>\n",
       "      <td>56595.0</td>\n",
       "      <td>51815.0</td>\n",
       "      <td>3.2</td>\n",
       "      <td>6.0</td>\n",
       "      <td>333.0</td>\n",
       "      <td>16.0</td>\n",
       "      <td>23.0</td>\n",
       "      <td>3781.0</td>\n",
       "      <td>108.0</td>\n",
       "      <td>177.0</td>\n",
       "    </tr>\n",
       "    <tr>\n",
       "      <th>46</th>\n",
       "      <td>Buick</td>\n",
       "      <td>Rainier</td>\n",
       "      <td>SUV</td>\n",
       "      <td>USA</td>\n",
       "      <td>All</td>\n",
       "      <td>37895.0</td>\n",
       "      <td>34357.0</td>\n",
       "      <td>4.2</td>\n",
       "      <td>6.0</td>\n",
       "      <td>275.0</td>\n",
       "      <td>15.0</td>\n",
       "      <td>21.0</td>\n",
       "      <td>4600.0</td>\n",
       "      <td>113.0</td>\n",
       "      <td>193.0</td>\n",
       "    </tr>\n",
       "  </tbody>\n",
       "</table>\n",
       "</div>"
      ],
      "text/plain": [
       "     Make                              Model    Type  Origin DriveTrain  \\\n",
       "2   Acura                            TSX 4dr   Sedan    Asia      Front   \n",
       "6   Acura             NSX coupe 2dr manual S  Sports    Asia       Rear   \n",
       "10   Audi          A4 3.0 Quattro 4dr manual   Sedan  Europe        All   \n",
       "14   Audi             A4 3.0 convertible 2dr   Sedan  Europe      Front   \n",
       "18   Audi                   A8 L Quattro 4dr   Sedan  Europe        All   \n",
       "22   Audi   TT 1.8 Quattro 2dr (convertible)  Sports  Europe        All   \n",
       "26    BMW                            X3 3.0i     SUV  Europe        All   \n",
       "30    BMW              325Ci convertible 2dr   Sedan  Europe       Rear   \n",
       "34    BMW                          330xi 4dr   Sedan  Europe        All   \n",
       "38    BMW                          545iA 4dr   Sedan  Europe       Rear   \n",
       "42    BMW                 M3 convertible 2dr  Sports  Europe       Rear   \n",
       "46  Buick                            Rainier     SUV     USA        All   \n",
       "\n",
       "       MSRP  Invoice  EngineSize  Cylinders  Horsepower  MPG_City  \\\n",
       "2   26990.0  24647.0         2.4        4.0       200.0      22.0   \n",
       "6   89765.0  79978.0         3.2        6.0       290.0      17.0   \n",
       "10  33430.0  30366.0         3.0        6.0       220.0      17.0   \n",
       "14  42490.0  38325.0         3.0        6.0       220.0      20.0   \n",
       "18  69190.0  64740.0         4.2        8.0       330.0      17.0   \n",
       "22  37390.0  33891.0         1.8        4.0       225.0      20.0   \n",
       "26  37000.0  33873.0         3.0        6.0       225.0      16.0   \n",
       "30  37995.0  34800.0         2.5        6.0       184.0      19.0   \n",
       "34  37245.0  34115.0         3.0        6.0       225.0      20.0   \n",
       "38  54995.0  50270.0         4.4        8.0       325.0      18.0   \n",
       "42  56595.0  51815.0         3.2        6.0       333.0      16.0   \n",
       "46  37895.0  34357.0         4.2        6.0       275.0      15.0   \n",
       "\n",
       "    MPG_Highway  Weight  Wheelbase  Length  \n",
       "2          29.0  3230.0      105.0   183.0  \n",
       "6          24.0  3153.0      100.0   174.0  \n",
       "10         26.0  3583.0      104.0   179.0  \n",
       "14         27.0  3814.0      105.0   180.0  \n",
       "18         24.0  4399.0      121.0   204.0  \n",
       "22         28.0  2921.0       96.0   159.0  \n",
       "26         23.0  4023.0      110.0   180.0  \n",
       "30         27.0  3560.0      107.0   177.0  \n",
       "34         29.0  3483.0      107.0   176.0  \n",
       "38         26.0  3814.0      114.0   191.0  \n",
       "42         23.0  3781.0      108.0   177.0  \n",
       "46         21.0  4600.0      113.0   193.0  "
      ]
     },
     "execution_count": 253,
     "metadata": {},
     "output_type": "execute_result"
    }
   ],
   "source": [
    "car[2:50:4]"
   ]
  },
  {
   "cell_type": "markdown",
   "metadata": {},
   "source": [
    "# for accessing single rows and random rows annd rows and colummns together"
   ]
  },
  {
   "cell_type": "markdown",
   "metadata": {},
   "source": [
    "## df.loc[ ]"
   ]
  },
  {
   "cell_type": "code",
   "execution_count": 257,
   "metadata": {},
   "outputs": [
    {
     "data": {
      "text/plain": [
       "Make              Acura\n",
       "Model           TSX 4dr\n",
       "Type              Sedan\n",
       "Origin             Asia\n",
       "DriveTrain        Front\n",
       "MSRP              26990\n",
       "Invoice           24647\n",
       "EngineSize          2.4\n",
       "Cylinders             4\n",
       "Horsepower          200\n",
       "MPG_City             22\n",
       "MPG_Highway          29\n",
       "Weight             3230\n",
       "Wheelbase           105\n",
       "Length              183\n",
       "Name: 2, dtype: object"
      ]
     },
     "execution_count": 257,
     "metadata": {},
     "output_type": "execute_result"
    }
   ],
   "source": [
    "car.loc[2] # as a Series label = 2"
   ]
  },
  {
   "cell_type": "code",
   "execution_count": 259,
   "metadata": {},
   "outputs": [
    {
     "data": {
      "text/html": [
       "<div>\n",
       "<style scoped>\n",
       "    .dataframe tbody tr th:only-of-type {\n",
       "        vertical-align: middle;\n",
       "    }\n",
       "\n",
       "    .dataframe tbody tr th {\n",
       "        vertical-align: top;\n",
       "    }\n",
       "\n",
       "    .dataframe thead th {\n",
       "        text-align: right;\n",
       "    }\n",
       "</style>\n",
       "<table border=\"1\" class=\"dataframe\">\n",
       "  <thead>\n",
       "    <tr style=\"text-align: right;\">\n",
       "      <th></th>\n",
       "      <th>Make</th>\n",
       "      <th>Model</th>\n",
       "      <th>Type</th>\n",
       "      <th>Origin</th>\n",
       "      <th>DriveTrain</th>\n",
       "      <th>MSRP</th>\n",
       "      <th>Invoice</th>\n",
       "      <th>EngineSize</th>\n",
       "      <th>Cylinders</th>\n",
       "      <th>Horsepower</th>\n",
       "      <th>MPG_City</th>\n",
       "      <th>MPG_Highway</th>\n",
       "      <th>Weight</th>\n",
       "      <th>Wheelbase</th>\n",
       "      <th>Length</th>\n",
       "    </tr>\n",
       "  </thead>\n",
       "  <tbody>\n",
       "    <tr>\n",
       "      <th>2</th>\n",
       "      <td>Acura</td>\n",
       "      <td>TSX 4dr</td>\n",
       "      <td>Sedan</td>\n",
       "      <td>Asia</td>\n",
       "      <td>Front</td>\n",
       "      <td>26990.0</td>\n",
       "      <td>24647.0</td>\n",
       "      <td>2.4</td>\n",
       "      <td>4.0</td>\n",
       "      <td>200.0</td>\n",
       "      <td>22.0</td>\n",
       "      <td>29.0</td>\n",
       "      <td>3230.0</td>\n",
       "      <td>105.0</td>\n",
       "      <td>183.0</td>\n",
       "    </tr>\n",
       "    <tr>\n",
       "      <th>4</th>\n",
       "      <td>Acura</td>\n",
       "      <td>3.5 RL 4dr</td>\n",
       "      <td>Sedan</td>\n",
       "      <td>Asia</td>\n",
       "      <td>Front</td>\n",
       "      <td>43755.0</td>\n",
       "      <td>39014.0</td>\n",
       "      <td>3.5</td>\n",
       "      <td>6.0</td>\n",
       "      <td>225.0</td>\n",
       "      <td>18.0</td>\n",
       "      <td>24.0</td>\n",
       "      <td>3880.0</td>\n",
       "      <td>115.0</td>\n",
       "      <td>197.0</td>\n",
       "    </tr>\n",
       "    <tr>\n",
       "      <th>6</th>\n",
       "      <td>Acura</td>\n",
       "      <td>NSX coupe 2dr manual S</td>\n",
       "      <td>Sports</td>\n",
       "      <td>Asia</td>\n",
       "      <td>Rear</td>\n",
       "      <td>89765.0</td>\n",
       "      <td>79978.0</td>\n",
       "      <td>3.2</td>\n",
       "      <td>6.0</td>\n",
       "      <td>290.0</td>\n",
       "      <td>17.0</td>\n",
       "      <td>24.0</td>\n",
       "      <td>3153.0</td>\n",
       "      <td>100.0</td>\n",
       "      <td>174.0</td>\n",
       "    </tr>\n",
       "    <tr>\n",
       "      <th>7</th>\n",
       "      <td>Audi</td>\n",
       "      <td>A4 1.8T 4dr</td>\n",
       "      <td>Sedan</td>\n",
       "      <td>Europe</td>\n",
       "      <td>Front</td>\n",
       "      <td>25940.0</td>\n",
       "      <td>23508.0</td>\n",
       "      <td>1.8</td>\n",
       "      <td>4.0</td>\n",
       "      <td>170.0</td>\n",
       "      <td>22.0</td>\n",
       "      <td>31.0</td>\n",
       "      <td>3252.0</td>\n",
       "      <td>104.0</td>\n",
       "      <td>179.0</td>\n",
       "    </tr>\n",
       "    <tr>\n",
       "      <th>1</th>\n",
       "      <td>Acura</td>\n",
       "      <td>RSX Type S 2dr</td>\n",
       "      <td>Sedan</td>\n",
       "      <td>Asia</td>\n",
       "      <td>Front</td>\n",
       "      <td>23820.0</td>\n",
       "      <td>21761.0</td>\n",
       "      <td>2.0</td>\n",
       "      <td>4.0</td>\n",
       "      <td>200.0</td>\n",
       "      <td>24.0</td>\n",
       "      <td>31.0</td>\n",
       "      <td>2778.0</td>\n",
       "      <td>101.0</td>\n",
       "      <td>172.0</td>\n",
       "    </tr>\n",
       "  </tbody>\n",
       "</table>\n",
       "</div>"
      ],
      "text/plain": [
       "    Make                    Model    Type  Origin DriveTrain     MSRP  \\\n",
       "2  Acura                  TSX 4dr   Sedan    Asia      Front  26990.0   \n",
       "4  Acura               3.5 RL 4dr   Sedan    Asia      Front  43755.0   \n",
       "6  Acura   NSX coupe 2dr manual S  Sports    Asia       Rear  89765.0   \n",
       "7   Audi              A4 1.8T 4dr   Sedan  Europe      Front  25940.0   \n",
       "1  Acura           RSX Type S 2dr   Sedan    Asia      Front  23820.0   \n",
       "\n",
       "   Invoice  EngineSize  Cylinders  Horsepower  MPG_City  MPG_Highway  Weight  \\\n",
       "2  24647.0         2.4        4.0       200.0      22.0         29.0  3230.0   \n",
       "4  39014.0         3.5        6.0       225.0      18.0         24.0  3880.0   \n",
       "6  79978.0         3.2        6.0       290.0      17.0         24.0  3153.0   \n",
       "7  23508.0         1.8        4.0       170.0      22.0         31.0  3252.0   \n",
       "1  21761.0         2.0        4.0       200.0      24.0         31.0  2778.0   \n",
       "\n",
       "   Wheelbase  Length  \n",
       "2      105.0   183.0  \n",
       "4      115.0   197.0  \n",
       "6      100.0   174.0  \n",
       "7      104.0   179.0  \n",
       "1      101.0   172.0  "
      ]
     },
     "execution_count": 259,
     "metadata": {},
     "output_type": "execute_result"
    }
   ],
   "source": [
    "car.loc[[2,4,6,7,1]] # as dataframe label = 2"
   ]
  },
  {
   "cell_type": "code",
   "execution_count": 260,
   "metadata": {},
   "outputs": [
    {
     "data": {
      "text/html": [
       "<div>\n",
       "<style scoped>\n",
       "    .dataframe tbody tr th:only-of-type {\n",
       "        vertical-align: middle;\n",
       "    }\n",
       "\n",
       "    .dataframe tbody tr th {\n",
       "        vertical-align: top;\n",
       "    }\n",
       "\n",
       "    .dataframe thead th {\n",
       "        text-align: right;\n",
       "    }\n",
       "</style>\n",
       "<table border=\"1\" class=\"dataframe\">\n",
       "  <thead>\n",
       "    <tr style=\"text-align: right;\">\n",
       "      <th></th>\n",
       "      <th>Make</th>\n",
       "      <th>Model</th>\n",
       "    </tr>\n",
       "  </thead>\n",
       "  <tbody>\n",
       "    <tr>\n",
       "      <th>2</th>\n",
       "      <td>Acura</td>\n",
       "      <td>TSX 4dr</td>\n",
       "    </tr>\n",
       "    <tr>\n",
       "      <th>3</th>\n",
       "      <td>Acura</td>\n",
       "      <td>TL 4dr</td>\n",
       "    </tr>\n",
       "    <tr>\n",
       "      <th>4</th>\n",
       "      <td>Acura</td>\n",
       "      <td>3.5 RL 4dr</td>\n",
       "    </tr>\n",
       "    <tr>\n",
       "      <th>5</th>\n",
       "      <td>Acura</td>\n",
       "      <td>3.5 RL w/Navigation 4dr</td>\n",
       "    </tr>\n",
       "    <tr>\n",
       "      <th>6</th>\n",
       "      <td>Acura</td>\n",
       "      <td>NSX coupe 2dr manual S</td>\n",
       "    </tr>\n",
       "  </tbody>\n",
       "</table>\n",
       "</div>"
      ],
      "text/plain": [
       "    Make                     Model\n",
       "2  Acura                   TSX 4dr\n",
       "3  Acura                    TL 4dr\n",
       "4  Acura                3.5 RL 4dr\n",
       "5  Acura   3.5 RL w/Navigation 4dr\n",
       "6  Acura    NSX coupe 2dr manual S"
      ]
     },
     "execution_count": 260,
     "metadata": {},
     "output_type": "execute_result"
    }
   ],
   "source": [
    "car.loc[[2,3,4,5,6], ['Make','Model']]"
   ]
  },
  {
   "cell_type": "code",
   "execution_count": 261,
   "metadata": {},
   "outputs": [
    {
     "data": {
      "text/plain": [
       "'Acura'"
      ]
     },
     "execution_count": 261,
     "metadata": {},
     "output_type": "execute_result"
    }
   ],
   "source": [
    "car.loc[2, 'Make']"
   ]
  },
  {
   "cell_type": "code",
   "execution_count": 262,
   "metadata": {},
   "outputs": [
    {
     "data": {
      "text/plain": [
       "Make          Acura\n",
       "DriveTrain    Front\n",
       "Name: 2, dtype: object"
      ]
     },
     "execution_count": 262,
     "metadata": {},
     "output_type": "execute_result"
    }
   ],
   "source": [
    "car.loc[2, ['Make','DriveTrain']]"
   ]
  },
  {
   "cell_type": "code",
   "execution_count": 263,
   "metadata": {},
   "outputs": [
    {
     "data": {
      "text/plain": [
       "2         Acura\n",
       "100    Chrysler\n",
       "Name: Make, dtype: object"
      ]
     },
     "execution_count": 263,
     "metadata": {},
     "output_type": "execute_result"
    }
   ],
   "source": [
    "car.loc[[2,100], 'Make']"
   ]
  },
  {
   "cell_type": "code",
   "execution_count": 267,
   "metadata": {},
   "outputs": [
    {
     "data": {
      "text/html": [
       "<div>\n",
       "<style scoped>\n",
       "    .dataframe tbody tr th:only-of-type {\n",
       "        vertical-align: middle;\n",
       "    }\n",
       "\n",
       "    .dataframe tbody tr th {\n",
       "        vertical-align: top;\n",
       "    }\n",
       "\n",
       "    .dataframe thead th {\n",
       "        text-align: right;\n",
       "    }\n",
       "</style>\n",
       "<table border=\"1\" class=\"dataframe\">\n",
       "  <thead>\n",
       "    <tr style=\"text-align: right;\">\n",
       "      <th></th>\n",
       "      <th>Make</th>\n",
       "      <th>Model</th>\n",
       "      <th>Type</th>\n",
       "      <th>Origin</th>\n",
       "      <th>DriveTrain</th>\n",
       "      <th>MSRP</th>\n",
       "      <th>Invoice</th>\n",
       "      <th>EngineSize</th>\n",
       "      <th>Cylinders</th>\n",
       "    </tr>\n",
       "  </thead>\n",
       "  <tbody>\n",
       "    <tr>\n",
       "      <th>2</th>\n",
       "      <td>Acura</td>\n",
       "      <td>TSX 4dr</td>\n",
       "      <td>Sedan</td>\n",
       "      <td>Asia</td>\n",
       "      <td>Front</td>\n",
       "      <td>26990.0</td>\n",
       "      <td>24647.0</td>\n",
       "      <td>2.4</td>\n",
       "      <td>4.0</td>\n",
       "    </tr>\n",
       "    <tr>\n",
       "      <th>3</th>\n",
       "      <td>Acura</td>\n",
       "      <td>TL 4dr</td>\n",
       "      <td>Sedan</td>\n",
       "      <td>Asia</td>\n",
       "      <td>Front</td>\n",
       "      <td>33195.0</td>\n",
       "      <td>30299.0</td>\n",
       "      <td>3.2</td>\n",
       "      <td>6.0</td>\n",
       "    </tr>\n",
       "    <tr>\n",
       "      <th>4</th>\n",
       "      <td>Acura</td>\n",
       "      <td>3.5 RL 4dr</td>\n",
       "      <td>Sedan</td>\n",
       "      <td>Asia</td>\n",
       "      <td>Front</td>\n",
       "      <td>43755.0</td>\n",
       "      <td>39014.0</td>\n",
       "      <td>3.5</td>\n",
       "      <td>6.0</td>\n",
       "    </tr>\n",
       "    <tr>\n",
       "      <th>5</th>\n",
       "      <td>Acura</td>\n",
       "      <td>3.5 RL w/Navigation 4dr</td>\n",
       "      <td>Sedan</td>\n",
       "      <td>Asia</td>\n",
       "      <td>Front</td>\n",
       "      <td>46100.0</td>\n",
       "      <td>41100.0</td>\n",
       "      <td>3.5</td>\n",
       "      <td>6.0</td>\n",
       "    </tr>\n",
       "  </tbody>\n",
       "</table>\n",
       "</div>"
      ],
      "text/plain": [
       "    Make                     Model   Type Origin DriveTrain     MSRP  Invoice  \\\n",
       "2  Acura                   TSX 4dr  Sedan   Asia      Front  26990.0  24647.0   \n",
       "3  Acura                    TL 4dr  Sedan   Asia      Front  33195.0  30299.0   \n",
       "4  Acura                3.5 RL 4dr  Sedan   Asia      Front  43755.0  39014.0   \n",
       "5  Acura   3.5 RL w/Navigation 4dr  Sedan   Asia      Front  46100.0  41100.0   \n",
       "\n",
       "   EngineSize  Cylinders  \n",
       "2         2.4        4.0  \n",
       "3         3.2        6.0  \n",
       "4         3.5        6.0  \n",
       "5         3.5        6.0  "
      ]
     },
     "execution_count": 267,
     "metadata": {},
     "output_type": "execute_result"
    }
   ],
   "source": [
    "car.loc[2:5 , 'Make':'Cylinders']"
   ]
  },
  {
   "cell_type": "code",
   "execution_count": 269,
   "metadata": {},
   "outputs": [
    {
     "data": {
      "text/html": [
       "<div>\n",
       "<style scoped>\n",
       "    .dataframe tbody tr th:only-of-type {\n",
       "        vertical-align: middle;\n",
       "    }\n",
       "\n",
       "    .dataframe tbody tr th {\n",
       "        vertical-align: top;\n",
       "    }\n",
       "\n",
       "    .dataframe thead th {\n",
       "        text-align: right;\n",
       "    }\n",
       "</style>\n",
       "<table border=\"1\" class=\"dataframe\">\n",
       "  <thead>\n",
       "    <tr style=\"text-align: right;\">\n",
       "      <th></th>\n",
       "      <th>Make</th>\n",
       "      <th>Model</th>\n",
       "      <th>Type</th>\n",
       "      <th>Origin</th>\n",
       "      <th>DriveTrain</th>\n",
       "      <th>MSRP</th>\n",
       "      <th>Invoice</th>\n",
       "      <th>EngineSize</th>\n",
       "      <th>Cylinders</th>\n",
       "      <th>Horsepower</th>\n",
       "      <th>MPG_City</th>\n",
       "      <th>MPG_Highway</th>\n",
       "      <th>Weight</th>\n",
       "      <th>Wheelbase</th>\n",
       "      <th>Length</th>\n",
       "    </tr>\n",
       "  </thead>\n",
       "  <tbody>\n",
       "    <tr>\n",
       "      <th>2</th>\n",
       "      <td>Acura</td>\n",
       "      <td>TSX 4dr</td>\n",
       "      <td>Sedan</td>\n",
       "      <td>Asia</td>\n",
       "      <td>Front</td>\n",
       "      <td>26990.0</td>\n",
       "      <td>24647.0</td>\n",
       "      <td>2.4</td>\n",
       "      <td>4.0</td>\n",
       "      <td>200.0</td>\n",
       "      <td>22.0</td>\n",
       "      <td>29.0</td>\n",
       "      <td>3230.0</td>\n",
       "      <td>105.0</td>\n",
       "      <td>183.0</td>\n",
       "    </tr>\n",
       "    <tr>\n",
       "      <th>3</th>\n",
       "      <td>Acura</td>\n",
       "      <td>TL 4dr</td>\n",
       "      <td>Sedan</td>\n",
       "      <td>Asia</td>\n",
       "      <td>Front</td>\n",
       "      <td>33195.0</td>\n",
       "      <td>30299.0</td>\n",
       "      <td>3.2</td>\n",
       "      <td>6.0</td>\n",
       "      <td>270.0</td>\n",
       "      <td>20.0</td>\n",
       "      <td>28.0</td>\n",
       "      <td>3575.0</td>\n",
       "      <td>108.0</td>\n",
       "      <td>186.0</td>\n",
       "    </tr>\n",
       "    <tr>\n",
       "      <th>4</th>\n",
       "      <td>Acura</td>\n",
       "      <td>3.5 RL 4dr</td>\n",
       "      <td>Sedan</td>\n",
       "      <td>Asia</td>\n",
       "      <td>Front</td>\n",
       "      <td>43755.0</td>\n",
       "      <td>39014.0</td>\n",
       "      <td>3.5</td>\n",
       "      <td>6.0</td>\n",
       "      <td>225.0</td>\n",
       "      <td>18.0</td>\n",
       "      <td>24.0</td>\n",
       "      <td>3880.0</td>\n",
       "      <td>115.0</td>\n",
       "      <td>197.0</td>\n",
       "    </tr>\n",
       "    <tr>\n",
       "      <th>5</th>\n",
       "      <td>Acura</td>\n",
       "      <td>3.5 RL w/Navigation 4dr</td>\n",
       "      <td>Sedan</td>\n",
       "      <td>Asia</td>\n",
       "      <td>Front</td>\n",
       "      <td>46100.0</td>\n",
       "      <td>41100.0</td>\n",
       "      <td>3.5</td>\n",
       "      <td>6.0</td>\n",
       "      <td>225.0</td>\n",
       "      <td>18.0</td>\n",
       "      <td>24.0</td>\n",
       "      <td>3893.0</td>\n",
       "      <td>115.0</td>\n",
       "      <td>197.0</td>\n",
       "    </tr>\n",
       "  </tbody>\n",
       "</table>\n",
       "</div>"
      ],
      "text/plain": [
       "    Make                     Model   Type Origin DriveTrain     MSRP  Invoice  \\\n",
       "2  Acura                   TSX 4dr  Sedan   Asia      Front  26990.0  24647.0   \n",
       "3  Acura                    TL 4dr  Sedan   Asia      Front  33195.0  30299.0   \n",
       "4  Acura                3.5 RL 4dr  Sedan   Asia      Front  43755.0  39014.0   \n",
       "5  Acura   3.5 RL w/Navigation 4dr  Sedan   Asia      Front  46100.0  41100.0   \n",
       "\n",
       "   EngineSize  Cylinders  Horsepower  MPG_City  MPG_Highway  Weight  \\\n",
       "2         2.4        4.0       200.0      22.0         29.0  3230.0   \n",
       "3         3.2        6.0       270.0      20.0         28.0  3575.0   \n",
       "4         3.5        6.0       225.0      18.0         24.0  3880.0   \n",
       "5         3.5        6.0       225.0      18.0         24.0  3893.0   \n",
       "\n",
       "   Wheelbase  Length  \n",
       "2      105.0   183.0  \n",
       "3      108.0   186.0  \n",
       "4      115.0   197.0  \n",
       "5      115.0   197.0  "
      ]
     },
     "execution_count": 269,
     "metadata": {},
     "output_type": "execute_result"
    }
   ],
   "source": [
    "car.loc[2:5] # label"
   ]
  },
  {
   "cell_type": "code",
   "execution_count": 268,
   "metadata": {},
   "outputs": [
    {
     "data": {
      "text/html": [
       "<div>\n",
       "<style scoped>\n",
       "    .dataframe tbody tr th:only-of-type {\n",
       "        vertical-align: middle;\n",
       "    }\n",
       "\n",
       "    .dataframe tbody tr th {\n",
       "        vertical-align: top;\n",
       "    }\n",
       "\n",
       "    .dataframe thead th {\n",
       "        text-align: right;\n",
       "    }\n",
       "</style>\n",
       "<table border=\"1\" class=\"dataframe\">\n",
       "  <thead>\n",
       "    <tr style=\"text-align: right;\">\n",
       "      <th></th>\n",
       "      <th>Make</th>\n",
       "      <th>Model</th>\n",
       "      <th>Type</th>\n",
       "      <th>Origin</th>\n",
       "      <th>DriveTrain</th>\n",
       "      <th>MSRP</th>\n",
       "      <th>Invoice</th>\n",
       "      <th>EngineSize</th>\n",
       "      <th>Cylinders</th>\n",
       "      <th>Horsepower</th>\n",
       "      <th>MPG_City</th>\n",
       "      <th>MPG_Highway</th>\n",
       "      <th>Weight</th>\n",
       "      <th>Wheelbase</th>\n",
       "      <th>Length</th>\n",
       "    </tr>\n",
       "  </thead>\n",
       "  <tbody>\n",
       "    <tr>\n",
       "      <th>2</th>\n",
       "      <td>Acura</td>\n",
       "      <td>TSX 4dr</td>\n",
       "      <td>Sedan</td>\n",
       "      <td>Asia</td>\n",
       "      <td>Front</td>\n",
       "      <td>26990.0</td>\n",
       "      <td>24647.0</td>\n",
       "      <td>2.4</td>\n",
       "      <td>4.0</td>\n",
       "      <td>200.0</td>\n",
       "      <td>22.0</td>\n",
       "      <td>29.0</td>\n",
       "      <td>3230.0</td>\n",
       "      <td>105.0</td>\n",
       "      <td>183.0</td>\n",
       "    </tr>\n",
       "    <tr>\n",
       "      <th>3</th>\n",
       "      <td>Acura</td>\n",
       "      <td>TL 4dr</td>\n",
       "      <td>Sedan</td>\n",
       "      <td>Asia</td>\n",
       "      <td>Front</td>\n",
       "      <td>33195.0</td>\n",
       "      <td>30299.0</td>\n",
       "      <td>3.2</td>\n",
       "      <td>6.0</td>\n",
       "      <td>270.0</td>\n",
       "      <td>20.0</td>\n",
       "      <td>28.0</td>\n",
       "      <td>3575.0</td>\n",
       "      <td>108.0</td>\n",
       "      <td>186.0</td>\n",
       "    </tr>\n",
       "    <tr>\n",
       "      <th>4</th>\n",
       "      <td>Acura</td>\n",
       "      <td>3.5 RL 4dr</td>\n",
       "      <td>Sedan</td>\n",
       "      <td>Asia</td>\n",
       "      <td>Front</td>\n",
       "      <td>43755.0</td>\n",
       "      <td>39014.0</td>\n",
       "      <td>3.5</td>\n",
       "      <td>6.0</td>\n",
       "      <td>225.0</td>\n",
       "      <td>18.0</td>\n",
       "      <td>24.0</td>\n",
       "      <td>3880.0</td>\n",
       "      <td>115.0</td>\n",
       "      <td>197.0</td>\n",
       "    </tr>\n",
       "  </tbody>\n",
       "</table>\n",
       "</div>"
      ],
      "text/plain": [
       "    Make        Model   Type Origin DriveTrain     MSRP  Invoice  EngineSize  \\\n",
       "2  Acura      TSX 4dr  Sedan   Asia      Front  26990.0  24647.0         2.4   \n",
       "3  Acura       TL 4dr  Sedan   Asia      Front  33195.0  30299.0         3.2   \n",
       "4  Acura   3.5 RL 4dr  Sedan   Asia      Front  43755.0  39014.0         3.5   \n",
       "\n",
       "   Cylinders  Horsepower  MPG_City  MPG_Highway  Weight  Wheelbase  Length  \n",
       "2        4.0       200.0      22.0         29.0  3230.0      105.0   183.0  \n",
       "3        6.0       270.0      20.0         28.0  3575.0      108.0   186.0  \n",
       "4        6.0       225.0      18.0         24.0  3880.0      115.0   197.0  "
      ]
     },
     "execution_count": 268,
     "metadata": {},
     "output_type": "execute_result"
    }
   ],
   "source": [
    "car[2:5] # index"
   ]
  },
  {
   "cell_type": "code",
   "execution_count": null,
   "metadata": {},
   "outputs": [],
   "source": []
  },
  {
   "cell_type": "code",
   "execution_count": null,
   "metadata": {},
   "outputs": [],
   "source": [
    "car.iloc"
   ]
  },
  {
   "cell_type": "code",
   "execution_count": 278,
   "metadata": {},
   "outputs": [
    {
     "data": {
      "text/plain": [
       "RangeIndex(start=0, stop=428, step=1)"
      ]
     },
     "execution_count": 278,
     "metadata": {},
     "output_type": "execute_result"
    }
   ],
   "source": [
    "car.index"
   ]
  },
  {
   "cell_type": "code",
   "execution_count": 274,
   "metadata": {},
   "outputs": [
    {
     "data": {
      "text/html": [
       "<div>\n",
       "<style scoped>\n",
       "    .dataframe tbody tr th:only-of-type {\n",
       "        vertical-align: middle;\n",
       "    }\n",
       "\n",
       "    .dataframe tbody tr th {\n",
       "        vertical-align: top;\n",
       "    }\n",
       "\n",
       "    .dataframe thead th {\n",
       "        text-align: right;\n",
       "    }\n",
       "</style>\n",
       "<table border=\"1\" class=\"dataframe\">\n",
       "  <thead>\n",
       "    <tr style=\"text-align: right;\">\n",
       "      <th></th>\n",
       "      <th>country</th>\n",
       "      <th>capital</th>\n",
       "    </tr>\n",
       "  </thead>\n",
       "  <tbody>\n",
       "    <tr>\n",
       "      <th>A</th>\n",
       "      <td>Brazil</td>\n",
       "      <td>Brasilia</td>\n",
       "    </tr>\n",
       "    <tr>\n",
       "      <th>B</th>\n",
       "      <td>Russia</td>\n",
       "      <td>Moscow</td>\n",
       "    </tr>\n",
       "    <tr>\n",
       "      <th>C</th>\n",
       "      <td>India</td>\n",
       "      <td>New Delhi</td>\n",
       "    </tr>\n",
       "    <tr>\n",
       "      <th>D</th>\n",
       "      <td>China</td>\n",
       "      <td>Beijing</td>\n",
       "    </tr>\n",
       "    <tr>\n",
       "      <th>E</th>\n",
       "      <td>South Africa</td>\n",
       "      <td>None</td>\n",
       "    </tr>\n",
       "  </tbody>\n",
       "</table>\n",
       "</div>"
      ],
      "text/plain": [
       "        country    capital\n",
       "A        Brazil   Brasilia\n",
       "B        Russia     Moscow\n",
       "C         India  New Delhi\n",
       "D         China    Beijing\n",
       "E  South Africa       None"
      ]
     },
     "execution_count": 274,
     "metadata": {},
     "output_type": "execute_result"
    }
   ],
   "source": [
    "br = pd.DataFrame(brics, index = ['A','B','C','D','E'])\n",
    "br"
   ]
  },
  {
   "cell_type": "code",
   "execution_count": 276,
   "metadata": {},
   "outputs": [
    {
     "data": {
      "text/html": [
       "<div>\n",
       "<style scoped>\n",
       "    .dataframe tbody tr th:only-of-type {\n",
       "        vertical-align: middle;\n",
       "    }\n",
       "\n",
       "    .dataframe tbody tr th {\n",
       "        vertical-align: top;\n",
       "    }\n",
       "\n",
       "    .dataframe thead th {\n",
       "        text-align: right;\n",
       "    }\n",
       "</style>\n",
       "<table border=\"1\" class=\"dataframe\">\n",
       "  <thead>\n",
       "    <tr style=\"text-align: right;\">\n",
       "      <th></th>\n",
       "      <th>country</th>\n",
       "      <th>capital</th>\n",
       "    </tr>\n",
       "  </thead>\n",
       "  <tbody>\n",
       "    <tr>\n",
       "      <th>A</th>\n",
       "      <td>Brazil</td>\n",
       "      <td>Brasilia</td>\n",
       "    </tr>\n",
       "    <tr>\n",
       "      <th>B</th>\n",
       "      <td>Russia</td>\n",
       "      <td>Moscow</td>\n",
       "    </tr>\n",
       "  </tbody>\n",
       "</table>\n",
       "</div>"
      ],
      "text/plain": [
       "  country   capital\n",
       "A  Brazil  Brasilia\n",
       "B  Russia    Moscow"
      ]
     },
     "execution_count": 276,
     "metadata": {},
     "output_type": "execute_result"
    }
   ],
   "source": [
    "br.loc['A':'B']"
   ]
  },
  {
   "cell_type": "code",
   "execution_count": 277,
   "metadata": {},
   "outputs": [
    {
     "data": {
      "text/html": [
       "<div>\n",
       "<style scoped>\n",
       "    .dataframe tbody tr th:only-of-type {\n",
       "        vertical-align: middle;\n",
       "    }\n",
       "\n",
       "    .dataframe tbody tr th {\n",
       "        vertical-align: top;\n",
       "    }\n",
       "\n",
       "    .dataframe thead th {\n",
       "        text-align: right;\n",
       "    }\n",
       "</style>\n",
       "<table border=\"1\" class=\"dataframe\">\n",
       "  <thead>\n",
       "    <tr style=\"text-align: right;\">\n",
       "      <th></th>\n",
       "      <th>country</th>\n",
       "      <th>capital</th>\n",
       "    </tr>\n",
       "  </thead>\n",
       "  <tbody>\n",
       "    <tr>\n",
       "      <th>A</th>\n",
       "      <td>Brazil</td>\n",
       "      <td>Brasilia</td>\n",
       "    </tr>\n",
       "  </tbody>\n",
       "</table>\n",
       "</div>"
      ],
      "text/plain": [
       "  country   capital\n",
       "A  Brazil  Brasilia"
      ]
     },
     "execution_count": 277,
     "metadata": {},
     "output_type": "execute_result"
    }
   ],
   "source": [
    "br[0:1]"
   ]
  },
  {
   "cell_type": "markdown",
   "metadata": {},
   "source": [
    "# df.iloc[ ] "
   ]
  },
  {
   "cell_type": "code",
   "execution_count": 279,
   "metadata": {},
   "outputs": [
    {
     "data": {
      "text/html": [
       "<div>\n",
       "<style scoped>\n",
       "    .dataframe tbody tr th:only-of-type {\n",
       "        vertical-align: middle;\n",
       "    }\n",
       "\n",
       "    .dataframe tbody tr th {\n",
       "        vertical-align: top;\n",
       "    }\n",
       "\n",
       "    .dataframe thead th {\n",
       "        text-align: right;\n",
       "    }\n",
       "</style>\n",
       "<table border=\"1\" class=\"dataframe\">\n",
       "  <thead>\n",
       "    <tr style=\"text-align: right;\">\n",
       "      <th></th>\n",
       "      <th>Make</th>\n",
       "      <th>Model</th>\n",
       "      <th>Type</th>\n",
       "      <th>Origin</th>\n",
       "      <th>DriveTrain</th>\n",
       "      <th>MSRP</th>\n",
       "      <th>Invoice</th>\n",
       "      <th>EngineSize</th>\n",
       "      <th>Cylinders</th>\n",
       "      <th>Horsepower</th>\n",
       "      <th>MPG_City</th>\n",
       "      <th>MPG_Highway</th>\n",
       "      <th>Weight</th>\n",
       "      <th>Wheelbase</th>\n",
       "      <th>Length</th>\n",
       "    </tr>\n",
       "  </thead>\n",
       "  <tbody>\n",
       "    <tr>\n",
       "      <th>2</th>\n",
       "      <td>Acura</td>\n",
       "      <td>TSX 4dr</td>\n",
       "      <td>Sedan</td>\n",
       "      <td>Asia</td>\n",
       "      <td>Front</td>\n",
       "      <td>26990.0</td>\n",
       "      <td>24647.0</td>\n",
       "      <td>2.4</td>\n",
       "      <td>4.0</td>\n",
       "      <td>200.0</td>\n",
       "      <td>22.0</td>\n",
       "      <td>29.0</td>\n",
       "      <td>3230.0</td>\n",
       "      <td>105.0</td>\n",
       "      <td>183.0</td>\n",
       "    </tr>\n",
       "    <tr>\n",
       "      <th>3</th>\n",
       "      <td>Acura</td>\n",
       "      <td>TL 4dr</td>\n",
       "      <td>Sedan</td>\n",
       "      <td>Asia</td>\n",
       "      <td>Front</td>\n",
       "      <td>33195.0</td>\n",
       "      <td>30299.0</td>\n",
       "      <td>3.2</td>\n",
       "      <td>6.0</td>\n",
       "      <td>270.0</td>\n",
       "      <td>20.0</td>\n",
       "      <td>28.0</td>\n",
       "      <td>3575.0</td>\n",
       "      <td>108.0</td>\n",
       "      <td>186.0</td>\n",
       "    </tr>\n",
       "    <tr>\n",
       "      <th>4</th>\n",
       "      <td>Acura</td>\n",
       "      <td>3.5 RL 4dr</td>\n",
       "      <td>Sedan</td>\n",
       "      <td>Asia</td>\n",
       "      <td>Front</td>\n",
       "      <td>43755.0</td>\n",
       "      <td>39014.0</td>\n",
       "      <td>3.5</td>\n",
       "      <td>6.0</td>\n",
       "      <td>225.0</td>\n",
       "      <td>18.0</td>\n",
       "      <td>24.0</td>\n",
       "      <td>3880.0</td>\n",
       "      <td>115.0</td>\n",
       "      <td>197.0</td>\n",
       "    </tr>\n",
       "  </tbody>\n",
       "</table>\n",
       "</div>"
      ],
      "text/plain": [
       "    Make        Model   Type Origin DriveTrain     MSRP  Invoice  EngineSize  \\\n",
       "2  Acura      TSX 4dr  Sedan   Asia      Front  26990.0  24647.0         2.4   \n",
       "3  Acura       TL 4dr  Sedan   Asia      Front  33195.0  30299.0         3.2   \n",
       "4  Acura   3.5 RL 4dr  Sedan   Asia      Front  43755.0  39014.0         3.5   \n",
       "\n",
       "   Cylinders  Horsepower  MPG_City  MPG_Highway  Weight  Wheelbase  Length  \n",
       "2        4.0       200.0      22.0         29.0  3230.0      105.0   183.0  \n",
       "3        6.0       270.0      20.0         28.0  3575.0      108.0   186.0  \n",
       "4        6.0       225.0      18.0         24.0  3880.0      115.0   197.0  "
      ]
     },
     "execution_count": 279,
     "metadata": {},
     "output_type": "execute_result"
    }
   ],
   "source": [
    "car.iloc[2:5] # index"
   ]
  },
  {
   "cell_type": "code",
   "execution_count": 280,
   "metadata": {},
   "outputs": [
    {
     "data": {
      "text/html": [
       "<div>\n",
       "<style scoped>\n",
       "    .dataframe tbody tr th:only-of-type {\n",
       "        vertical-align: middle;\n",
       "    }\n",
       "\n",
       "    .dataframe tbody tr th {\n",
       "        vertical-align: top;\n",
       "    }\n",
       "\n",
       "    .dataframe thead th {\n",
       "        text-align: right;\n",
       "    }\n",
       "</style>\n",
       "<table border=\"1\" class=\"dataframe\">\n",
       "  <thead>\n",
       "    <tr style=\"text-align: right;\">\n",
       "      <th></th>\n",
       "      <th>Make</th>\n",
       "      <th>Model</th>\n",
       "      <th>Type</th>\n",
       "      <th>Origin</th>\n",
       "      <th>DriveTrain</th>\n",
       "      <th>MSRP</th>\n",
       "      <th>Invoice</th>\n",
       "      <th>EngineSize</th>\n",
       "      <th>Cylinders</th>\n",
       "      <th>Horsepower</th>\n",
       "      <th>MPG_City</th>\n",
       "      <th>MPG_Highway</th>\n",
       "      <th>Weight</th>\n",
       "      <th>Wheelbase</th>\n",
       "      <th>Length</th>\n",
       "    </tr>\n",
       "  </thead>\n",
       "  <tbody>\n",
       "    <tr>\n",
       "      <th>2</th>\n",
       "      <td>Acura</td>\n",
       "      <td>TSX 4dr</td>\n",
       "      <td>Sedan</td>\n",
       "      <td>Asia</td>\n",
       "      <td>Front</td>\n",
       "      <td>26990.0</td>\n",
       "      <td>24647.0</td>\n",
       "      <td>2.4</td>\n",
       "      <td>4.0</td>\n",
       "      <td>200.0</td>\n",
       "      <td>22.0</td>\n",
       "      <td>29.0</td>\n",
       "      <td>3230.0</td>\n",
       "      <td>105.0</td>\n",
       "      <td>183.0</td>\n",
       "    </tr>\n",
       "    <tr>\n",
       "      <th>3</th>\n",
       "      <td>Acura</td>\n",
       "      <td>TL 4dr</td>\n",
       "      <td>Sedan</td>\n",
       "      <td>Asia</td>\n",
       "      <td>Front</td>\n",
       "      <td>33195.0</td>\n",
       "      <td>30299.0</td>\n",
       "      <td>3.2</td>\n",
       "      <td>6.0</td>\n",
       "      <td>270.0</td>\n",
       "      <td>20.0</td>\n",
       "      <td>28.0</td>\n",
       "      <td>3575.0</td>\n",
       "      <td>108.0</td>\n",
       "      <td>186.0</td>\n",
       "    </tr>\n",
       "    <tr>\n",
       "      <th>4</th>\n",
       "      <td>Acura</td>\n",
       "      <td>3.5 RL 4dr</td>\n",
       "      <td>Sedan</td>\n",
       "      <td>Asia</td>\n",
       "      <td>Front</td>\n",
       "      <td>43755.0</td>\n",
       "      <td>39014.0</td>\n",
       "      <td>3.5</td>\n",
       "      <td>6.0</td>\n",
       "      <td>225.0</td>\n",
       "      <td>18.0</td>\n",
       "      <td>24.0</td>\n",
       "      <td>3880.0</td>\n",
       "      <td>115.0</td>\n",
       "      <td>197.0</td>\n",
       "    </tr>\n",
       "    <tr>\n",
       "      <th>5</th>\n",
       "      <td>Acura</td>\n",
       "      <td>3.5 RL w/Navigation 4dr</td>\n",
       "      <td>Sedan</td>\n",
       "      <td>Asia</td>\n",
       "      <td>Front</td>\n",
       "      <td>46100.0</td>\n",
       "      <td>41100.0</td>\n",
       "      <td>3.5</td>\n",
       "      <td>6.0</td>\n",
       "      <td>225.0</td>\n",
       "      <td>18.0</td>\n",
       "      <td>24.0</td>\n",
       "      <td>3893.0</td>\n",
       "      <td>115.0</td>\n",
       "      <td>197.0</td>\n",
       "    </tr>\n",
       "  </tbody>\n",
       "</table>\n",
       "</div>"
      ],
      "text/plain": [
       "    Make                     Model   Type Origin DriveTrain     MSRP  Invoice  \\\n",
       "2  Acura                   TSX 4dr  Sedan   Asia      Front  26990.0  24647.0   \n",
       "3  Acura                    TL 4dr  Sedan   Asia      Front  33195.0  30299.0   \n",
       "4  Acura                3.5 RL 4dr  Sedan   Asia      Front  43755.0  39014.0   \n",
       "5  Acura   3.5 RL w/Navigation 4dr  Sedan   Asia      Front  46100.0  41100.0   \n",
       "\n",
       "   EngineSize  Cylinders  Horsepower  MPG_City  MPG_Highway  Weight  \\\n",
       "2         2.4        4.0       200.0      22.0         29.0  3230.0   \n",
       "3         3.2        6.0       270.0      20.0         28.0  3575.0   \n",
       "4         3.5        6.0       225.0      18.0         24.0  3880.0   \n",
       "5         3.5        6.0       225.0      18.0         24.0  3893.0   \n",
       "\n",
       "   Wheelbase  Length  \n",
       "2      105.0   183.0  \n",
       "3      108.0   186.0  \n",
       "4      115.0   197.0  \n",
       "5      115.0   197.0  "
      ]
     },
     "execution_count": 280,
     "metadata": {},
     "output_type": "execute_result"
    }
   ],
   "source": [
    "car.iloc[[2,3,4,5]]"
   ]
  },
  {
   "cell_type": "code",
   "execution_count": 282,
   "metadata": {},
   "outputs": [
    {
     "data": {
      "text/plain": [
       "'Acura'"
      ]
     },
     "execution_count": 282,
     "metadata": {},
     "output_type": "execute_result"
    }
   ],
   "source": [
    "car.iloc[2,0] # row = 2 ccolumn = Make"
   ]
  },
  {
   "cell_type": "code",
   "execution_count": 284,
   "metadata": {},
   "outputs": [
    {
     "data": {
      "text/plain": [
       "Make            Acura\n",
       "Model          TL 4dr\n",
       "Type            Sedan\n",
       "Origin           Asia\n",
       "DriveTrain      Front\n",
       "Name: 3, dtype: object"
      ]
     },
     "execution_count": 284,
     "metadata": {},
     "output_type": "execute_result"
    }
   ],
   "source": [
    "car.iloc[ 3 , 0:5]"
   ]
  },
  {
   "cell_type": "markdown",
   "metadata": {},
   "source": [
    "# Filter the data for desired information"
   ]
  },
  {
   "cell_type": "code",
   "execution_count": 285,
   "metadata": {},
   "outputs": [
    {
     "data": {
      "text/plain": [
       "0      False\n",
       "1      False\n",
       "2      False\n",
       "3      False\n",
       "4      False\n",
       "5      False\n",
       "6      False\n",
       "7      False\n",
       "8      False\n",
       "9      False\n",
       "10     False\n",
       "11     False\n",
       "12     False\n",
       "13     False\n",
       "14     False\n",
       "15     False\n",
       "16     False\n",
       "17     False\n",
       "18     False\n",
       "19     False\n",
       "20     False\n",
       "21     False\n",
       "22     False\n",
       "23     False\n",
       "24     False\n",
       "25     False\n",
       "26      True\n",
       "27      True\n",
       "28      True\n",
       "29      True\n",
       "       ...  \n",
       "398    False\n",
       "399    False\n",
       "400    False\n",
       "401    False\n",
       "402    False\n",
       "403    False\n",
       "404    False\n",
       "405    False\n",
       "406    False\n",
       "407    False\n",
       "408    False\n",
       "409    False\n",
       "410    False\n",
       "411    False\n",
       "412    False\n",
       "413    False\n",
       "414    False\n",
       "415    False\n",
       "416    False\n",
       "417    False\n",
       "418    False\n",
       "419    False\n",
       "420    False\n",
       "421    False\n",
       "422    False\n",
       "423    False\n",
       "424    False\n",
       "425    False\n",
       "426    False\n",
       "427    False\n",
       "Name: Make, Length: 428, dtype: bool"
      ]
     },
     "execution_count": 285,
     "metadata": {},
     "output_type": "execute_result"
    }
   ],
   "source": [
    "car.Make == 'BMW' # Series with corresponding to each row True or False"
   ]
  },
  {
   "cell_type": "code",
   "execution_count": 287,
   "metadata": {},
   "outputs": [
    {
     "data": {
      "text/html": [
       "<div>\n",
       "<style scoped>\n",
       "    .dataframe tbody tr th:only-of-type {\n",
       "        vertical-align: middle;\n",
       "    }\n",
       "\n",
       "    .dataframe tbody tr th {\n",
       "        vertical-align: top;\n",
       "    }\n",
       "\n",
       "    .dataframe thead th {\n",
       "        text-align: right;\n",
       "    }\n",
       "</style>\n",
       "<table border=\"1\" class=\"dataframe\">\n",
       "  <thead>\n",
       "    <tr style=\"text-align: right;\">\n",
       "      <th></th>\n",
       "      <th>Make</th>\n",
       "      <th>Model</th>\n",
       "      <th>Type</th>\n",
       "      <th>Origin</th>\n",
       "      <th>DriveTrain</th>\n",
       "      <th>MSRP</th>\n",
       "      <th>Invoice</th>\n",
       "      <th>EngineSize</th>\n",
       "      <th>Cylinders</th>\n",
       "      <th>Horsepower</th>\n",
       "      <th>MPG_City</th>\n",
       "      <th>MPG_Highway</th>\n",
       "      <th>Weight</th>\n",
       "      <th>Wheelbase</th>\n",
       "      <th>Length</th>\n",
       "    </tr>\n",
       "  </thead>\n",
       "  <tbody>\n",
       "    <tr>\n",
       "      <th>26</th>\n",
       "      <td>BMW</td>\n",
       "      <td>X3 3.0i</td>\n",
       "      <td>SUV</td>\n",
       "      <td>Europe</td>\n",
       "      <td>All</td>\n",
       "      <td>37000.0</td>\n",
       "      <td>33873.0</td>\n",
       "      <td>3.0</td>\n",
       "      <td>6.0</td>\n",
       "      <td>225.0</td>\n",
       "      <td>16.0</td>\n",
       "      <td>23.0</td>\n",
       "      <td>4023.0</td>\n",
       "      <td>110.0</td>\n",
       "      <td>180.0</td>\n",
       "    </tr>\n",
       "    <tr>\n",
       "      <th>27</th>\n",
       "      <td>BMW</td>\n",
       "      <td>X5 4.4i</td>\n",
       "      <td>SUV</td>\n",
       "      <td>Europe</td>\n",
       "      <td>All</td>\n",
       "      <td>52195.0</td>\n",
       "      <td>47720.0</td>\n",
       "      <td>4.4</td>\n",
       "      <td>8.0</td>\n",
       "      <td>325.0</td>\n",
       "      <td>16.0</td>\n",
       "      <td>22.0</td>\n",
       "      <td>4824.0</td>\n",
       "      <td>111.0</td>\n",
       "      <td>184.0</td>\n",
       "    </tr>\n",
       "    <tr>\n",
       "      <th>28</th>\n",
       "      <td>BMW</td>\n",
       "      <td>325i 4dr</td>\n",
       "      <td>Sedan</td>\n",
       "      <td>Europe</td>\n",
       "      <td>Rear</td>\n",
       "      <td>28495.0</td>\n",
       "      <td>26155.0</td>\n",
       "      <td>2.5</td>\n",
       "      <td>6.0</td>\n",
       "      <td>184.0</td>\n",
       "      <td>20.0</td>\n",
       "      <td>29.0</td>\n",
       "      <td>3219.0</td>\n",
       "      <td>107.0</td>\n",
       "      <td>176.0</td>\n",
       "    </tr>\n",
       "    <tr>\n",
       "      <th>29</th>\n",
       "      <td>BMW</td>\n",
       "      <td>325Ci 2dr</td>\n",
       "      <td>Sedan</td>\n",
       "      <td>Europe</td>\n",
       "      <td>Rear</td>\n",
       "      <td>30795.0</td>\n",
       "      <td>28245.0</td>\n",
       "      <td>2.5</td>\n",
       "      <td>6.0</td>\n",
       "      <td>184.0</td>\n",
       "      <td>20.0</td>\n",
       "      <td>29.0</td>\n",
       "      <td>3197.0</td>\n",
       "      <td>107.0</td>\n",
       "      <td>177.0</td>\n",
       "    </tr>\n",
       "    <tr>\n",
       "      <th>30</th>\n",
       "      <td>BMW</td>\n",
       "      <td>325Ci convertible 2dr</td>\n",
       "      <td>Sedan</td>\n",
       "      <td>Europe</td>\n",
       "      <td>Rear</td>\n",
       "      <td>37995.0</td>\n",
       "      <td>34800.0</td>\n",
       "      <td>2.5</td>\n",
       "      <td>6.0</td>\n",
       "      <td>184.0</td>\n",
       "      <td>19.0</td>\n",
       "      <td>27.0</td>\n",
       "      <td>3560.0</td>\n",
       "      <td>107.0</td>\n",
       "      <td>177.0</td>\n",
       "    </tr>\n",
       "    <tr>\n",
       "      <th>31</th>\n",
       "      <td>BMW</td>\n",
       "      <td>325xi 4dr</td>\n",
       "      <td>Sedan</td>\n",
       "      <td>Europe</td>\n",
       "      <td>All</td>\n",
       "      <td>30245.0</td>\n",
       "      <td>27745.0</td>\n",
       "      <td>2.5</td>\n",
       "      <td>6.0</td>\n",
       "      <td>184.0</td>\n",
       "      <td>19.0</td>\n",
       "      <td>27.0</td>\n",
       "      <td>3461.0</td>\n",
       "      <td>107.0</td>\n",
       "      <td>176.0</td>\n",
       "    </tr>\n",
       "    <tr>\n",
       "      <th>32</th>\n",
       "      <td>BMW</td>\n",
       "      <td>330i 4dr</td>\n",
       "      <td>Sedan</td>\n",
       "      <td>Europe</td>\n",
       "      <td>Rear</td>\n",
       "      <td>35495.0</td>\n",
       "      <td>32525.0</td>\n",
       "      <td>3.0</td>\n",
       "      <td>6.0</td>\n",
       "      <td>225.0</td>\n",
       "      <td>20.0</td>\n",
       "      <td>30.0</td>\n",
       "      <td>3285.0</td>\n",
       "      <td>107.0</td>\n",
       "      <td>176.0</td>\n",
       "    </tr>\n",
       "    <tr>\n",
       "      <th>33</th>\n",
       "      <td>BMW</td>\n",
       "      <td>330Ci 2dr</td>\n",
       "      <td>Sedan</td>\n",
       "      <td>Europe</td>\n",
       "      <td>Rear</td>\n",
       "      <td>36995.0</td>\n",
       "      <td>33890.0</td>\n",
       "      <td>3.0</td>\n",
       "      <td>6.0</td>\n",
       "      <td>225.0</td>\n",
       "      <td>20.0</td>\n",
       "      <td>30.0</td>\n",
       "      <td>3285.0</td>\n",
       "      <td>107.0</td>\n",
       "      <td>176.0</td>\n",
       "    </tr>\n",
       "    <tr>\n",
       "      <th>34</th>\n",
       "      <td>BMW</td>\n",
       "      <td>330xi 4dr</td>\n",
       "      <td>Sedan</td>\n",
       "      <td>Europe</td>\n",
       "      <td>All</td>\n",
       "      <td>37245.0</td>\n",
       "      <td>34115.0</td>\n",
       "      <td>3.0</td>\n",
       "      <td>6.0</td>\n",
       "      <td>225.0</td>\n",
       "      <td>20.0</td>\n",
       "      <td>29.0</td>\n",
       "      <td>3483.0</td>\n",
       "      <td>107.0</td>\n",
       "      <td>176.0</td>\n",
       "    </tr>\n",
       "    <tr>\n",
       "      <th>35</th>\n",
       "      <td>BMW</td>\n",
       "      <td>525i 4dr</td>\n",
       "      <td>Sedan</td>\n",
       "      <td>Europe</td>\n",
       "      <td>Rear</td>\n",
       "      <td>39995.0</td>\n",
       "      <td>36620.0</td>\n",
       "      <td>2.5</td>\n",
       "      <td>6.0</td>\n",
       "      <td>184.0</td>\n",
       "      <td>19.0</td>\n",
       "      <td>28.0</td>\n",
       "      <td>3428.0</td>\n",
       "      <td>114.0</td>\n",
       "      <td>191.0</td>\n",
       "    </tr>\n",
       "    <tr>\n",
       "      <th>36</th>\n",
       "      <td>BMW</td>\n",
       "      <td>330Ci convertible 2dr</td>\n",
       "      <td>Sedan</td>\n",
       "      <td>Europe</td>\n",
       "      <td>Rear</td>\n",
       "      <td>44295.0</td>\n",
       "      <td>40530.0</td>\n",
       "      <td>3.0</td>\n",
       "      <td>6.0</td>\n",
       "      <td>225.0</td>\n",
       "      <td>19.0</td>\n",
       "      <td>28.0</td>\n",
       "      <td>3616.0</td>\n",
       "      <td>107.0</td>\n",
       "      <td>177.0</td>\n",
       "    </tr>\n",
       "    <tr>\n",
       "      <th>37</th>\n",
       "      <td>BMW</td>\n",
       "      <td>530i 4dr</td>\n",
       "      <td>Sedan</td>\n",
       "      <td>Europe</td>\n",
       "      <td>Rear</td>\n",
       "      <td>44995.0</td>\n",
       "      <td>41170.0</td>\n",
       "      <td>3.0</td>\n",
       "      <td>6.0</td>\n",
       "      <td>225.0</td>\n",
       "      <td>20.0</td>\n",
       "      <td>30.0</td>\n",
       "      <td>3472.0</td>\n",
       "      <td>114.0</td>\n",
       "      <td>191.0</td>\n",
       "    </tr>\n",
       "    <tr>\n",
       "      <th>38</th>\n",
       "      <td>BMW</td>\n",
       "      <td>545iA 4dr</td>\n",
       "      <td>Sedan</td>\n",
       "      <td>Europe</td>\n",
       "      <td>Rear</td>\n",
       "      <td>54995.0</td>\n",
       "      <td>50270.0</td>\n",
       "      <td>4.4</td>\n",
       "      <td>8.0</td>\n",
       "      <td>325.0</td>\n",
       "      <td>18.0</td>\n",
       "      <td>26.0</td>\n",
       "      <td>3814.0</td>\n",
       "      <td>114.0</td>\n",
       "      <td>191.0</td>\n",
       "    </tr>\n",
       "    <tr>\n",
       "      <th>39</th>\n",
       "      <td>BMW</td>\n",
       "      <td>745i 4dr</td>\n",
       "      <td>Sedan</td>\n",
       "      <td>Europe</td>\n",
       "      <td>Rear</td>\n",
       "      <td>69195.0</td>\n",
       "      <td>63190.0</td>\n",
       "      <td>4.4</td>\n",
       "      <td>8.0</td>\n",
       "      <td>325.0</td>\n",
       "      <td>18.0</td>\n",
       "      <td>26.0</td>\n",
       "      <td>4376.0</td>\n",
       "      <td>118.0</td>\n",
       "      <td>198.0</td>\n",
       "    </tr>\n",
       "    <tr>\n",
       "      <th>40</th>\n",
       "      <td>BMW</td>\n",
       "      <td>745Li 4dr</td>\n",
       "      <td>Sedan</td>\n",
       "      <td>Europe</td>\n",
       "      <td>Rear</td>\n",
       "      <td>73195.0</td>\n",
       "      <td>66830.0</td>\n",
       "      <td>4.4</td>\n",
       "      <td>8.0</td>\n",
       "      <td>325.0</td>\n",
       "      <td>18.0</td>\n",
       "      <td>26.0</td>\n",
       "      <td>4464.0</td>\n",
       "      <td>123.0</td>\n",
       "      <td>204.0</td>\n",
       "    </tr>\n",
       "    <tr>\n",
       "      <th>41</th>\n",
       "      <td>BMW</td>\n",
       "      <td>M3 coupe 2dr</td>\n",
       "      <td>Sports</td>\n",
       "      <td>Europe</td>\n",
       "      <td>Rear</td>\n",
       "      <td>48195.0</td>\n",
       "      <td>44170.0</td>\n",
       "      <td>3.2</td>\n",
       "      <td>6.0</td>\n",
       "      <td>333.0</td>\n",
       "      <td>16.0</td>\n",
       "      <td>24.0</td>\n",
       "      <td>3415.0</td>\n",
       "      <td>108.0</td>\n",
       "      <td>177.0</td>\n",
       "    </tr>\n",
       "    <tr>\n",
       "      <th>42</th>\n",
       "      <td>BMW</td>\n",
       "      <td>M3 convertible 2dr</td>\n",
       "      <td>Sports</td>\n",
       "      <td>Europe</td>\n",
       "      <td>Rear</td>\n",
       "      <td>56595.0</td>\n",
       "      <td>51815.0</td>\n",
       "      <td>3.2</td>\n",
       "      <td>6.0</td>\n",
       "      <td>333.0</td>\n",
       "      <td>16.0</td>\n",
       "      <td>23.0</td>\n",
       "      <td>3781.0</td>\n",
       "      <td>108.0</td>\n",
       "      <td>177.0</td>\n",
       "    </tr>\n",
       "    <tr>\n",
       "      <th>43</th>\n",
       "      <td>BMW</td>\n",
       "      <td>Z4 convertible 2.5i 2dr</td>\n",
       "      <td>Sports</td>\n",
       "      <td>Europe</td>\n",
       "      <td>Rear</td>\n",
       "      <td>33895.0</td>\n",
       "      <td>31065.0</td>\n",
       "      <td>2.5</td>\n",
       "      <td>6.0</td>\n",
       "      <td>184.0</td>\n",
       "      <td>20.0</td>\n",
       "      <td>28.0</td>\n",
       "      <td>2932.0</td>\n",
       "      <td>98.0</td>\n",
       "      <td>161.0</td>\n",
       "    </tr>\n",
       "    <tr>\n",
       "      <th>44</th>\n",
       "      <td>BMW</td>\n",
       "      <td>Z4 convertible 3.0i 2dr</td>\n",
       "      <td>Sports</td>\n",
       "      <td>Europe</td>\n",
       "      <td>Rear</td>\n",
       "      <td>41045.0</td>\n",
       "      <td>37575.0</td>\n",
       "      <td>3.0</td>\n",
       "      <td>6.0</td>\n",
       "      <td>225.0</td>\n",
       "      <td>21.0</td>\n",
       "      <td>29.0</td>\n",
       "      <td>2998.0</td>\n",
       "      <td>98.0</td>\n",
       "      <td>161.0</td>\n",
       "    </tr>\n",
       "    <tr>\n",
       "      <th>45</th>\n",
       "      <td>BMW</td>\n",
       "      <td>325xi Sport</td>\n",
       "      <td>Wagon</td>\n",
       "      <td>Europe</td>\n",
       "      <td>All</td>\n",
       "      <td>32845.0</td>\n",
       "      <td>30110.0</td>\n",
       "      <td>2.5</td>\n",
       "      <td>6.0</td>\n",
       "      <td>184.0</td>\n",
       "      <td>19.0</td>\n",
       "      <td>26.0</td>\n",
       "      <td>3594.0</td>\n",
       "      <td>107.0</td>\n",
       "      <td>176.0</td>\n",
       "    </tr>\n",
       "  </tbody>\n",
       "</table>\n",
       "</div>"
      ],
      "text/plain": [
       "   Make                     Model    Type  Origin DriveTrain     MSRP  \\\n",
       "26  BMW                   X3 3.0i     SUV  Europe        All  37000.0   \n",
       "27  BMW                   X5 4.4i     SUV  Europe        All  52195.0   \n",
       "28  BMW                  325i 4dr   Sedan  Europe       Rear  28495.0   \n",
       "29  BMW                 325Ci 2dr   Sedan  Europe       Rear  30795.0   \n",
       "30  BMW     325Ci convertible 2dr   Sedan  Europe       Rear  37995.0   \n",
       "31  BMW                 325xi 4dr   Sedan  Europe        All  30245.0   \n",
       "32  BMW                  330i 4dr   Sedan  Europe       Rear  35495.0   \n",
       "33  BMW                 330Ci 2dr   Sedan  Europe       Rear  36995.0   \n",
       "34  BMW                 330xi 4dr   Sedan  Europe        All  37245.0   \n",
       "35  BMW                  525i 4dr   Sedan  Europe       Rear  39995.0   \n",
       "36  BMW     330Ci convertible 2dr   Sedan  Europe       Rear  44295.0   \n",
       "37  BMW                  530i 4dr   Sedan  Europe       Rear  44995.0   \n",
       "38  BMW                 545iA 4dr   Sedan  Europe       Rear  54995.0   \n",
       "39  BMW                  745i 4dr   Sedan  Europe       Rear  69195.0   \n",
       "40  BMW                 745Li 4dr   Sedan  Europe       Rear  73195.0   \n",
       "41  BMW              M3 coupe 2dr  Sports  Europe       Rear  48195.0   \n",
       "42  BMW        M3 convertible 2dr  Sports  Europe       Rear  56595.0   \n",
       "43  BMW   Z4 convertible 2.5i 2dr  Sports  Europe       Rear  33895.0   \n",
       "44  BMW   Z4 convertible 3.0i 2dr  Sports  Europe       Rear  41045.0   \n",
       "45  BMW               325xi Sport   Wagon  Europe        All  32845.0   \n",
       "\n",
       "    Invoice  EngineSize  Cylinders  Horsepower  MPG_City  MPG_Highway  Weight  \\\n",
       "26  33873.0         3.0        6.0       225.0      16.0         23.0  4023.0   \n",
       "27  47720.0         4.4        8.0       325.0      16.0         22.0  4824.0   \n",
       "28  26155.0         2.5        6.0       184.0      20.0         29.0  3219.0   \n",
       "29  28245.0         2.5        6.0       184.0      20.0         29.0  3197.0   \n",
       "30  34800.0         2.5        6.0       184.0      19.0         27.0  3560.0   \n",
       "31  27745.0         2.5        6.0       184.0      19.0         27.0  3461.0   \n",
       "32  32525.0         3.0        6.0       225.0      20.0         30.0  3285.0   \n",
       "33  33890.0         3.0        6.0       225.0      20.0         30.0  3285.0   \n",
       "34  34115.0         3.0        6.0       225.0      20.0         29.0  3483.0   \n",
       "35  36620.0         2.5        6.0       184.0      19.0         28.0  3428.0   \n",
       "36  40530.0         3.0        6.0       225.0      19.0         28.0  3616.0   \n",
       "37  41170.0         3.0        6.0       225.0      20.0         30.0  3472.0   \n",
       "38  50270.0         4.4        8.0       325.0      18.0         26.0  3814.0   \n",
       "39  63190.0         4.4        8.0       325.0      18.0         26.0  4376.0   \n",
       "40  66830.0         4.4        8.0       325.0      18.0         26.0  4464.0   \n",
       "41  44170.0         3.2        6.0       333.0      16.0         24.0  3415.0   \n",
       "42  51815.0         3.2        6.0       333.0      16.0         23.0  3781.0   \n",
       "43  31065.0         2.5        6.0       184.0      20.0         28.0  2932.0   \n",
       "44  37575.0         3.0        6.0       225.0      21.0         29.0  2998.0   \n",
       "45  30110.0         2.5        6.0       184.0      19.0         26.0  3594.0   \n",
       "\n",
       "    Wheelbase  Length  \n",
       "26      110.0   180.0  \n",
       "27      111.0   184.0  \n",
       "28      107.0   176.0  \n",
       "29      107.0   177.0  \n",
       "30      107.0   177.0  \n",
       "31      107.0   176.0  \n",
       "32      107.0   176.0  \n",
       "33      107.0   176.0  \n",
       "34      107.0   176.0  \n",
       "35      114.0   191.0  \n",
       "36      107.0   177.0  \n",
       "37      114.0   191.0  \n",
       "38      114.0   191.0  \n",
       "39      118.0   198.0  \n",
       "40      123.0   204.0  \n",
       "41      108.0   177.0  \n",
       "42      108.0   177.0  \n",
       "43       98.0   161.0  \n",
       "44       98.0   161.0  \n",
       "45      107.0   176.0  "
      ]
     },
     "execution_count": 287,
     "metadata": {},
     "output_type": "execute_result"
    }
   ],
   "source": [
    "car[car.Make == 'BMW']"
   ]
  },
  {
   "cell_type": "code",
   "execution_count": 288,
   "metadata": {},
   "outputs": [
    {
     "data": {
      "text/html": [
       "<div>\n",
       "<style scoped>\n",
       "    .dataframe tbody tr th:only-of-type {\n",
       "        vertical-align: middle;\n",
       "    }\n",
       "\n",
       "    .dataframe tbody tr th {\n",
       "        vertical-align: top;\n",
       "    }\n",
       "\n",
       "    .dataframe thead th {\n",
       "        text-align: right;\n",
       "    }\n",
       "</style>\n",
       "<table border=\"1\" class=\"dataframe\">\n",
       "  <thead>\n",
       "    <tr style=\"text-align: right;\">\n",
       "      <th></th>\n",
       "      <th>Make</th>\n",
       "      <th>Model</th>\n",
       "      <th>Type</th>\n",
       "      <th>Origin</th>\n",
       "      <th>DriveTrain</th>\n",
       "      <th>MSRP</th>\n",
       "      <th>Invoice</th>\n",
       "      <th>EngineSize</th>\n",
       "      <th>Cylinders</th>\n",
       "    </tr>\n",
       "  </thead>\n",
       "  <tbody>\n",
       "    <tr>\n",
       "      <th>26</th>\n",
       "      <td>BMW</td>\n",
       "      <td>X3 3.0i</td>\n",
       "      <td>SUV</td>\n",
       "      <td>Europe</td>\n",
       "      <td>All</td>\n",
       "      <td>37000.0</td>\n",
       "      <td>33873.0</td>\n",
       "      <td>3.0</td>\n",
       "      <td>6.0</td>\n",
       "    </tr>\n",
       "    <tr>\n",
       "      <th>27</th>\n",
       "      <td>BMW</td>\n",
       "      <td>X5 4.4i</td>\n",
       "      <td>SUV</td>\n",
       "      <td>Europe</td>\n",
       "      <td>All</td>\n",
       "      <td>52195.0</td>\n",
       "      <td>47720.0</td>\n",
       "      <td>4.4</td>\n",
       "      <td>8.0</td>\n",
       "    </tr>\n",
       "    <tr>\n",
       "      <th>28</th>\n",
       "      <td>BMW</td>\n",
       "      <td>325i 4dr</td>\n",
       "      <td>Sedan</td>\n",
       "      <td>Europe</td>\n",
       "      <td>Rear</td>\n",
       "      <td>28495.0</td>\n",
       "      <td>26155.0</td>\n",
       "      <td>2.5</td>\n",
       "      <td>6.0</td>\n",
       "    </tr>\n",
       "    <tr>\n",
       "      <th>29</th>\n",
       "      <td>BMW</td>\n",
       "      <td>325Ci 2dr</td>\n",
       "      <td>Sedan</td>\n",
       "      <td>Europe</td>\n",
       "      <td>Rear</td>\n",
       "      <td>30795.0</td>\n",
       "      <td>28245.0</td>\n",
       "      <td>2.5</td>\n",
       "      <td>6.0</td>\n",
       "    </tr>\n",
       "    <tr>\n",
       "      <th>30</th>\n",
       "      <td>BMW</td>\n",
       "      <td>325Ci convertible 2dr</td>\n",
       "      <td>Sedan</td>\n",
       "      <td>Europe</td>\n",
       "      <td>Rear</td>\n",
       "      <td>37995.0</td>\n",
       "      <td>34800.0</td>\n",
       "      <td>2.5</td>\n",
       "      <td>6.0</td>\n",
       "    </tr>\n",
       "    <tr>\n",
       "      <th>31</th>\n",
       "      <td>BMW</td>\n",
       "      <td>325xi 4dr</td>\n",
       "      <td>Sedan</td>\n",
       "      <td>Europe</td>\n",
       "      <td>All</td>\n",
       "      <td>30245.0</td>\n",
       "      <td>27745.0</td>\n",
       "      <td>2.5</td>\n",
       "      <td>6.0</td>\n",
       "    </tr>\n",
       "    <tr>\n",
       "      <th>32</th>\n",
       "      <td>BMW</td>\n",
       "      <td>330i 4dr</td>\n",
       "      <td>Sedan</td>\n",
       "      <td>Europe</td>\n",
       "      <td>Rear</td>\n",
       "      <td>35495.0</td>\n",
       "      <td>32525.0</td>\n",
       "      <td>3.0</td>\n",
       "      <td>6.0</td>\n",
       "    </tr>\n",
       "    <tr>\n",
       "      <th>33</th>\n",
       "      <td>BMW</td>\n",
       "      <td>330Ci 2dr</td>\n",
       "      <td>Sedan</td>\n",
       "      <td>Europe</td>\n",
       "      <td>Rear</td>\n",
       "      <td>36995.0</td>\n",
       "      <td>33890.0</td>\n",
       "      <td>3.0</td>\n",
       "      <td>6.0</td>\n",
       "    </tr>\n",
       "    <tr>\n",
       "      <th>34</th>\n",
       "      <td>BMW</td>\n",
       "      <td>330xi 4dr</td>\n",
       "      <td>Sedan</td>\n",
       "      <td>Europe</td>\n",
       "      <td>All</td>\n",
       "      <td>37245.0</td>\n",
       "      <td>34115.0</td>\n",
       "      <td>3.0</td>\n",
       "      <td>6.0</td>\n",
       "    </tr>\n",
       "    <tr>\n",
       "      <th>35</th>\n",
       "      <td>BMW</td>\n",
       "      <td>525i 4dr</td>\n",
       "      <td>Sedan</td>\n",
       "      <td>Europe</td>\n",
       "      <td>Rear</td>\n",
       "      <td>39995.0</td>\n",
       "      <td>36620.0</td>\n",
       "      <td>2.5</td>\n",
       "      <td>6.0</td>\n",
       "    </tr>\n",
       "    <tr>\n",
       "      <th>36</th>\n",
       "      <td>BMW</td>\n",
       "      <td>330Ci convertible 2dr</td>\n",
       "      <td>Sedan</td>\n",
       "      <td>Europe</td>\n",
       "      <td>Rear</td>\n",
       "      <td>44295.0</td>\n",
       "      <td>40530.0</td>\n",
       "      <td>3.0</td>\n",
       "      <td>6.0</td>\n",
       "    </tr>\n",
       "    <tr>\n",
       "      <th>37</th>\n",
       "      <td>BMW</td>\n",
       "      <td>530i 4dr</td>\n",
       "      <td>Sedan</td>\n",
       "      <td>Europe</td>\n",
       "      <td>Rear</td>\n",
       "      <td>44995.0</td>\n",
       "      <td>41170.0</td>\n",
       "      <td>3.0</td>\n",
       "      <td>6.0</td>\n",
       "    </tr>\n",
       "    <tr>\n",
       "      <th>38</th>\n",
       "      <td>BMW</td>\n",
       "      <td>545iA 4dr</td>\n",
       "      <td>Sedan</td>\n",
       "      <td>Europe</td>\n",
       "      <td>Rear</td>\n",
       "      <td>54995.0</td>\n",
       "      <td>50270.0</td>\n",
       "      <td>4.4</td>\n",
       "      <td>8.0</td>\n",
       "    </tr>\n",
       "    <tr>\n",
       "      <th>39</th>\n",
       "      <td>BMW</td>\n",
       "      <td>745i 4dr</td>\n",
       "      <td>Sedan</td>\n",
       "      <td>Europe</td>\n",
       "      <td>Rear</td>\n",
       "      <td>69195.0</td>\n",
       "      <td>63190.0</td>\n",
       "      <td>4.4</td>\n",
       "      <td>8.0</td>\n",
       "    </tr>\n",
       "    <tr>\n",
       "      <th>40</th>\n",
       "      <td>BMW</td>\n",
       "      <td>745Li 4dr</td>\n",
       "      <td>Sedan</td>\n",
       "      <td>Europe</td>\n",
       "      <td>Rear</td>\n",
       "      <td>73195.0</td>\n",
       "      <td>66830.0</td>\n",
       "      <td>4.4</td>\n",
       "      <td>8.0</td>\n",
       "    </tr>\n",
       "    <tr>\n",
       "      <th>41</th>\n",
       "      <td>BMW</td>\n",
       "      <td>M3 coupe 2dr</td>\n",
       "      <td>Sports</td>\n",
       "      <td>Europe</td>\n",
       "      <td>Rear</td>\n",
       "      <td>48195.0</td>\n",
       "      <td>44170.0</td>\n",
       "      <td>3.2</td>\n",
       "      <td>6.0</td>\n",
       "    </tr>\n",
       "    <tr>\n",
       "      <th>42</th>\n",
       "      <td>BMW</td>\n",
       "      <td>M3 convertible 2dr</td>\n",
       "      <td>Sports</td>\n",
       "      <td>Europe</td>\n",
       "      <td>Rear</td>\n",
       "      <td>56595.0</td>\n",
       "      <td>51815.0</td>\n",
       "      <td>3.2</td>\n",
       "      <td>6.0</td>\n",
       "    </tr>\n",
       "    <tr>\n",
       "      <th>43</th>\n",
       "      <td>BMW</td>\n",
       "      <td>Z4 convertible 2.5i 2dr</td>\n",
       "      <td>Sports</td>\n",
       "      <td>Europe</td>\n",
       "      <td>Rear</td>\n",
       "      <td>33895.0</td>\n",
       "      <td>31065.0</td>\n",
       "      <td>2.5</td>\n",
       "      <td>6.0</td>\n",
       "    </tr>\n",
       "    <tr>\n",
       "      <th>44</th>\n",
       "      <td>BMW</td>\n",
       "      <td>Z4 convertible 3.0i 2dr</td>\n",
       "      <td>Sports</td>\n",
       "      <td>Europe</td>\n",
       "      <td>Rear</td>\n",
       "      <td>41045.0</td>\n",
       "      <td>37575.0</td>\n",
       "      <td>3.0</td>\n",
       "      <td>6.0</td>\n",
       "    </tr>\n",
       "    <tr>\n",
       "      <th>45</th>\n",
       "      <td>BMW</td>\n",
       "      <td>325xi Sport</td>\n",
       "      <td>Wagon</td>\n",
       "      <td>Europe</td>\n",
       "      <td>All</td>\n",
       "      <td>32845.0</td>\n",
       "      <td>30110.0</td>\n",
       "      <td>2.5</td>\n",
       "      <td>6.0</td>\n",
       "    </tr>\n",
       "  </tbody>\n",
       "</table>\n",
       "</div>"
      ],
      "text/plain": [
       "   Make                     Model    Type  Origin DriveTrain     MSRP  \\\n",
       "26  BMW                   X3 3.0i     SUV  Europe        All  37000.0   \n",
       "27  BMW                   X5 4.4i     SUV  Europe        All  52195.0   \n",
       "28  BMW                  325i 4dr   Sedan  Europe       Rear  28495.0   \n",
       "29  BMW                 325Ci 2dr   Sedan  Europe       Rear  30795.0   \n",
       "30  BMW     325Ci convertible 2dr   Sedan  Europe       Rear  37995.0   \n",
       "31  BMW                 325xi 4dr   Sedan  Europe        All  30245.0   \n",
       "32  BMW                  330i 4dr   Sedan  Europe       Rear  35495.0   \n",
       "33  BMW                 330Ci 2dr   Sedan  Europe       Rear  36995.0   \n",
       "34  BMW                 330xi 4dr   Sedan  Europe        All  37245.0   \n",
       "35  BMW                  525i 4dr   Sedan  Europe       Rear  39995.0   \n",
       "36  BMW     330Ci convertible 2dr   Sedan  Europe       Rear  44295.0   \n",
       "37  BMW                  530i 4dr   Sedan  Europe       Rear  44995.0   \n",
       "38  BMW                 545iA 4dr   Sedan  Europe       Rear  54995.0   \n",
       "39  BMW                  745i 4dr   Sedan  Europe       Rear  69195.0   \n",
       "40  BMW                 745Li 4dr   Sedan  Europe       Rear  73195.0   \n",
       "41  BMW              M3 coupe 2dr  Sports  Europe       Rear  48195.0   \n",
       "42  BMW        M3 convertible 2dr  Sports  Europe       Rear  56595.0   \n",
       "43  BMW   Z4 convertible 2.5i 2dr  Sports  Europe       Rear  33895.0   \n",
       "44  BMW   Z4 convertible 3.0i 2dr  Sports  Europe       Rear  41045.0   \n",
       "45  BMW               325xi Sport   Wagon  Europe        All  32845.0   \n",
       "\n",
       "    Invoice  EngineSize  Cylinders  \n",
       "26  33873.0         3.0        6.0  \n",
       "27  47720.0         4.4        8.0  \n",
       "28  26155.0         2.5        6.0  \n",
       "29  28245.0         2.5        6.0  \n",
       "30  34800.0         2.5        6.0  \n",
       "31  27745.0         2.5        6.0  \n",
       "32  32525.0         3.0        6.0  \n",
       "33  33890.0         3.0        6.0  \n",
       "34  34115.0         3.0        6.0  \n",
       "35  36620.0         2.5        6.0  \n",
       "36  40530.0         3.0        6.0  \n",
       "37  41170.0         3.0        6.0  \n",
       "38  50270.0         4.4        8.0  \n",
       "39  63190.0         4.4        8.0  \n",
       "40  66830.0         4.4        8.0  \n",
       "41  44170.0         3.2        6.0  \n",
       "42  51815.0         3.2        6.0  \n",
       "43  31065.0         2.5        6.0  \n",
       "44  37575.0         3.0        6.0  \n",
       "45  30110.0         2.5        6.0  "
      ]
     },
     "execution_count": 288,
     "metadata": {},
     "output_type": "execute_result"
    }
   ],
   "source": [
    "car.loc[car.Make == 'BMW', 'Make' : 'Cylinders']"
   ]
  },
  {
   "cell_type": "code",
   "execution_count": 289,
   "metadata": {},
   "outputs": [
    {
     "data": {
      "text/html": [
       "<div>\n",
       "<style scoped>\n",
       "    .dataframe tbody tr th:only-of-type {\n",
       "        vertical-align: middle;\n",
       "    }\n",
       "\n",
       "    .dataframe tbody tr th {\n",
       "        vertical-align: top;\n",
       "    }\n",
       "\n",
       "    .dataframe thead th {\n",
       "        text-align: right;\n",
       "    }\n",
       "</style>\n",
       "<table border=\"1\" class=\"dataframe\">\n",
       "  <thead>\n",
       "    <tr style=\"text-align: right;\">\n",
       "      <th></th>\n",
       "      <th>Make</th>\n",
       "      <th>Model</th>\n",
       "      <th>Type</th>\n",
       "      <th>Origin</th>\n",
       "      <th>DriveTrain</th>\n",
       "      <th>MSRP</th>\n",
       "      <th>Invoice</th>\n",
       "      <th>EngineSize</th>\n",
       "      <th>Cylinders</th>\n",
       "    </tr>\n",
       "  </thead>\n",
       "  <tbody>\n",
       "    <tr>\n",
       "      <th>5</th>\n",
       "      <td>Acura</td>\n",
       "      <td>3.5 RL w/Navigation 4dr</td>\n",
       "      <td>Sedan</td>\n",
       "      <td>Asia</td>\n",
       "      <td>Front</td>\n",
       "      <td>46100.0</td>\n",
       "      <td>41100.0</td>\n",
       "      <td>3.5</td>\n",
       "      <td>6.0</td>\n",
       "    </tr>\n",
       "    <tr>\n",
       "      <th>6</th>\n",
       "      <td>Acura</td>\n",
       "      <td>NSX coupe 2dr manual S</td>\n",
       "      <td>Sports</td>\n",
       "      <td>Asia</td>\n",
       "      <td>Rear</td>\n",
       "      <td>89765.0</td>\n",
       "      <td>79978.0</td>\n",
       "      <td>3.2</td>\n",
       "      <td>6.0</td>\n",
       "    </tr>\n",
       "    <tr>\n",
       "      <th>17</th>\n",
       "      <td>Audi</td>\n",
       "      <td>A6 4.2 Quattro 4dr</td>\n",
       "      <td>Sedan</td>\n",
       "      <td>Europe</td>\n",
       "      <td>All</td>\n",
       "      <td>49690.0</td>\n",
       "      <td>44936.0</td>\n",
       "      <td>4.2</td>\n",
       "      <td>8.0</td>\n",
       "    </tr>\n",
       "    <tr>\n",
       "      <th>18</th>\n",
       "      <td>Audi</td>\n",
       "      <td>A8 L Quattro 4dr</td>\n",
       "      <td>Sedan</td>\n",
       "      <td>Europe</td>\n",
       "      <td>All</td>\n",
       "      <td>69190.0</td>\n",
       "      <td>64740.0</td>\n",
       "      <td>4.2</td>\n",
       "      <td>8.0</td>\n",
       "    </tr>\n",
       "    <tr>\n",
       "      <th>19</th>\n",
       "      <td>Audi</td>\n",
       "      <td>S4 Quattro 4dr</td>\n",
       "      <td>Sedan</td>\n",
       "      <td>Europe</td>\n",
       "      <td>All</td>\n",
       "      <td>48040.0</td>\n",
       "      <td>43556.0</td>\n",
       "      <td>4.2</td>\n",
       "      <td>8.0</td>\n",
       "    </tr>\n",
       "    <tr>\n",
       "      <th>20</th>\n",
       "      <td>Audi</td>\n",
       "      <td>RS 6 4dr</td>\n",
       "      <td>Sports</td>\n",
       "      <td>Europe</td>\n",
       "      <td>Front</td>\n",
       "      <td>84600.0</td>\n",
       "      <td>76417.0</td>\n",
       "      <td>4.2</td>\n",
       "      <td>8.0</td>\n",
       "    </tr>\n",
       "    <tr>\n",
       "      <th>25</th>\n",
       "      <td>Audi</td>\n",
       "      <td>S4 Avant Quattro</td>\n",
       "      <td>Wagon</td>\n",
       "      <td>Europe</td>\n",
       "      <td>All</td>\n",
       "      <td>49090.0</td>\n",
       "      <td>44446.0</td>\n",
       "      <td>4.2</td>\n",
       "      <td>8.0</td>\n",
       "    </tr>\n",
       "    <tr>\n",
       "      <th>27</th>\n",
       "      <td>BMW</td>\n",
       "      <td>X5 4.4i</td>\n",
       "      <td>SUV</td>\n",
       "      <td>Europe</td>\n",
       "      <td>All</td>\n",
       "      <td>52195.0</td>\n",
       "      <td>47720.0</td>\n",
       "      <td>4.4</td>\n",
       "      <td>8.0</td>\n",
       "    </tr>\n",
       "    <tr>\n",
       "      <th>38</th>\n",
       "      <td>BMW</td>\n",
       "      <td>545iA 4dr</td>\n",
       "      <td>Sedan</td>\n",
       "      <td>Europe</td>\n",
       "      <td>Rear</td>\n",
       "      <td>54995.0</td>\n",
       "      <td>50270.0</td>\n",
       "      <td>4.4</td>\n",
       "      <td>8.0</td>\n",
       "    </tr>\n",
       "    <tr>\n",
       "      <th>39</th>\n",
       "      <td>BMW</td>\n",
       "      <td>745i 4dr</td>\n",
       "      <td>Sedan</td>\n",
       "      <td>Europe</td>\n",
       "      <td>Rear</td>\n",
       "      <td>69195.0</td>\n",
       "      <td>63190.0</td>\n",
       "      <td>4.4</td>\n",
       "      <td>8.0</td>\n",
       "    </tr>\n",
       "    <tr>\n",
       "      <th>40</th>\n",
       "      <td>BMW</td>\n",
       "      <td>745Li 4dr</td>\n",
       "      <td>Sedan</td>\n",
       "      <td>Europe</td>\n",
       "      <td>Rear</td>\n",
       "      <td>73195.0</td>\n",
       "      <td>66830.0</td>\n",
       "      <td>4.4</td>\n",
       "      <td>8.0</td>\n",
       "    </tr>\n",
       "    <tr>\n",
       "      <th>41</th>\n",
       "      <td>BMW</td>\n",
       "      <td>M3 coupe 2dr</td>\n",
       "      <td>Sports</td>\n",
       "      <td>Europe</td>\n",
       "      <td>Rear</td>\n",
       "      <td>48195.0</td>\n",
       "      <td>44170.0</td>\n",
       "      <td>3.2</td>\n",
       "      <td>6.0</td>\n",
       "    </tr>\n",
       "    <tr>\n",
       "      <th>42</th>\n",
       "      <td>BMW</td>\n",
       "      <td>M3 convertible 2dr</td>\n",
       "      <td>Sports</td>\n",
       "      <td>Europe</td>\n",
       "      <td>Rear</td>\n",
       "      <td>56595.0</td>\n",
       "      <td>51815.0</td>\n",
       "      <td>3.2</td>\n",
       "      <td>6.0</td>\n",
       "    </tr>\n",
       "    <tr>\n",
       "      <th>55</th>\n",
       "      <td>Cadillac</td>\n",
       "      <td>Escalade</td>\n",
       "      <td>SUV</td>\n",
       "      <td>USA</td>\n",
       "      <td>Front</td>\n",
       "      <td>52795.0</td>\n",
       "      <td>48377.0</td>\n",
       "      <td>5.3</td>\n",
       "      <td>8.0</td>\n",
       "    </tr>\n",
       "    <tr>\n",
       "      <th>56</th>\n",
       "      <td>Cadillac</td>\n",
       "      <td>SRX V8</td>\n",
       "      <td>SUV</td>\n",
       "      <td>USA</td>\n",
       "      <td>Front</td>\n",
       "      <td>46995.0</td>\n",
       "      <td>43523.0</td>\n",
       "      <td>4.6</td>\n",
       "      <td>8.0</td>\n",
       "    </tr>\n",
       "    <tr>\n",
       "      <th>58</th>\n",
       "      <td>Cadillac</td>\n",
       "      <td>Deville 4dr</td>\n",
       "      <td>Sedan</td>\n",
       "      <td>USA</td>\n",
       "      <td>Front</td>\n",
       "      <td>45445.0</td>\n",
       "      <td>41650.0</td>\n",
       "      <td>4.6</td>\n",
       "      <td>8.0</td>\n",
       "    </tr>\n",
       "    <tr>\n",
       "      <th>59</th>\n",
       "      <td>Cadillac</td>\n",
       "      <td>Deville DTS 4dr</td>\n",
       "      <td>Sedan</td>\n",
       "      <td>USA</td>\n",
       "      <td>Front</td>\n",
       "      <td>50595.0</td>\n",
       "      <td>46362.0</td>\n",
       "      <td>4.6</td>\n",
       "      <td>8.0</td>\n",
       "    </tr>\n",
       "    <tr>\n",
       "      <th>60</th>\n",
       "      <td>Cadillac</td>\n",
       "      <td>Seville SLS 4dr</td>\n",
       "      <td>Sedan</td>\n",
       "      <td>USA</td>\n",
       "      <td>Front</td>\n",
       "      <td>47955.0</td>\n",
       "      <td>43841.0</td>\n",
       "      <td>4.6</td>\n",
       "      <td>8.0</td>\n",
       "    </tr>\n",
       "    <tr>\n",
       "      <th>61</th>\n",
       "      <td>Cadillac</td>\n",
       "      <td>XLR convertible 2dr</td>\n",
       "      <td>Sports</td>\n",
       "      <td>USA</td>\n",
       "      <td>Rear</td>\n",
       "      <td>76200.0</td>\n",
       "      <td>70546.0</td>\n",
       "      <td>4.6</td>\n",
       "      <td>8.0</td>\n",
       "    </tr>\n",
       "    <tr>\n",
       "      <th>62</th>\n",
       "      <td>Cadillac</td>\n",
       "      <td>Escalade EXT</td>\n",
       "      <td>Truck</td>\n",
       "      <td>USA</td>\n",
       "      <td>All</td>\n",
       "      <td>52975.0</td>\n",
       "      <td>48541.0</td>\n",
       "      <td>6.0</td>\n",
       "      <td>8.0</td>\n",
       "    </tr>\n",
       "    <tr>\n",
       "      <th>83</th>\n",
       "      <td>Chevrolet</td>\n",
       "      <td>Corvette convertible 2dr</td>\n",
       "      <td>Sports</td>\n",
       "      <td>USA</td>\n",
       "      <td>Rear</td>\n",
       "      <td>51535.0</td>\n",
       "      <td>45193.0</td>\n",
       "      <td>5.7</td>\n",
       "      <td>8.0</td>\n",
       "    </tr>\n",
       "    <tr>\n",
       "      <th>114</th>\n",
       "      <td>Dodge</td>\n",
       "      <td>Viper SRT-10 convertible 2dr</td>\n",
       "      <td>Sports</td>\n",
       "      <td>USA</td>\n",
       "      <td>Rear</td>\n",
       "      <td>81795.0</td>\n",
       "      <td>74451.0</td>\n",
       "      <td>8.3</td>\n",
       "      <td>10.0</td>\n",
       "    </tr>\n",
       "    <tr>\n",
       "      <th>143</th>\n",
       "      <td>GMC</td>\n",
       "      <td>Yukon XL 2500 SLT</td>\n",
       "      <td>SUV</td>\n",
       "      <td>USA</td>\n",
       "      <td>All</td>\n",
       "      <td>46265.0</td>\n",
       "      <td>40534.0</td>\n",
       "      <td>6.0</td>\n",
       "      <td>8.0</td>\n",
       "    </tr>\n",
       "    <tr>\n",
       "      <th>166</th>\n",
       "      <td>Hummer</td>\n",
       "      <td>H2</td>\n",
       "      <td>SUV</td>\n",
       "      <td>USA</td>\n",
       "      <td>All</td>\n",
       "      <td>49995.0</td>\n",
       "      <td>45815.0</td>\n",
       "      <td>6.0</td>\n",
       "      <td>8.0</td>\n",
       "    </tr>\n",
       "    <tr>\n",
       "      <th>184</th>\n",
       "      <td>Infiniti</td>\n",
       "      <td>Q45 Luxury 4dr</td>\n",
       "      <td>Sedan</td>\n",
       "      <td>Asia</td>\n",
       "      <td>Rear</td>\n",
       "      <td>52545.0</td>\n",
       "      <td>47575.0</td>\n",
       "      <td>4.5</td>\n",
       "      <td>8.0</td>\n",
       "    </tr>\n",
       "    <tr>\n",
       "      <th>192</th>\n",
       "      <td>Jaguar</td>\n",
       "      <td>S-Type 4.2 4dr</td>\n",
       "      <td>Sedan</td>\n",
       "      <td>Europe</td>\n",
       "      <td>Rear</td>\n",
       "      <td>49995.0</td>\n",
       "      <td>45556.0</td>\n",
       "      <td>4.2</td>\n",
       "      <td>8.0</td>\n",
       "    </tr>\n",
       "    <tr>\n",
       "      <th>193</th>\n",
       "      <td>Jaguar</td>\n",
       "      <td>S-Type R 4dr</td>\n",
       "      <td>Sedan</td>\n",
       "      <td>Europe</td>\n",
       "      <td>Rear</td>\n",
       "      <td>63120.0</td>\n",
       "      <td>57499.0</td>\n",
       "      <td>4.2</td>\n",
       "      <td>8.0</td>\n",
       "    </tr>\n",
       "    <tr>\n",
       "      <th>194</th>\n",
       "      <td>Jaguar</td>\n",
       "      <td>Vanden Plas 4dr</td>\n",
       "      <td>Sedan</td>\n",
       "      <td>Europe</td>\n",
       "      <td>Rear</td>\n",
       "      <td>68995.0</td>\n",
       "      <td>62846.0</td>\n",
       "      <td>4.2</td>\n",
       "      <td>8.0</td>\n",
       "    </tr>\n",
       "    <tr>\n",
       "      <th>195</th>\n",
       "      <td>Jaguar</td>\n",
       "      <td>XJ8 4dr</td>\n",
       "      <td>Sedan</td>\n",
       "      <td>Europe</td>\n",
       "      <td>Rear</td>\n",
       "      <td>59995.0</td>\n",
       "      <td>54656.0</td>\n",
       "      <td>4.2</td>\n",
       "      <td>8.0</td>\n",
       "    </tr>\n",
       "    <tr>\n",
       "      <th>196</th>\n",
       "      <td>Jaguar</td>\n",
       "      <td>XJR 4dr</td>\n",
       "      <td>Sedan</td>\n",
       "      <td>Europe</td>\n",
       "      <td>Rear</td>\n",
       "      <td>74995.0</td>\n",
       "      <td>68306.0</td>\n",
       "      <td>4.2</td>\n",
       "      <td>8.0</td>\n",
       "    </tr>\n",
       "    <tr>\n",
       "      <th>...</th>\n",
       "      <td>...</td>\n",
       "      <td>...</td>\n",
       "      <td>...</td>\n",
       "      <td>...</td>\n",
       "      <td>...</td>\n",
       "      <td>...</td>\n",
       "      <td>...</td>\n",
       "      <td>...</td>\n",
       "      <td>...</td>\n",
       "    </tr>\n",
       "    <tr>\n",
       "      <th>227</th>\n",
       "      <td>Lexus</td>\n",
       "      <td>SC 430 convertible 2dr</td>\n",
       "      <td>Sports</td>\n",
       "      <td>Asia</td>\n",
       "      <td>Rear</td>\n",
       "      <td>63200.0</td>\n",
       "      <td>55063.0</td>\n",
       "      <td>4.3</td>\n",
       "      <td>8.0</td>\n",
       "    </tr>\n",
       "    <tr>\n",
       "      <th>229</th>\n",
       "      <td>Lincoln</td>\n",
       "      <td>Navigator Luxury</td>\n",
       "      <td>SUV</td>\n",
       "      <td>USA</td>\n",
       "      <td>All</td>\n",
       "      <td>52775.0</td>\n",
       "      <td>46360.0</td>\n",
       "      <td>5.4</td>\n",
       "      <td>8.0</td>\n",
       "    </tr>\n",
       "    <tr>\n",
       "      <th>237</th>\n",
       "      <td>Lincoln</td>\n",
       "      <td>Town Car Ultimate L 4dr</td>\n",
       "      <td>Sedan</td>\n",
       "      <td>USA</td>\n",
       "      <td>Rear</td>\n",
       "      <td>50470.0</td>\n",
       "      <td>46208.0</td>\n",
       "      <td>4.6</td>\n",
       "      <td>8.0</td>\n",
       "    </tr>\n",
       "    <tr>\n",
       "      <th>251</th>\n",
       "      <td>Mercedes-Benz</td>\n",
       "      <td>G500</td>\n",
       "      <td>SUV</td>\n",
       "      <td>Europe</td>\n",
       "      <td>All</td>\n",
       "      <td>76870.0</td>\n",
       "      <td>71540.0</td>\n",
       "      <td>5.0</td>\n",
       "      <td>8.0</td>\n",
       "    </tr>\n",
       "    <tr>\n",
       "      <th>252</th>\n",
       "      <td>Mercedes-Benz</td>\n",
       "      <td>ML500</td>\n",
       "      <td>SUV</td>\n",
       "      <td>Europe</td>\n",
       "      <td>All</td>\n",
       "      <td>46470.0</td>\n",
       "      <td>43268.0</td>\n",
       "      <td>5.0</td>\n",
       "      <td>8.0</td>\n",
       "    </tr>\n",
       "    <tr>\n",
       "      <th>260</th>\n",
       "      <td>Mercedes-Benz</td>\n",
       "      <td>C32 AMG 4dr</td>\n",
       "      <td>Sedan</td>\n",
       "      <td>Europe</td>\n",
       "      <td>Rear</td>\n",
       "      <td>52120.0</td>\n",
       "      <td>48522.0</td>\n",
       "      <td>3.2</td>\n",
       "      <td>6.0</td>\n",
       "    </tr>\n",
       "    <tr>\n",
       "      <th>261</th>\n",
       "      <td>Mercedes-Benz</td>\n",
       "      <td>CL500 2dr</td>\n",
       "      <td>Sedan</td>\n",
       "      <td>Europe</td>\n",
       "      <td>Rear</td>\n",
       "      <td>94820.0</td>\n",
       "      <td>88324.0</td>\n",
       "      <td>5.0</td>\n",
       "      <td>8.0</td>\n",
       "    </tr>\n",
       "    <tr>\n",
       "      <th>262</th>\n",
       "      <td>Mercedes-Benz</td>\n",
       "      <td>CL600 2dr</td>\n",
       "      <td>Sedan</td>\n",
       "      <td>Europe</td>\n",
       "      <td>Rear</td>\n",
       "      <td>128420.0</td>\n",
       "      <td>119600.0</td>\n",
       "      <td>5.5</td>\n",
       "      <td>12.0</td>\n",
       "    </tr>\n",
       "    <tr>\n",
       "      <th>263</th>\n",
       "      <td>Mercedes-Benz</td>\n",
       "      <td>CLK320 coupe 2dr (convertible)</td>\n",
       "      <td>Sedan</td>\n",
       "      <td>Europe</td>\n",
       "      <td>Rear</td>\n",
       "      <td>45707.0</td>\n",
       "      <td>41966.0</td>\n",
       "      <td>3.2</td>\n",
       "      <td>6.0</td>\n",
       "    </tr>\n",
       "    <tr>\n",
       "      <th>264</th>\n",
       "      <td>Mercedes-Benz</td>\n",
       "      <td>CLK500 coupe 2dr (convertible)</td>\n",
       "      <td>Sedan</td>\n",
       "      <td>Europe</td>\n",
       "      <td>Rear</td>\n",
       "      <td>52800.0</td>\n",
       "      <td>49104.0</td>\n",
       "      <td>5.0</td>\n",
       "      <td>8.0</td>\n",
       "    </tr>\n",
       "    <tr>\n",
       "      <th>265</th>\n",
       "      <td>Mercedes-Benz</td>\n",
       "      <td>E320 4dr</td>\n",
       "      <td>Sedan</td>\n",
       "      <td>Europe</td>\n",
       "      <td>Rear</td>\n",
       "      <td>48170.0</td>\n",
       "      <td>44849.0</td>\n",
       "      <td>3.2</td>\n",
       "      <td>6.0</td>\n",
       "    </tr>\n",
       "    <tr>\n",
       "      <th>266</th>\n",
       "      <td>Mercedes-Benz</td>\n",
       "      <td>E500 4dr</td>\n",
       "      <td>Sedan</td>\n",
       "      <td>Europe</td>\n",
       "      <td>Rear</td>\n",
       "      <td>57270.0</td>\n",
       "      <td>53382.0</td>\n",
       "      <td>5.0</td>\n",
       "      <td>8.0</td>\n",
       "    </tr>\n",
       "    <tr>\n",
       "      <th>267</th>\n",
       "      <td>Mercedes-Benz</td>\n",
       "      <td>S430 4dr</td>\n",
       "      <td>Sedan</td>\n",
       "      <td>Europe</td>\n",
       "      <td>Rear</td>\n",
       "      <td>74320.0</td>\n",
       "      <td>69168.0</td>\n",
       "      <td>4.3</td>\n",
       "      <td>8.0</td>\n",
       "    </tr>\n",
       "    <tr>\n",
       "      <th>268</th>\n",
       "      <td>Mercedes-Benz</td>\n",
       "      <td>S500 4dr</td>\n",
       "      <td>Sedan</td>\n",
       "      <td>Europe</td>\n",
       "      <td>All</td>\n",
       "      <td>86970.0</td>\n",
       "      <td>80939.0</td>\n",
       "      <td>5.0</td>\n",
       "      <td>8.0</td>\n",
       "    </tr>\n",
       "    <tr>\n",
       "      <th>269</th>\n",
       "      <td>Mercedes-Benz</td>\n",
       "      <td>SL500 convertible 2dr</td>\n",
       "      <td>Sports</td>\n",
       "      <td>Europe</td>\n",
       "      <td>Rear</td>\n",
       "      <td>90520.0</td>\n",
       "      <td>84325.0</td>\n",
       "      <td>5.0</td>\n",
       "      <td>8.0</td>\n",
       "    </tr>\n",
       "    <tr>\n",
       "      <th>270</th>\n",
       "      <td>Mercedes-Benz</td>\n",
       "      <td>SL55 AMG 2dr</td>\n",
       "      <td>Sports</td>\n",
       "      <td>Europe</td>\n",
       "      <td>Rear</td>\n",
       "      <td>121770.0</td>\n",
       "      <td>113388.0</td>\n",
       "      <td>5.5</td>\n",
       "      <td>8.0</td>\n",
       "    </tr>\n",
       "    <tr>\n",
       "      <th>271</th>\n",
       "      <td>Mercedes-Benz</td>\n",
       "      <td>SL600 convertible 2dr</td>\n",
       "      <td>Sports</td>\n",
       "      <td>Europe</td>\n",
       "      <td>Rear</td>\n",
       "      <td>126670.0</td>\n",
       "      <td>117854.0</td>\n",
       "      <td>5.5</td>\n",
       "      <td>12.0</td>\n",
       "    </tr>\n",
       "    <tr>\n",
       "      <th>273</th>\n",
       "      <td>Mercedes-Benz</td>\n",
       "      <td>SLK32 AMG 2dr</td>\n",
       "      <td>Sports</td>\n",
       "      <td>Europe</td>\n",
       "      <td>Rear</td>\n",
       "      <td>56170.0</td>\n",
       "      <td>52289.0</td>\n",
       "      <td>3.2</td>\n",
       "      <td>6.0</td>\n",
       "    </tr>\n",
       "    <tr>\n",
       "      <th>275</th>\n",
       "      <td>Mercedes-Benz</td>\n",
       "      <td>E320</td>\n",
       "      <td>Wagon</td>\n",
       "      <td>Europe</td>\n",
       "      <td>Rear</td>\n",
       "      <td>50670.0</td>\n",
       "      <td>47174.0</td>\n",
       "      <td>3.2</td>\n",
       "      <td>6.0</td>\n",
       "    </tr>\n",
       "    <tr>\n",
       "      <th>276</th>\n",
       "      <td>Mercedes-Benz</td>\n",
       "      <td>E500</td>\n",
       "      <td>Wagon</td>\n",
       "      <td>Europe</td>\n",
       "      <td>All</td>\n",
       "      <td>60670.0</td>\n",
       "      <td>56474.0</td>\n",
       "      <td>5.0</td>\n",
       "      <td>8.0</td>\n",
       "    </tr>\n",
       "    <tr>\n",
       "      <th>330</th>\n",
       "      <td>Porsche</td>\n",
       "      <td>Cayenne S</td>\n",
       "      <td>SUV</td>\n",
       "      <td>Europe</td>\n",
       "      <td>All</td>\n",
       "      <td>56665.0</td>\n",
       "      <td>49865.0</td>\n",
       "      <td>4.5</td>\n",
       "      <td>8.0</td>\n",
       "    </tr>\n",
       "    <tr>\n",
       "      <th>331</th>\n",
       "      <td>Porsche</td>\n",
       "      <td>911 Carrera convertible 2dr (coupe)</td>\n",
       "      <td>Sports</td>\n",
       "      <td>Europe</td>\n",
       "      <td>Rear</td>\n",
       "      <td>79165.0</td>\n",
       "      <td>69229.0</td>\n",
       "      <td>3.6</td>\n",
       "      <td>6.0</td>\n",
       "    </tr>\n",
       "    <tr>\n",
       "      <th>332</th>\n",
       "      <td>Porsche</td>\n",
       "      <td>911 Carrera 4S coupe 2dr (convert)</td>\n",
       "      <td>Sports</td>\n",
       "      <td>Europe</td>\n",
       "      <td>All</td>\n",
       "      <td>84165.0</td>\n",
       "      <td>72206.0</td>\n",
       "      <td>3.6</td>\n",
       "      <td>6.0</td>\n",
       "    </tr>\n",
       "    <tr>\n",
       "      <th>333</th>\n",
       "      <td>Porsche</td>\n",
       "      <td>911 Targa coupe 2dr</td>\n",
       "      <td>Sports</td>\n",
       "      <td>Europe</td>\n",
       "      <td>Rear</td>\n",
       "      <td>76765.0</td>\n",
       "      <td>67128.0</td>\n",
       "      <td>3.6</td>\n",
       "      <td>6.0</td>\n",
       "    </tr>\n",
       "    <tr>\n",
       "      <th>334</th>\n",
       "      <td>Porsche</td>\n",
       "      <td>911 GT2 2dr</td>\n",
       "      <td>Sports</td>\n",
       "      <td>Europe</td>\n",
       "      <td>Rear</td>\n",
       "      <td>192465.0</td>\n",
       "      <td>173560.0</td>\n",
       "      <td>3.6</td>\n",
       "      <td>6.0</td>\n",
       "    </tr>\n",
       "    <tr>\n",
       "      <th>336</th>\n",
       "      <td>Porsche</td>\n",
       "      <td>Boxster S convertible 2dr</td>\n",
       "      <td>Sports</td>\n",
       "      <td>Europe</td>\n",
       "      <td>Rear</td>\n",
       "      <td>52365.0</td>\n",
       "      <td>45766.0</td>\n",
       "      <td>3.2</td>\n",
       "      <td>6.0</td>\n",
       "    </tr>\n",
       "    <tr>\n",
       "      <th>377</th>\n",
       "      <td>Toyota</td>\n",
       "      <td>Land Cruiser</td>\n",
       "      <td>SUV</td>\n",
       "      <td>Asia</td>\n",
       "      <td>All</td>\n",
       "      <td>54765.0</td>\n",
       "      <td>47986.0</td>\n",
       "      <td>4.7</td>\n",
       "      <td>8.0</td>\n",
       "    </tr>\n",
       "    <tr>\n",
       "      <th>411</th>\n",
       "      <td>Volkswagen</td>\n",
       "      <td>Phaeton 4dr</td>\n",
       "      <td>Sedan</td>\n",
       "      <td>Europe</td>\n",
       "      <td>Front</td>\n",
       "      <td>65000.0</td>\n",
       "      <td>59912.0</td>\n",
       "      <td>4.2</td>\n",
       "      <td>8.0</td>\n",
       "    </tr>\n",
       "    <tr>\n",
       "      <th>412</th>\n",
       "      <td>Volkswagen</td>\n",
       "      <td>Phaeton W12 4dr</td>\n",
       "      <td>Sedan</td>\n",
       "      <td>Europe</td>\n",
       "      <td>Front</td>\n",
       "      <td>75000.0</td>\n",
       "      <td>69130.0</td>\n",
       "      <td>6.0</td>\n",
       "      <td>12.0</td>\n",
       "    </tr>\n",
       "    <tr>\n",
       "      <th>425</th>\n",
       "      <td>Volvo</td>\n",
       "      <td>S80 T6 4dr</td>\n",
       "      <td>Sedan</td>\n",
       "      <td>Europe</td>\n",
       "      <td>Front</td>\n",
       "      <td>45210.0</td>\n",
       "      <td>42573.0</td>\n",
       "      <td>2.9</td>\n",
       "      <td>6.0</td>\n",
       "    </tr>\n",
       "  </tbody>\n",
       "</table>\n",
       "<p>69 rows × 9 columns</p>\n",
       "</div>"
      ],
      "text/plain": [
       "              Make                                 Model    Type  Origin  \\\n",
       "5            Acura               3.5 RL w/Navigation 4dr   Sedan    Asia   \n",
       "6            Acura                NSX coupe 2dr manual S  Sports    Asia   \n",
       "17            Audi                    A6 4.2 Quattro 4dr   Sedan  Europe   \n",
       "18            Audi                      A8 L Quattro 4dr   Sedan  Europe   \n",
       "19            Audi                        S4 Quattro 4dr   Sedan  Europe   \n",
       "20            Audi                              RS 6 4dr  Sports  Europe   \n",
       "25            Audi                      S4 Avant Quattro   Wagon  Europe   \n",
       "27             BMW                               X5 4.4i     SUV  Europe   \n",
       "38             BMW                             545iA 4dr   Sedan  Europe   \n",
       "39             BMW                              745i 4dr   Sedan  Europe   \n",
       "40             BMW                             745Li 4dr   Sedan  Europe   \n",
       "41             BMW                          M3 coupe 2dr  Sports  Europe   \n",
       "42             BMW                    M3 convertible 2dr  Sports  Europe   \n",
       "55        Cadillac                              Escalade     SUV     USA   \n",
       "56        Cadillac                                SRX V8     SUV     USA   \n",
       "58        Cadillac                           Deville 4dr   Sedan     USA   \n",
       "59        Cadillac                       Deville DTS 4dr   Sedan     USA   \n",
       "60        Cadillac                       Seville SLS 4dr   Sedan     USA   \n",
       "61        Cadillac                   XLR convertible 2dr  Sports     USA   \n",
       "62        Cadillac                          Escalade EXT   Truck     USA   \n",
       "83       Chevrolet              Corvette convertible 2dr  Sports     USA   \n",
       "114          Dodge          Viper SRT-10 convertible 2dr  Sports     USA   \n",
       "143            GMC                     Yukon XL 2500 SLT     SUV     USA   \n",
       "166         Hummer                                    H2     SUV     USA   \n",
       "184       Infiniti                        Q45 Luxury 4dr   Sedan    Asia   \n",
       "192         Jaguar                        S-Type 4.2 4dr   Sedan  Europe   \n",
       "193         Jaguar                          S-Type R 4dr   Sedan  Europe   \n",
       "194         Jaguar                       Vanden Plas 4dr   Sedan  Europe   \n",
       "195         Jaguar                               XJ8 4dr   Sedan  Europe   \n",
       "196         Jaguar                               XJR 4dr   Sedan  Europe   \n",
       "..             ...                                   ...     ...     ...   \n",
       "227          Lexus                SC 430 convertible 2dr  Sports    Asia   \n",
       "229        Lincoln                      Navigator Luxury     SUV     USA   \n",
       "237        Lincoln               Town Car Ultimate L 4dr   Sedan     USA   \n",
       "251  Mercedes-Benz                                  G500     SUV  Europe   \n",
       "252  Mercedes-Benz                                 ML500     SUV  Europe   \n",
       "260  Mercedes-Benz                           C32 AMG 4dr   Sedan  Europe   \n",
       "261  Mercedes-Benz                             CL500 2dr   Sedan  Europe   \n",
       "262  Mercedes-Benz                             CL600 2dr   Sedan  Europe   \n",
       "263  Mercedes-Benz        CLK320 coupe 2dr (convertible)   Sedan  Europe   \n",
       "264  Mercedes-Benz        CLK500 coupe 2dr (convertible)   Sedan  Europe   \n",
       "265  Mercedes-Benz                              E320 4dr   Sedan  Europe   \n",
       "266  Mercedes-Benz                              E500 4dr   Sedan  Europe   \n",
       "267  Mercedes-Benz                              S430 4dr   Sedan  Europe   \n",
       "268  Mercedes-Benz                              S500 4dr   Sedan  Europe   \n",
       "269  Mercedes-Benz                 SL500 convertible 2dr  Sports  Europe   \n",
       "270  Mercedes-Benz                          SL55 AMG 2dr  Sports  Europe   \n",
       "271  Mercedes-Benz                 SL600 convertible 2dr  Sports  Europe   \n",
       "273  Mercedes-Benz                         SLK32 AMG 2dr  Sports  Europe   \n",
       "275  Mercedes-Benz                                  E320   Wagon  Europe   \n",
       "276  Mercedes-Benz                                  E500   Wagon  Europe   \n",
       "330        Porsche                             Cayenne S     SUV  Europe   \n",
       "331        Porsche   911 Carrera convertible 2dr (coupe)  Sports  Europe   \n",
       "332        Porsche    911 Carrera 4S coupe 2dr (convert)  Sports  Europe   \n",
       "333        Porsche                   911 Targa coupe 2dr  Sports  Europe   \n",
       "334        Porsche                           911 GT2 2dr  Sports  Europe   \n",
       "336        Porsche             Boxster S convertible 2dr  Sports  Europe   \n",
       "377         Toyota                          Land Cruiser     SUV    Asia   \n",
       "411     Volkswagen                           Phaeton 4dr   Sedan  Europe   \n",
       "412     Volkswagen                       Phaeton W12 4dr   Sedan  Europe   \n",
       "425          Volvo                            S80 T6 4dr   Sedan  Europe   \n",
       "\n",
       "    DriveTrain      MSRP   Invoice  EngineSize  Cylinders  \n",
       "5        Front   46100.0   41100.0         3.5        6.0  \n",
       "6         Rear   89765.0   79978.0         3.2        6.0  \n",
       "17         All   49690.0   44936.0         4.2        8.0  \n",
       "18         All   69190.0   64740.0         4.2        8.0  \n",
       "19         All   48040.0   43556.0         4.2        8.0  \n",
       "20       Front   84600.0   76417.0         4.2        8.0  \n",
       "25         All   49090.0   44446.0         4.2        8.0  \n",
       "27         All   52195.0   47720.0         4.4        8.0  \n",
       "38        Rear   54995.0   50270.0         4.4        8.0  \n",
       "39        Rear   69195.0   63190.0         4.4        8.0  \n",
       "40        Rear   73195.0   66830.0         4.4        8.0  \n",
       "41        Rear   48195.0   44170.0         3.2        6.0  \n",
       "42        Rear   56595.0   51815.0         3.2        6.0  \n",
       "55       Front   52795.0   48377.0         5.3        8.0  \n",
       "56       Front   46995.0   43523.0         4.6        8.0  \n",
       "58       Front   45445.0   41650.0         4.6        8.0  \n",
       "59       Front   50595.0   46362.0         4.6        8.0  \n",
       "60       Front   47955.0   43841.0         4.6        8.0  \n",
       "61        Rear   76200.0   70546.0         4.6        8.0  \n",
       "62         All   52975.0   48541.0         6.0        8.0  \n",
       "83        Rear   51535.0   45193.0         5.7        8.0  \n",
       "114       Rear   81795.0   74451.0         8.3       10.0  \n",
       "143        All   46265.0   40534.0         6.0        8.0  \n",
       "166        All   49995.0   45815.0         6.0        8.0  \n",
       "184       Rear   52545.0   47575.0         4.5        8.0  \n",
       "192       Rear   49995.0   45556.0         4.2        8.0  \n",
       "193       Rear   63120.0   57499.0         4.2        8.0  \n",
       "194       Rear   68995.0   62846.0         4.2        8.0  \n",
       "195       Rear   59995.0   54656.0         4.2        8.0  \n",
       "196       Rear   74995.0   68306.0         4.2        8.0  \n",
       "..         ...       ...       ...         ...        ...  \n",
       "227       Rear   63200.0   55063.0         4.3        8.0  \n",
       "229        All   52775.0   46360.0         5.4        8.0  \n",
       "237       Rear   50470.0   46208.0         4.6        8.0  \n",
       "251        All   76870.0   71540.0         5.0        8.0  \n",
       "252        All   46470.0   43268.0         5.0        8.0  \n",
       "260       Rear   52120.0   48522.0         3.2        6.0  \n",
       "261       Rear   94820.0   88324.0         5.0        8.0  \n",
       "262       Rear  128420.0  119600.0         5.5       12.0  \n",
       "263       Rear   45707.0   41966.0         3.2        6.0  \n",
       "264       Rear   52800.0   49104.0         5.0        8.0  \n",
       "265       Rear   48170.0   44849.0         3.2        6.0  \n",
       "266       Rear   57270.0   53382.0         5.0        8.0  \n",
       "267       Rear   74320.0   69168.0         4.3        8.0  \n",
       "268        All   86970.0   80939.0         5.0        8.0  \n",
       "269       Rear   90520.0   84325.0         5.0        8.0  \n",
       "270       Rear  121770.0  113388.0         5.5        8.0  \n",
       "271       Rear  126670.0  117854.0         5.5       12.0  \n",
       "273       Rear   56170.0   52289.0         3.2        6.0  \n",
       "275       Rear   50670.0   47174.0         3.2        6.0  \n",
       "276        All   60670.0   56474.0         5.0        8.0  \n",
       "330        All   56665.0   49865.0         4.5        8.0  \n",
       "331       Rear   79165.0   69229.0         3.6        6.0  \n",
       "332        All   84165.0   72206.0         3.6        6.0  \n",
       "333       Rear   76765.0   67128.0         3.6        6.0  \n",
       "334       Rear  192465.0  173560.0         3.6        6.0  \n",
       "336       Rear   52365.0   45766.0         3.2        6.0  \n",
       "377        All   54765.0   47986.0         4.7        8.0  \n",
       "411      Front   65000.0   59912.0         4.2        8.0  \n",
       "412      Front   75000.0   69130.0         6.0       12.0  \n",
       "425      Front   45210.0   42573.0         2.9        6.0  \n",
       "\n",
       "[69 rows x 9 columns]"
      ]
     },
     "execution_count": 289,
     "metadata": {},
     "output_type": "execute_result"
    }
   ],
   "source": [
    "car.loc[car.MSRP >= 45000 , 'Make' : 'Cylinders']"
   ]
  },
  {
   "cell_type": "markdown",
   "metadata": {},
   "source": [
    "## get the data MSRP > 45000 for BMW cars "
   ]
  },
  {
   "cell_type": "code",
   "execution_count": 291,
   "metadata": {},
   "outputs": [
    {
     "data": {
      "text/html": [
       "<div>\n",
       "<style scoped>\n",
       "    .dataframe tbody tr th:only-of-type {\n",
       "        vertical-align: middle;\n",
       "    }\n",
       "\n",
       "    .dataframe tbody tr th {\n",
       "        vertical-align: top;\n",
       "    }\n",
       "\n",
       "    .dataframe thead th {\n",
       "        text-align: right;\n",
       "    }\n",
       "</style>\n",
       "<table border=\"1\" class=\"dataframe\">\n",
       "  <thead>\n",
       "    <tr style=\"text-align: right;\">\n",
       "      <th></th>\n",
       "      <th>Make</th>\n",
       "      <th>Model</th>\n",
       "      <th>Type</th>\n",
       "      <th>Origin</th>\n",
       "      <th>DriveTrain</th>\n",
       "      <th>MSRP</th>\n",
       "      <th>Invoice</th>\n",
       "      <th>EngineSize</th>\n",
       "      <th>Cylinders</th>\n",
       "    </tr>\n",
       "  </thead>\n",
       "  <tbody>\n",
       "    <tr>\n",
       "      <th>27</th>\n",
       "      <td>BMW</td>\n",
       "      <td>X5 4.4i</td>\n",
       "      <td>SUV</td>\n",
       "      <td>Europe</td>\n",
       "      <td>All</td>\n",
       "      <td>52195.0</td>\n",
       "      <td>47720.0</td>\n",
       "      <td>4.4</td>\n",
       "      <td>8.0</td>\n",
       "    </tr>\n",
       "    <tr>\n",
       "      <th>38</th>\n",
       "      <td>BMW</td>\n",
       "      <td>545iA 4dr</td>\n",
       "      <td>Sedan</td>\n",
       "      <td>Europe</td>\n",
       "      <td>Rear</td>\n",
       "      <td>54995.0</td>\n",
       "      <td>50270.0</td>\n",
       "      <td>4.4</td>\n",
       "      <td>8.0</td>\n",
       "    </tr>\n",
       "    <tr>\n",
       "      <th>39</th>\n",
       "      <td>BMW</td>\n",
       "      <td>745i 4dr</td>\n",
       "      <td>Sedan</td>\n",
       "      <td>Europe</td>\n",
       "      <td>Rear</td>\n",
       "      <td>69195.0</td>\n",
       "      <td>63190.0</td>\n",
       "      <td>4.4</td>\n",
       "      <td>8.0</td>\n",
       "    </tr>\n",
       "    <tr>\n",
       "      <th>40</th>\n",
       "      <td>BMW</td>\n",
       "      <td>745Li 4dr</td>\n",
       "      <td>Sedan</td>\n",
       "      <td>Europe</td>\n",
       "      <td>Rear</td>\n",
       "      <td>73195.0</td>\n",
       "      <td>66830.0</td>\n",
       "      <td>4.4</td>\n",
       "      <td>8.0</td>\n",
       "    </tr>\n",
       "    <tr>\n",
       "      <th>41</th>\n",
       "      <td>BMW</td>\n",
       "      <td>M3 coupe 2dr</td>\n",
       "      <td>Sports</td>\n",
       "      <td>Europe</td>\n",
       "      <td>Rear</td>\n",
       "      <td>48195.0</td>\n",
       "      <td>44170.0</td>\n",
       "      <td>3.2</td>\n",
       "      <td>6.0</td>\n",
       "    </tr>\n",
       "    <tr>\n",
       "      <th>42</th>\n",
       "      <td>BMW</td>\n",
       "      <td>M3 convertible 2dr</td>\n",
       "      <td>Sports</td>\n",
       "      <td>Europe</td>\n",
       "      <td>Rear</td>\n",
       "      <td>56595.0</td>\n",
       "      <td>51815.0</td>\n",
       "      <td>3.2</td>\n",
       "      <td>6.0</td>\n",
       "    </tr>\n",
       "  </tbody>\n",
       "</table>\n",
       "</div>"
      ],
      "text/plain": [
       "   Make                Model    Type  Origin DriveTrain     MSRP  Invoice  \\\n",
       "27  BMW              X5 4.4i     SUV  Europe        All  52195.0  47720.0   \n",
       "38  BMW            545iA 4dr   Sedan  Europe       Rear  54995.0  50270.0   \n",
       "39  BMW             745i 4dr   Sedan  Europe       Rear  69195.0  63190.0   \n",
       "40  BMW            745Li 4dr   Sedan  Europe       Rear  73195.0  66830.0   \n",
       "41  BMW         M3 coupe 2dr  Sports  Europe       Rear  48195.0  44170.0   \n",
       "42  BMW   M3 convertible 2dr  Sports  Europe       Rear  56595.0  51815.0   \n",
       "\n",
       "    EngineSize  Cylinders  \n",
       "27         4.4        8.0  \n",
       "38         4.4        8.0  \n",
       "39         4.4        8.0  \n",
       "40         4.4        8.0  \n",
       "41         3.2        6.0  \n",
       "42         3.2        6.0  "
      ]
     },
     "execution_count": 291,
     "metadata": {},
     "output_type": "execute_result"
    }
   ],
   "source": [
    "car.loc[(car.MSRP >= 45000) & (car.Make == 'BMW') , 'Make' : 'Cylinders']"
   ]
  },
  {
   "cell_type": "markdown",
   "metadata": {},
   "source": [
    "## get the data for Audi and BMW and Honda"
   ]
  },
  {
   "cell_type": "code",
   "execution_count": 298,
   "metadata": {},
   "outputs": [
    {
     "data": {
      "text/html": [
       "<div>\n",
       "<style scoped>\n",
       "    .dataframe tbody tr th:only-of-type {\n",
       "        vertical-align: middle;\n",
       "    }\n",
       "\n",
       "    .dataframe tbody tr th {\n",
       "        vertical-align: top;\n",
       "    }\n",
       "\n",
       "    .dataframe thead th {\n",
       "        text-align: right;\n",
       "    }\n",
       "</style>\n",
       "<table border=\"1\" class=\"dataframe\">\n",
       "  <thead>\n",
       "    <tr style=\"text-align: right;\">\n",
       "      <th></th>\n",
       "      <th>Make</th>\n",
       "      <th>Model</th>\n",
       "      <th>Type</th>\n",
       "      <th>Origin</th>\n",
       "      <th>DriveTrain</th>\n",
       "      <th>MSRP</th>\n",
       "      <th>Invoice</th>\n",
       "      <th>EngineSize</th>\n",
       "      <th>Cylinders</th>\n",
       "      <th>Horsepower</th>\n",
       "      <th>MPG_City</th>\n",
       "      <th>MPG_Highway</th>\n",
       "      <th>Weight</th>\n",
       "      <th>Wheelbase</th>\n",
       "      <th>Length</th>\n",
       "    </tr>\n",
       "  </thead>\n",
       "  <tbody>\n",
       "    <tr>\n",
       "      <th>17</th>\n",
       "      <td>Audi</td>\n",
       "      <td>A6 4.2 Quattro 4dr</td>\n",
       "      <td>Sedan</td>\n",
       "      <td>Europe</td>\n",
       "      <td>All</td>\n",
       "      <td>49690.0</td>\n",
       "      <td>44936.0</td>\n",
       "      <td>4.2</td>\n",
       "      <td>8.0</td>\n",
       "      <td>300.0</td>\n",
       "      <td>17.0</td>\n",
       "      <td>24.0</td>\n",
       "      <td>4024.0</td>\n",
       "      <td>109.0</td>\n",
       "      <td>193.0</td>\n",
       "    </tr>\n",
       "    <tr>\n",
       "      <th>18</th>\n",
       "      <td>Audi</td>\n",
       "      <td>A8 L Quattro 4dr</td>\n",
       "      <td>Sedan</td>\n",
       "      <td>Europe</td>\n",
       "      <td>All</td>\n",
       "      <td>69190.0</td>\n",
       "      <td>64740.0</td>\n",
       "      <td>4.2</td>\n",
       "      <td>8.0</td>\n",
       "      <td>330.0</td>\n",
       "      <td>17.0</td>\n",
       "      <td>24.0</td>\n",
       "      <td>4399.0</td>\n",
       "      <td>121.0</td>\n",
       "      <td>204.0</td>\n",
       "    </tr>\n",
       "    <tr>\n",
       "      <th>19</th>\n",
       "      <td>Audi</td>\n",
       "      <td>S4 Quattro 4dr</td>\n",
       "      <td>Sedan</td>\n",
       "      <td>Europe</td>\n",
       "      <td>All</td>\n",
       "      <td>48040.0</td>\n",
       "      <td>43556.0</td>\n",
       "      <td>4.2</td>\n",
       "      <td>8.0</td>\n",
       "      <td>340.0</td>\n",
       "      <td>14.0</td>\n",
       "      <td>20.0</td>\n",
       "      <td>3825.0</td>\n",
       "      <td>104.0</td>\n",
       "      <td>179.0</td>\n",
       "    </tr>\n",
       "    <tr>\n",
       "      <th>20</th>\n",
       "      <td>Audi</td>\n",
       "      <td>RS 6 4dr</td>\n",
       "      <td>Sports</td>\n",
       "      <td>Europe</td>\n",
       "      <td>Front</td>\n",
       "      <td>84600.0</td>\n",
       "      <td>76417.0</td>\n",
       "      <td>4.2</td>\n",
       "      <td>8.0</td>\n",
       "      <td>450.0</td>\n",
       "      <td>15.0</td>\n",
       "      <td>22.0</td>\n",
       "      <td>4024.0</td>\n",
       "      <td>109.0</td>\n",
       "      <td>191.0</td>\n",
       "    </tr>\n",
       "    <tr>\n",
       "      <th>25</th>\n",
       "      <td>Audi</td>\n",
       "      <td>S4 Avant Quattro</td>\n",
       "      <td>Wagon</td>\n",
       "      <td>Europe</td>\n",
       "      <td>All</td>\n",
       "      <td>49090.0</td>\n",
       "      <td>44446.0</td>\n",
       "      <td>4.2</td>\n",
       "      <td>8.0</td>\n",
       "      <td>340.0</td>\n",
       "      <td>15.0</td>\n",
       "      <td>21.0</td>\n",
       "      <td>3936.0</td>\n",
       "      <td>104.0</td>\n",
       "      <td>179.0</td>\n",
       "    </tr>\n",
       "    <tr>\n",
       "      <th>27</th>\n",
       "      <td>BMW</td>\n",
       "      <td>X5 4.4i</td>\n",
       "      <td>SUV</td>\n",
       "      <td>Europe</td>\n",
       "      <td>All</td>\n",
       "      <td>52195.0</td>\n",
       "      <td>47720.0</td>\n",
       "      <td>4.4</td>\n",
       "      <td>8.0</td>\n",
       "      <td>325.0</td>\n",
       "      <td>16.0</td>\n",
       "      <td>22.0</td>\n",
       "      <td>4824.0</td>\n",
       "      <td>111.0</td>\n",
       "      <td>184.0</td>\n",
       "    </tr>\n",
       "    <tr>\n",
       "      <th>38</th>\n",
       "      <td>BMW</td>\n",
       "      <td>545iA 4dr</td>\n",
       "      <td>Sedan</td>\n",
       "      <td>Europe</td>\n",
       "      <td>Rear</td>\n",
       "      <td>54995.0</td>\n",
       "      <td>50270.0</td>\n",
       "      <td>4.4</td>\n",
       "      <td>8.0</td>\n",
       "      <td>325.0</td>\n",
       "      <td>18.0</td>\n",
       "      <td>26.0</td>\n",
       "      <td>3814.0</td>\n",
       "      <td>114.0</td>\n",
       "      <td>191.0</td>\n",
       "    </tr>\n",
       "    <tr>\n",
       "      <th>39</th>\n",
       "      <td>BMW</td>\n",
       "      <td>745i 4dr</td>\n",
       "      <td>Sedan</td>\n",
       "      <td>Europe</td>\n",
       "      <td>Rear</td>\n",
       "      <td>69195.0</td>\n",
       "      <td>63190.0</td>\n",
       "      <td>4.4</td>\n",
       "      <td>8.0</td>\n",
       "      <td>325.0</td>\n",
       "      <td>18.0</td>\n",
       "      <td>26.0</td>\n",
       "      <td>4376.0</td>\n",
       "      <td>118.0</td>\n",
       "      <td>198.0</td>\n",
       "    </tr>\n",
       "    <tr>\n",
       "      <th>40</th>\n",
       "      <td>BMW</td>\n",
       "      <td>745Li 4dr</td>\n",
       "      <td>Sedan</td>\n",
       "      <td>Europe</td>\n",
       "      <td>Rear</td>\n",
       "      <td>73195.0</td>\n",
       "      <td>66830.0</td>\n",
       "      <td>4.4</td>\n",
       "      <td>8.0</td>\n",
       "      <td>325.0</td>\n",
       "      <td>18.0</td>\n",
       "      <td>26.0</td>\n",
       "      <td>4464.0</td>\n",
       "      <td>123.0</td>\n",
       "      <td>204.0</td>\n",
       "    </tr>\n",
       "    <tr>\n",
       "      <th>41</th>\n",
       "      <td>BMW</td>\n",
       "      <td>M3 coupe 2dr</td>\n",
       "      <td>Sports</td>\n",
       "      <td>Europe</td>\n",
       "      <td>Rear</td>\n",
       "      <td>48195.0</td>\n",
       "      <td>44170.0</td>\n",
       "      <td>3.2</td>\n",
       "      <td>6.0</td>\n",
       "      <td>333.0</td>\n",
       "      <td>16.0</td>\n",
       "      <td>24.0</td>\n",
       "      <td>3415.0</td>\n",
       "      <td>108.0</td>\n",
       "      <td>177.0</td>\n",
       "    </tr>\n",
       "    <tr>\n",
       "      <th>42</th>\n",
       "      <td>BMW</td>\n",
       "      <td>M3 convertible 2dr</td>\n",
       "      <td>Sports</td>\n",
       "      <td>Europe</td>\n",
       "      <td>Rear</td>\n",
       "      <td>56595.0</td>\n",
       "      <td>51815.0</td>\n",
       "      <td>3.2</td>\n",
       "      <td>6.0</td>\n",
       "      <td>333.0</td>\n",
       "      <td>16.0</td>\n",
       "      <td>23.0</td>\n",
       "      <td>3781.0</td>\n",
       "      <td>108.0</td>\n",
       "      <td>177.0</td>\n",
       "    </tr>\n",
       "  </tbody>\n",
       "</table>\n",
       "</div>"
      ],
      "text/plain": [
       "    Make                Model    Type  Origin DriveTrain     MSRP  Invoice  \\\n",
       "17  Audi   A6 4.2 Quattro 4dr   Sedan  Europe        All  49690.0  44936.0   \n",
       "18  Audi     A8 L Quattro 4dr   Sedan  Europe        All  69190.0  64740.0   \n",
       "19  Audi       S4 Quattro 4dr   Sedan  Europe        All  48040.0  43556.0   \n",
       "20  Audi             RS 6 4dr  Sports  Europe      Front  84600.0  76417.0   \n",
       "25  Audi     S4 Avant Quattro   Wagon  Europe        All  49090.0  44446.0   \n",
       "27   BMW              X5 4.4i     SUV  Europe        All  52195.0  47720.0   \n",
       "38   BMW            545iA 4dr   Sedan  Europe       Rear  54995.0  50270.0   \n",
       "39   BMW             745i 4dr   Sedan  Europe       Rear  69195.0  63190.0   \n",
       "40   BMW            745Li 4dr   Sedan  Europe       Rear  73195.0  66830.0   \n",
       "41   BMW         M3 coupe 2dr  Sports  Europe       Rear  48195.0  44170.0   \n",
       "42   BMW   M3 convertible 2dr  Sports  Europe       Rear  56595.0  51815.0   \n",
       "\n",
       "    EngineSize  Cylinders  Horsepower  MPG_City  MPG_Highway  Weight  \\\n",
       "17         4.2        8.0       300.0      17.0         24.0  4024.0   \n",
       "18         4.2        8.0       330.0      17.0         24.0  4399.0   \n",
       "19         4.2        8.0       340.0      14.0         20.0  3825.0   \n",
       "20         4.2        8.0       450.0      15.0         22.0  4024.0   \n",
       "25         4.2        8.0       340.0      15.0         21.0  3936.0   \n",
       "27         4.4        8.0       325.0      16.0         22.0  4824.0   \n",
       "38         4.4        8.0       325.0      18.0         26.0  3814.0   \n",
       "39         4.4        8.0       325.0      18.0         26.0  4376.0   \n",
       "40         4.4        8.0       325.0      18.0         26.0  4464.0   \n",
       "41         3.2        6.0       333.0      16.0         24.0  3415.0   \n",
       "42         3.2        6.0       333.0      16.0         23.0  3781.0   \n",
       "\n",
       "    Wheelbase  Length  \n",
       "17      109.0   193.0  \n",
       "18      121.0   204.0  \n",
       "19      104.0   179.0  \n",
       "20      109.0   191.0  \n",
       "25      104.0   179.0  \n",
       "27      111.0   184.0  \n",
       "38      114.0   191.0  \n",
       "39      118.0   198.0  \n",
       "40      123.0   204.0  \n",
       "41      108.0   177.0  \n",
       "42      108.0   177.0  "
      ]
     },
     "execution_count": 298,
     "metadata": {},
     "output_type": "execute_result"
    }
   ],
   "source": [
    "car[(car.Make.isin(['Audi','BMW',\"Honda\"])) & (car.MSRP >= 45000) ]"
   ]
  },
  {
   "cell_type": "markdown",
   "metadata": {},
   "source": [
    "## how to get unique items of a column "
   ]
  },
  {
   "cell_type": "code",
   "execution_count": 299,
   "metadata": {},
   "outputs": [
    {
     "data": {
      "text/plain": [
       "array(['Acura', 'Audi', 'BMW', 'Buick', 'Cadillac', 'Chevrolet',\n",
       "       'Chrysler', 'Dodge', 'Ford', 'GMC', 'Honda', 'Hummer', 'Hyundai',\n",
       "       'Infiniti', 'Isuzu', 'Jaguar', 'Jeep', 'Kia', 'Land Rover',\n",
       "       'Lexus', 'Lincoln', 'MINI', 'Mazda', 'Mercedes-Benz', 'Mercury',\n",
       "       'Mitsubishi', 'Nissan', 'Oldsmobile', 'Pontiac', 'Porsche', 'Saab',\n",
       "       'Saturn', 'Scion', 'Subaru', 'Suzuki', 'Toyota', 'Volkswagen',\n",
       "       'Volvo'], dtype=object)"
      ]
     },
     "execution_count": 299,
     "metadata": {},
     "output_type": "execute_result"
    }
   ],
   "source": [
    "car.Make.unique()"
   ]
  },
  {
   "cell_type": "markdown",
   "metadata": {},
   "source": [
    "## how many unique items are there in a column"
   ]
  },
  {
   "cell_type": "code",
   "execution_count": 300,
   "metadata": {},
   "outputs": [
    {
     "data": {
      "text/plain": [
       "38"
      ]
     },
     "execution_count": 300,
     "metadata": {},
     "output_type": "execute_result"
    }
   ],
   "source": [
    "car.Make.nunique()"
   ]
  },
  {
   "cell_type": "markdown",
   "metadata": {},
   "source": [
    "## Are there any duplicates rows ??? # exact duplicates\n",
    "#### returns a series corresponding each row True or False | True if the row is duplicate of any previous row "
   ]
  },
  {
   "cell_type": "code",
   "execution_count": 303,
   "metadata": {},
   "outputs": [
    {
     "data": {
      "text/plain": [
       "0      False\n",
       "1      False\n",
       "2      False\n",
       "3      False\n",
       "4      False\n",
       "5      False\n",
       "6      False\n",
       "7      False\n",
       "8      False\n",
       "9      False\n",
       "10     False\n",
       "11     False\n",
       "12     False\n",
       "13     False\n",
       "14     False\n",
       "15     False\n",
       "16     False\n",
       "17     False\n",
       "18     False\n",
       "19     False\n",
       "20     False\n",
       "21     False\n",
       "22     False\n",
       "23     False\n",
       "24     False\n",
       "25     False\n",
       "26     False\n",
       "27     False\n",
       "28     False\n",
       "29     False\n",
       "       ...  \n",
       "398    False\n",
       "399    False\n",
       "400    False\n",
       "401    False\n",
       "402    False\n",
       "403    False\n",
       "404    False\n",
       "405    False\n",
       "406    False\n",
       "407    False\n",
       "408    False\n",
       "409    False\n",
       "410    False\n",
       "411    False\n",
       "412    False\n",
       "413    False\n",
       "414    False\n",
       "415    False\n",
       "416    False\n",
       "417    False\n",
       "418    False\n",
       "419    False\n",
       "420    False\n",
       "421    False\n",
       "422    False\n",
       "423    False\n",
       "424    False\n",
       "425    False\n",
       "426    False\n",
       "427    False\n",
       "Length: 428, dtype: bool"
      ]
     },
     "execution_count": 303,
     "metadata": {},
     "output_type": "execute_result"
    }
   ],
   "source": [
    "car.duplicated() "
   ]
  },
  {
   "cell_type": "markdown",
   "metadata": {},
   "source": [
    "## Any row duplicated only for a particular column"
   ]
  },
  {
   "cell_type": "code",
   "execution_count": 304,
   "metadata": {},
   "outputs": [
    {
     "data": {
      "text/plain": [
       "0      False\n",
       "1       True\n",
       "2       True\n",
       "3       True\n",
       "4       True\n",
       "5       True\n",
       "6       True\n",
       "7      False\n",
       "8       True\n",
       "9       True\n",
       "10      True\n",
       "11      True\n",
       "12      True\n",
       "13      True\n",
       "14      True\n",
       "15      True\n",
       "16      True\n",
       "17      True\n",
       "18      True\n",
       "19      True\n",
       "20      True\n",
       "21      True\n",
       "22      True\n",
       "23      True\n",
       "24      True\n",
       "25      True\n",
       "26     False\n",
       "27      True\n",
       "28      True\n",
       "29      True\n",
       "       ...  \n",
       "398     True\n",
       "399     True\n",
       "400     True\n",
       "401    False\n",
       "402     True\n",
       "403     True\n",
       "404     True\n",
       "405     True\n",
       "406     True\n",
       "407     True\n",
       "408     True\n",
       "409     True\n",
       "410     True\n",
       "411     True\n",
       "412     True\n",
       "413     True\n",
       "414     True\n",
       "415     True\n",
       "416    False\n",
       "417     True\n",
       "418     True\n",
       "419     True\n",
       "420     True\n",
       "421     True\n",
       "422     True\n",
       "423     True\n",
       "424     True\n",
       "425     True\n",
       "426     True\n",
       "427     True\n",
       "Length: 428, dtype: bool"
      ]
     },
     "execution_count": 304,
     "metadata": {},
     "output_type": "execute_result"
    }
   ],
   "source": [
    "car.duplicated('Make')"
   ]
  },
  {
   "cell_type": "markdown",
   "metadata": {},
   "source": [
    "## Any row duplicated only for a combination of columns"
   ]
  },
  {
   "cell_type": "code",
   "execution_count": 308,
   "metadata": {},
   "outputs": [
    {
     "data": {
      "text/plain": [
       "True"
      ]
     },
     "execution_count": 308,
     "metadata": {},
     "output_type": "execute_result"
    }
   ],
   "source": [
    "car.duplicated(['Make','Model']).any() # returns true if there is even a single true value"
   ]
  },
  {
   "cell_type": "code",
   "execution_count": 309,
   "metadata": {},
   "outputs": [
    {
     "data": {
      "text/html": [
       "<div>\n",
       "<style scoped>\n",
       "    .dataframe tbody tr th:only-of-type {\n",
       "        vertical-align: middle;\n",
       "    }\n",
       "\n",
       "    .dataframe tbody tr th {\n",
       "        vertical-align: top;\n",
       "    }\n",
       "\n",
       "    .dataframe thead th {\n",
       "        text-align: right;\n",
       "    }\n",
       "</style>\n",
       "<table border=\"1\" class=\"dataframe\">\n",
       "  <thead>\n",
       "    <tr style=\"text-align: right;\">\n",
       "      <th></th>\n",
       "      <th>Make</th>\n",
       "      <th>Model</th>\n",
       "      <th>Type</th>\n",
       "      <th>Origin</th>\n",
       "      <th>DriveTrain</th>\n",
       "      <th>MSRP</th>\n",
       "      <th>Invoice</th>\n",
       "      <th>EngineSize</th>\n",
       "      <th>Cylinders</th>\n",
       "      <th>Horsepower</th>\n",
       "      <th>MPG_City</th>\n",
       "      <th>MPG_Highway</th>\n",
       "      <th>Weight</th>\n",
       "      <th>Wheelbase</th>\n",
       "      <th>Length</th>\n",
       "    </tr>\n",
       "  </thead>\n",
       "  <tbody>\n",
       "    <tr>\n",
       "      <th>181</th>\n",
       "      <td>Infiniti</td>\n",
       "      <td>G35 4dr</td>\n",
       "      <td>Sedan</td>\n",
       "      <td>Asia</td>\n",
       "      <td>All</td>\n",
       "      <td>32445.0</td>\n",
       "      <td>29783.0</td>\n",
       "      <td>3.5</td>\n",
       "      <td>6.0</td>\n",
       "      <td>260.0</td>\n",
       "      <td>18.0</td>\n",
       "      <td>26.0</td>\n",
       "      <td>3677.0</td>\n",
       "      <td>112.0</td>\n",
       "      <td>187.0</td>\n",
       "    </tr>\n",
       "    <tr>\n",
       "      <th>256</th>\n",
       "      <td>Mercedes-Benz</td>\n",
       "      <td>C240 4dr</td>\n",
       "      <td>Sedan</td>\n",
       "      <td>Europe</td>\n",
       "      <td>All</td>\n",
       "      <td>33480.0</td>\n",
       "      <td>31187.0</td>\n",
       "      <td>2.6</td>\n",
       "      <td>6.0</td>\n",
       "      <td>168.0</td>\n",
       "      <td>19.0</td>\n",
       "      <td>25.0</td>\n",
       "      <td>3360.0</td>\n",
       "      <td>107.0</td>\n",
       "      <td>178.0</td>\n",
       "    </tr>\n",
       "    <tr>\n",
       "      <th>259</th>\n",
       "      <td>Mercedes-Benz</td>\n",
       "      <td>C320 4dr</td>\n",
       "      <td>Sedan</td>\n",
       "      <td>Europe</td>\n",
       "      <td>All</td>\n",
       "      <td>38830.0</td>\n",
       "      <td>36162.0</td>\n",
       "      <td>3.2</td>\n",
       "      <td>6.0</td>\n",
       "      <td>215.0</td>\n",
       "      <td>19.0</td>\n",
       "      <td>27.0</td>\n",
       "      <td>3450.0</td>\n",
       "      <td>107.0</td>\n",
       "      <td>178.0</td>\n",
       "    </tr>\n",
       "  </tbody>\n",
       "</table>\n",
       "</div>"
      ],
      "text/plain": [
       "              Make      Model   Type  Origin DriveTrain     MSRP  Invoice  \\\n",
       "181       Infiniti    G35 4dr  Sedan    Asia        All  32445.0  29783.0   \n",
       "256  Mercedes-Benz   C240 4dr  Sedan  Europe        All  33480.0  31187.0   \n",
       "259  Mercedes-Benz   C320 4dr  Sedan  Europe        All  38830.0  36162.0   \n",
       "\n",
       "     EngineSize  Cylinders  Horsepower  MPG_City  MPG_Highway  Weight  \\\n",
       "181         3.5        6.0       260.0      18.0         26.0  3677.0   \n",
       "256         2.6        6.0       168.0      19.0         25.0  3360.0   \n",
       "259         3.2        6.0       215.0      19.0         27.0  3450.0   \n",
       "\n",
       "     Wheelbase  Length  \n",
       "181      112.0   187.0  \n",
       "256      107.0   178.0  \n",
       "259      107.0   178.0  "
      ]
     },
     "execution_count": 309,
     "metadata": {},
     "output_type": "execute_result"
    }
   ],
   "source": [
    "car[car.duplicated(['Make','Model'])]"
   ]
  },
  {
   "cell_type": "markdown",
   "metadata": {},
   "source": [
    "### filter data for Make = Mercedes-Benz Model = C320 4dr"
   ]
  },
  {
   "cell_type": "code",
   "execution_count": 315,
   "metadata": {},
   "outputs": [
    {
     "data": {
      "text/html": [
       "<div>\n",
       "<style scoped>\n",
       "    .dataframe tbody tr th:only-of-type {\n",
       "        vertical-align: middle;\n",
       "    }\n",
       "\n",
       "    .dataframe tbody tr th {\n",
       "        vertical-align: top;\n",
       "    }\n",
       "\n",
       "    .dataframe thead th {\n",
       "        text-align: right;\n",
       "    }\n",
       "</style>\n",
       "<table border=\"1\" class=\"dataframe\">\n",
       "  <thead>\n",
       "    <tr style=\"text-align: right;\">\n",
       "      <th></th>\n",
       "      <th>Make</th>\n",
       "      <th>Model</th>\n",
       "      <th>Type</th>\n",
       "      <th>Origin</th>\n",
       "      <th>DriveTrain</th>\n",
       "      <th>MSRP</th>\n",
       "      <th>Invoice</th>\n",
       "      <th>EngineSize</th>\n",
       "      <th>Cylinders</th>\n",
       "      <th>Horsepower</th>\n",
       "      <th>MPG_City</th>\n",
       "      <th>MPG_Highway</th>\n",
       "      <th>Weight</th>\n",
       "      <th>Wheelbase</th>\n",
       "      <th>Length</th>\n",
       "    </tr>\n",
       "  </thead>\n",
       "  <tbody>\n",
       "    <tr>\n",
       "      <th>258</th>\n",
       "      <td>Mercedes-Benz</td>\n",
       "      <td>C320 4dr</td>\n",
       "      <td>Sedan</td>\n",
       "      <td>Europe</td>\n",
       "      <td>Rear</td>\n",
       "      <td>37630.0</td>\n",
       "      <td>35046.0</td>\n",
       "      <td>3.2</td>\n",
       "      <td>6.0</td>\n",
       "      <td>215.0</td>\n",
       "      <td>20.0</td>\n",
       "      <td>26.0</td>\n",
       "      <td>3450.0</td>\n",
       "      <td>107.0</td>\n",
       "      <td>178.0</td>\n",
       "    </tr>\n",
       "    <tr>\n",
       "      <th>259</th>\n",
       "      <td>Mercedes-Benz</td>\n",
       "      <td>C320 4dr</td>\n",
       "      <td>Sedan</td>\n",
       "      <td>Europe</td>\n",
       "      <td>All</td>\n",
       "      <td>38830.0</td>\n",
       "      <td>36162.0</td>\n",
       "      <td>3.2</td>\n",
       "      <td>6.0</td>\n",
       "      <td>215.0</td>\n",
       "      <td>19.0</td>\n",
       "      <td>27.0</td>\n",
       "      <td>3450.0</td>\n",
       "      <td>107.0</td>\n",
       "      <td>178.0</td>\n",
       "    </tr>\n",
       "  </tbody>\n",
       "</table>\n",
       "</div>"
      ],
      "text/plain": [
       "              Make      Model   Type  Origin DriveTrain     MSRP  Invoice  \\\n",
       "258  Mercedes-Benz   C320 4dr  Sedan  Europe       Rear  37630.0  35046.0   \n",
       "259  Mercedes-Benz   C320 4dr  Sedan  Europe        All  38830.0  36162.0   \n",
       "\n",
       "     EngineSize  Cylinders  Horsepower  MPG_City  MPG_Highway  Weight  \\\n",
       "258         3.2        6.0       215.0      20.0         26.0  3450.0   \n",
       "259         3.2        6.0       215.0      19.0         27.0  3450.0   \n",
       "\n",
       "     Wheelbase  Length  \n",
       "258      107.0   178.0  \n",
       "259      107.0   178.0  "
      ]
     },
     "execution_count": 315,
     "metadata": {},
     "output_type": "execute_result"
    }
   ],
   "source": [
    "car[(car.Make == 'Mercedes-Benz') & (car.Model == ' C320 4dr')]"
   ]
  },
  {
   "cell_type": "code",
   "execution_count": null,
   "metadata": {},
   "outputs": [],
   "source": []
  },
  {
   "cell_type": "code",
   "execution_count": null,
   "metadata": {},
   "outputs": [],
   "source": []
  }
 ],
 "metadata": {
  "kernelspec": {
   "display_name": "Python 3",
   "language": "python",
   "name": "python3"
  },
  "language_info": {
   "codemirror_mode": {
    "name": "ipython",
    "version": 3
   },
   "file_extension": ".py",
   "mimetype": "text/x-python",
   "name": "python",
   "nbconvert_exporter": "python",
   "pygments_lexer": "ipython3",
   "version": "3.7.3"
  }
 },
 "nbformat": 4,
 "nbformat_minor": 2
}
